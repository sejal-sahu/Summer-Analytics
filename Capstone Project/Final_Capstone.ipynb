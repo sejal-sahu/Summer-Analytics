{
  "cells": [
    {
      "cell_type": "markdown",
      "metadata": {
        "id": "wif8v0Oj06dc"
      },
      "source": [
        "# SUMMER ANALYTICS 2023\n",
        "\n",
        "## WEEK-4 ASSIGNMENT"
      ]
    },
    {
      "cell_type": "markdown",
      "metadata": {
        "id": "bQ7q5qJ76dKM"
      },
      "source": [
        "# New Section"
      ]
    },
    {
      "cell_type": "code",
      "execution_count": null,
      "metadata": {
        "id": "iE-YDRYYRPh7"
      },
      "outputs": [],
      "source": [
        "import numpy as np # linear algebra\n",
        "import pandas as pd # data processing, CSV file I/O (e.g. pd.read_csv)\n",
        "import matplotlib.pyplot as plt # data visualization\n",
        "import seaborn as sns # statistical data visualization\n",
        "from sklearn.preprocessing import LabelEncoder\n",
        "%matplotlib inline\n",
        "import warnings\n",
        "warnings.filterwarnings('ignore')"
      ]
    },
    {
      "cell_type": "markdown",
      "metadata": {
        "id": "0RNgIwiONc5G"
      },
      "source": [
        "**Let's explore the dataset shall we?**"
      ]
    },
    {
      "cell_type": "code",
      "execution_count": null,
      "metadata": {
        "colab": {
          "base_uri": "https://localhost:8080/",
          "height": 270
        },
        "id": "g8GUshlWRdsQ",
        "outputId": "af49fc8b-6027-4a52-da10-dcb2e4b4eb03"
      },
      "outputs": [
        {
          "output_type": "execute_result",
          "data": {
            "text/plain": [
              "   index pc      ld     m0    m1     m2       m3        m4       m5        m6  \\\n",
              "0      0  E  156.46   73.5   8.8  105.0  13.2768  113.5365  13.9552  168.5460   \n",
              "1      1  y   58.87   84.0  12.8   42.0  14.4440  126.6930  13.6688  190.6275   \n",
              "2      2  w  139.68  126.0   3.2   73.5  14.2432  107.4885  13.8544  168.3255   \n",
              "3      3  z  194.06   52.5   6.4  105.0  14.5480  138.6105  13.5080  196.6545   \n",
              "4      4  x  173.14   42.0   8.0  136.5  14.9496  103.8765  13.8936  168.3570   \n",
              "\n",
              "        m7        m8       m9       m10      m11       m12      m13       m14  \\\n",
              "0   8.5896  187.6560   8.3472  178.5945  14.3192  138.0435  12.7008  166.1100   \n",
              "1  10.1712  202.5870   8.5416  166.9815  15.5944  142.5690  11.6832  177.7230   \n",
              "2  10.2504  214.2735  11.3392  155.1795  16.0256  132.1005  13.0104  185.6085   \n",
              "3  10.6304  213.4650   9.9224  191.1000  14.8256  128.0475  12.1984  180.2745   \n",
              "4   9.6184  191.2050   9.9400  185.0310  13.8664  124.7610      NaN  157.6470   \n",
              "\n",
              "    ma  \n",
              "0  m76  \n",
              "1  m78  \n",
              "2  m78  \n",
              "3  m75  \n",
              "4  m55  "
            ],
            "text/html": [
              "\n",
              "  <div id=\"df-e1bc7a72-1d34-44e6-9139-86827ac8ab2c\">\n",
              "    <div class=\"colab-df-container\">\n",
              "      <div>\n",
              "<style scoped>\n",
              "    .dataframe tbody tr th:only-of-type {\n",
              "        vertical-align: middle;\n",
              "    }\n",
              "\n",
              "    .dataframe tbody tr th {\n",
              "        vertical-align: top;\n",
              "    }\n",
              "\n",
              "    .dataframe thead th {\n",
              "        text-align: right;\n",
              "    }\n",
              "</style>\n",
              "<table border=\"1\" class=\"dataframe\">\n",
              "  <thead>\n",
              "    <tr style=\"text-align: right;\">\n",
              "      <th></th>\n",
              "      <th>index</th>\n",
              "      <th>pc</th>\n",
              "      <th>ld</th>\n",
              "      <th>m0</th>\n",
              "      <th>m1</th>\n",
              "      <th>m2</th>\n",
              "      <th>m3</th>\n",
              "      <th>m4</th>\n",
              "      <th>m5</th>\n",
              "      <th>m6</th>\n",
              "      <th>m7</th>\n",
              "      <th>m8</th>\n",
              "      <th>m9</th>\n",
              "      <th>m10</th>\n",
              "      <th>m11</th>\n",
              "      <th>m12</th>\n",
              "      <th>m13</th>\n",
              "      <th>m14</th>\n",
              "      <th>ma</th>\n",
              "    </tr>\n",
              "  </thead>\n",
              "  <tbody>\n",
              "    <tr>\n",
              "      <th>0</th>\n",
              "      <td>0</td>\n",
              "      <td>E</td>\n",
              "      <td>156.46</td>\n",
              "      <td>73.5</td>\n",
              "      <td>8.8</td>\n",
              "      <td>105.0</td>\n",
              "      <td>13.2768</td>\n",
              "      <td>113.5365</td>\n",
              "      <td>13.9552</td>\n",
              "      <td>168.5460</td>\n",
              "      <td>8.5896</td>\n",
              "      <td>187.6560</td>\n",
              "      <td>8.3472</td>\n",
              "      <td>178.5945</td>\n",
              "      <td>14.3192</td>\n",
              "      <td>138.0435</td>\n",
              "      <td>12.7008</td>\n",
              "      <td>166.1100</td>\n",
              "      <td>m76</td>\n",
              "    </tr>\n",
              "    <tr>\n",
              "      <th>1</th>\n",
              "      <td>1</td>\n",
              "      <td>y</td>\n",
              "      <td>58.87</td>\n",
              "      <td>84.0</td>\n",
              "      <td>12.8</td>\n",
              "      <td>42.0</td>\n",
              "      <td>14.4440</td>\n",
              "      <td>126.6930</td>\n",
              "      <td>13.6688</td>\n",
              "      <td>190.6275</td>\n",
              "      <td>10.1712</td>\n",
              "      <td>202.5870</td>\n",
              "      <td>8.5416</td>\n",
              "      <td>166.9815</td>\n",
              "      <td>15.5944</td>\n",
              "      <td>142.5690</td>\n",
              "      <td>11.6832</td>\n",
              "      <td>177.7230</td>\n",
              "      <td>m78</td>\n",
              "    </tr>\n",
              "    <tr>\n",
              "      <th>2</th>\n",
              "      <td>2</td>\n",
              "      <td>w</td>\n",
              "      <td>139.68</td>\n",
              "      <td>126.0</td>\n",
              "      <td>3.2</td>\n",
              "      <td>73.5</td>\n",
              "      <td>14.2432</td>\n",
              "      <td>107.4885</td>\n",
              "      <td>13.8544</td>\n",
              "      <td>168.3255</td>\n",
              "      <td>10.2504</td>\n",
              "      <td>214.2735</td>\n",
              "      <td>11.3392</td>\n",
              "      <td>155.1795</td>\n",
              "      <td>16.0256</td>\n",
              "      <td>132.1005</td>\n",
              "      <td>13.0104</td>\n",
              "      <td>185.6085</td>\n",
              "      <td>m78</td>\n",
              "    </tr>\n",
              "    <tr>\n",
              "      <th>3</th>\n",
              "      <td>3</td>\n",
              "      <td>z</td>\n",
              "      <td>194.06</td>\n",
              "      <td>52.5</td>\n",
              "      <td>6.4</td>\n",
              "      <td>105.0</td>\n",
              "      <td>14.5480</td>\n",
              "      <td>138.6105</td>\n",
              "      <td>13.5080</td>\n",
              "      <td>196.6545</td>\n",
              "      <td>10.6304</td>\n",
              "      <td>213.4650</td>\n",
              "      <td>9.9224</td>\n",
              "      <td>191.1000</td>\n",
              "      <td>14.8256</td>\n",
              "      <td>128.0475</td>\n",
              "      <td>12.1984</td>\n",
              "      <td>180.2745</td>\n",
              "      <td>m75</td>\n",
              "    </tr>\n",
              "    <tr>\n",
              "      <th>4</th>\n",
              "      <td>4</td>\n",
              "      <td>x</td>\n",
              "      <td>173.14</td>\n",
              "      <td>42.0</td>\n",
              "      <td>8.0</td>\n",
              "      <td>136.5</td>\n",
              "      <td>14.9496</td>\n",
              "      <td>103.8765</td>\n",
              "      <td>13.8936</td>\n",
              "      <td>168.3570</td>\n",
              "      <td>9.6184</td>\n",
              "      <td>191.2050</td>\n",
              "      <td>9.9400</td>\n",
              "      <td>185.0310</td>\n",
              "      <td>13.8664</td>\n",
              "      <td>124.7610</td>\n",
              "      <td>NaN</td>\n",
              "      <td>157.6470</td>\n",
              "      <td>m55</td>\n",
              "    </tr>\n",
              "  </tbody>\n",
              "</table>\n",
              "</div>\n",
              "      <button class=\"colab-df-convert\" onclick=\"convertToInteractive('df-e1bc7a72-1d34-44e6-9139-86827ac8ab2c')\"\n",
              "              title=\"Convert this dataframe to an interactive table.\"\n",
              "              style=\"display:none;\">\n",
              "        \n",
              "  <svg xmlns=\"http://www.w3.org/2000/svg\" height=\"24px\"viewBox=\"0 0 24 24\"\n",
              "       width=\"24px\">\n",
              "    <path d=\"M0 0h24v24H0V0z\" fill=\"none\"/>\n",
              "    <path d=\"M18.56 5.44l.94 2.06.94-2.06 2.06-.94-2.06-.94-.94-2.06-.94 2.06-2.06.94zm-11 1L8.5 8.5l.94-2.06 2.06-.94-2.06-.94L8.5 2.5l-.94 2.06-2.06.94zm10 10l.94 2.06.94-2.06 2.06-.94-2.06-.94-.94-2.06-.94 2.06-2.06.94z\"/><path d=\"M17.41 7.96l-1.37-1.37c-.4-.4-.92-.59-1.43-.59-.52 0-1.04.2-1.43.59L10.3 9.45l-7.72 7.72c-.78.78-.78 2.05 0 2.83L4 21.41c.39.39.9.59 1.41.59.51 0 1.02-.2 1.41-.59l7.78-7.78 2.81-2.81c.8-.78.8-2.07 0-2.86zM5.41 20L4 18.59l7.72-7.72 1.47 1.35L5.41 20z\"/>\n",
              "  </svg>\n",
              "      </button>\n",
              "      \n",
              "  <style>\n",
              "    .colab-df-container {\n",
              "      display:flex;\n",
              "      flex-wrap:wrap;\n",
              "      gap: 12px;\n",
              "    }\n",
              "\n",
              "    .colab-df-convert {\n",
              "      background-color: #E8F0FE;\n",
              "      border: none;\n",
              "      border-radius: 50%;\n",
              "      cursor: pointer;\n",
              "      display: none;\n",
              "      fill: #1967D2;\n",
              "      height: 32px;\n",
              "      padding: 0 0 0 0;\n",
              "      width: 32px;\n",
              "    }\n",
              "\n",
              "    .colab-df-convert:hover {\n",
              "      background-color: #E2EBFA;\n",
              "      box-shadow: 0px 1px 2px rgba(60, 64, 67, 0.3), 0px 1px 3px 1px rgba(60, 64, 67, 0.15);\n",
              "      fill: #174EA6;\n",
              "    }\n",
              "\n",
              "    [theme=dark] .colab-df-convert {\n",
              "      background-color: #3B4455;\n",
              "      fill: #D2E3FC;\n",
              "    }\n",
              "\n",
              "    [theme=dark] .colab-df-convert:hover {\n",
              "      background-color: #434B5C;\n",
              "      box-shadow: 0px 1px 3px 1px rgba(0, 0, 0, 0.15);\n",
              "      filter: drop-shadow(0px 1px 2px rgba(0, 0, 0, 0.3));\n",
              "      fill: #FFFFFF;\n",
              "    }\n",
              "  </style>\n",
              "\n",
              "      <script>\n",
              "        const buttonEl =\n",
              "          document.querySelector('#df-e1bc7a72-1d34-44e6-9139-86827ac8ab2c button.colab-df-convert');\n",
              "        buttonEl.style.display =\n",
              "          google.colab.kernel.accessAllowed ? 'block' : 'none';\n",
              "\n",
              "        async function convertToInteractive(key) {\n",
              "          const element = document.querySelector('#df-e1bc7a72-1d34-44e6-9139-86827ac8ab2c');\n",
              "          const dataTable =\n",
              "            await google.colab.kernel.invokeFunction('convertToInteractive',\n",
              "                                                     [key], {});\n",
              "          if (!dataTable) return;\n",
              "\n",
              "          const docLinkHtml = 'Like what you see? Visit the ' +\n",
              "            '<a target=\"_blank\" href=https://colab.research.google.com/notebooks/data_table.ipynb>data table notebook</a>'\n",
              "            + ' to learn more about interactive tables.';\n",
              "          element.innerHTML = '';\n",
              "          dataTable['output_type'] = 'display_data';\n",
              "          await google.colab.output.renderOutput(dataTable, element);\n",
              "          const docLink = document.createElement('div');\n",
              "          docLink.innerHTML = docLinkHtml;\n",
              "          element.appendChild(docLink);\n",
              "        }\n",
              "      </script>\n",
              "    </div>\n",
              "  </div>\n",
              "  "
            ]
          },
          "metadata": {},
          "execution_count": 449
        }
      ],
      "source": [
        "# Read the csv file as data\n",
        "df = pd.read_csv(\"Train_Data.csv\")\n",
        "df_test = pd.read_csv(\"Test_Data.csv\")\n",
        "# you may print first few rows\n",
        "df_test.head()\n"
      ]
    },
    {
      "cell_type": "code",
      "source": [
        "df_test.drop(['index'], inplace=True, axis=1)"
      ],
      "metadata": {
        "id": "Nm8Qbop9HLkH"
      },
      "execution_count": null,
      "outputs": []
    },
    {
      "cell_type": "code",
      "source": [
        "df_test.head()"
      ],
      "metadata": {
        "colab": {
          "base_uri": "https://localhost:8080/",
          "height": 270
        },
        "id": "JtouZaX8xuS4",
        "outputId": "f7a2f6a9-a4a7-4331-d949-9962da24611f"
      },
      "execution_count": null,
      "outputs": [
        {
          "output_type": "execute_result",
          "data": {
            "text/plain": [
              "   index pc      ld     m0    m1     m2       m3        m4       m5        m6  \\\n",
              "0      0  E  156.46   73.5   8.8  105.0  13.2768  113.5365  13.9552  168.5460   \n",
              "1      1  y   58.87   84.0  12.8   42.0  14.4440  126.6930  13.6688  190.6275   \n",
              "2      2  w  139.68  126.0   3.2   73.5  14.2432  107.4885  13.8544  168.3255   \n",
              "3      3  z  194.06   52.5   6.4  105.0  14.5480  138.6105  13.5080  196.6545   \n",
              "4      4  x  173.14   42.0   8.0  136.5  14.9496  103.8765  13.8936  168.3570   \n",
              "\n",
              "        m7        m8       m9       m10      m11       m12      m13       m14  \\\n",
              "0   8.5896  187.6560   8.3472  178.5945  14.3192  138.0435  12.7008  166.1100   \n",
              "1  10.1712  202.5870   8.5416  166.9815  15.5944  142.5690  11.6832  177.7230   \n",
              "2  10.2504  214.2735  11.3392  155.1795  16.0256  132.1005  13.0104  185.6085   \n",
              "3  10.6304  213.4650   9.9224  191.1000  14.8256  128.0475  12.1984  180.2745   \n",
              "4   9.6184  191.2050   9.9400  185.0310  13.8664  124.7610      NaN  157.6470   \n",
              "\n",
              "    ma  \n",
              "0  m76  \n",
              "1  m78  \n",
              "2  m78  \n",
              "3  m75  \n",
              "4  m55  "
            ],
            "text/html": [
              "\n",
              "  <div id=\"df-b93434fd-dea4-4745-9499-5ceeafc3099b\">\n",
              "    <div class=\"colab-df-container\">\n",
              "      <div>\n",
              "<style scoped>\n",
              "    .dataframe tbody tr th:only-of-type {\n",
              "        vertical-align: middle;\n",
              "    }\n",
              "\n",
              "    .dataframe tbody tr th {\n",
              "        vertical-align: top;\n",
              "    }\n",
              "\n",
              "    .dataframe thead th {\n",
              "        text-align: right;\n",
              "    }\n",
              "</style>\n",
              "<table border=\"1\" class=\"dataframe\">\n",
              "  <thead>\n",
              "    <tr style=\"text-align: right;\">\n",
              "      <th></th>\n",
              "      <th>index</th>\n",
              "      <th>pc</th>\n",
              "      <th>ld</th>\n",
              "      <th>m0</th>\n",
              "      <th>m1</th>\n",
              "      <th>m2</th>\n",
              "      <th>m3</th>\n",
              "      <th>m4</th>\n",
              "      <th>m5</th>\n",
              "      <th>m6</th>\n",
              "      <th>m7</th>\n",
              "      <th>m8</th>\n",
              "      <th>m9</th>\n",
              "      <th>m10</th>\n",
              "      <th>m11</th>\n",
              "      <th>m12</th>\n",
              "      <th>m13</th>\n",
              "      <th>m14</th>\n",
              "      <th>ma</th>\n",
              "    </tr>\n",
              "  </thead>\n",
              "  <tbody>\n",
              "    <tr>\n",
              "      <th>0</th>\n",
              "      <td>0</td>\n",
              "      <td>E</td>\n",
              "      <td>156.46</td>\n",
              "      <td>73.5</td>\n",
              "      <td>8.8</td>\n",
              "      <td>105.0</td>\n",
              "      <td>13.2768</td>\n",
              "      <td>113.5365</td>\n",
              "      <td>13.9552</td>\n",
              "      <td>168.5460</td>\n",
              "      <td>8.5896</td>\n",
              "      <td>187.6560</td>\n",
              "      <td>8.3472</td>\n",
              "      <td>178.5945</td>\n",
              "      <td>14.3192</td>\n",
              "      <td>138.0435</td>\n",
              "      <td>12.7008</td>\n",
              "      <td>166.1100</td>\n",
              "      <td>m76</td>\n",
              "    </tr>\n",
              "    <tr>\n",
              "      <th>1</th>\n",
              "      <td>1</td>\n",
              "      <td>y</td>\n",
              "      <td>58.87</td>\n",
              "      <td>84.0</td>\n",
              "      <td>12.8</td>\n",
              "      <td>42.0</td>\n",
              "      <td>14.4440</td>\n",
              "      <td>126.6930</td>\n",
              "      <td>13.6688</td>\n",
              "      <td>190.6275</td>\n",
              "      <td>10.1712</td>\n",
              "      <td>202.5870</td>\n",
              "      <td>8.5416</td>\n",
              "      <td>166.9815</td>\n",
              "      <td>15.5944</td>\n",
              "      <td>142.5690</td>\n",
              "      <td>11.6832</td>\n",
              "      <td>177.7230</td>\n",
              "      <td>m78</td>\n",
              "    </tr>\n",
              "    <tr>\n",
              "      <th>2</th>\n",
              "      <td>2</td>\n",
              "      <td>w</td>\n",
              "      <td>139.68</td>\n",
              "      <td>126.0</td>\n",
              "      <td>3.2</td>\n",
              "      <td>73.5</td>\n",
              "      <td>14.2432</td>\n",
              "      <td>107.4885</td>\n",
              "      <td>13.8544</td>\n",
              "      <td>168.3255</td>\n",
              "      <td>10.2504</td>\n",
              "      <td>214.2735</td>\n",
              "      <td>11.3392</td>\n",
              "      <td>155.1795</td>\n",
              "      <td>16.0256</td>\n",
              "      <td>132.1005</td>\n",
              "      <td>13.0104</td>\n",
              "      <td>185.6085</td>\n",
              "      <td>m78</td>\n",
              "    </tr>\n",
              "    <tr>\n",
              "      <th>3</th>\n",
              "      <td>3</td>\n",
              "      <td>z</td>\n",
              "      <td>194.06</td>\n",
              "      <td>52.5</td>\n",
              "      <td>6.4</td>\n",
              "      <td>105.0</td>\n",
              "      <td>14.5480</td>\n",
              "      <td>138.6105</td>\n",
              "      <td>13.5080</td>\n",
              "      <td>196.6545</td>\n",
              "      <td>10.6304</td>\n",
              "      <td>213.4650</td>\n",
              "      <td>9.9224</td>\n",
              "      <td>191.1000</td>\n",
              "      <td>14.8256</td>\n",
              "      <td>128.0475</td>\n",
              "      <td>12.1984</td>\n",
              "      <td>180.2745</td>\n",
              "      <td>m75</td>\n",
              "    </tr>\n",
              "    <tr>\n",
              "      <th>4</th>\n",
              "      <td>4</td>\n",
              "      <td>x</td>\n",
              "      <td>173.14</td>\n",
              "      <td>42.0</td>\n",
              "      <td>8.0</td>\n",
              "      <td>136.5</td>\n",
              "      <td>14.9496</td>\n",
              "      <td>103.8765</td>\n",
              "      <td>13.8936</td>\n",
              "      <td>168.3570</td>\n",
              "      <td>9.6184</td>\n",
              "      <td>191.2050</td>\n",
              "      <td>9.9400</td>\n",
              "      <td>185.0310</td>\n",
              "      <td>13.8664</td>\n",
              "      <td>124.7610</td>\n",
              "      <td>NaN</td>\n",
              "      <td>157.6470</td>\n",
              "      <td>m55</td>\n",
              "    </tr>\n",
              "  </tbody>\n",
              "</table>\n",
              "</div>\n",
              "      <button class=\"colab-df-convert\" onclick=\"convertToInteractive('df-b93434fd-dea4-4745-9499-5ceeafc3099b')\"\n",
              "              title=\"Convert this dataframe to an interactive table.\"\n",
              "              style=\"display:none;\">\n",
              "        \n",
              "  <svg xmlns=\"http://www.w3.org/2000/svg\" height=\"24px\"viewBox=\"0 0 24 24\"\n",
              "       width=\"24px\">\n",
              "    <path d=\"M0 0h24v24H0V0z\" fill=\"none\"/>\n",
              "    <path d=\"M18.56 5.44l.94 2.06.94-2.06 2.06-.94-2.06-.94-.94-2.06-.94 2.06-2.06.94zm-11 1L8.5 8.5l.94-2.06 2.06-.94-2.06-.94L8.5 2.5l-.94 2.06-2.06.94zm10 10l.94 2.06.94-2.06 2.06-.94-2.06-.94-.94-2.06-.94 2.06-2.06.94z\"/><path d=\"M17.41 7.96l-1.37-1.37c-.4-.4-.92-.59-1.43-.59-.52 0-1.04.2-1.43.59L10.3 9.45l-7.72 7.72c-.78.78-.78 2.05 0 2.83L4 21.41c.39.39.9.59 1.41.59.51 0 1.02-.2 1.41-.59l7.78-7.78 2.81-2.81c.8-.78.8-2.07 0-2.86zM5.41 20L4 18.59l7.72-7.72 1.47 1.35L5.41 20z\"/>\n",
              "  </svg>\n",
              "      </button>\n",
              "      \n",
              "  <style>\n",
              "    .colab-df-container {\n",
              "      display:flex;\n",
              "      flex-wrap:wrap;\n",
              "      gap: 12px;\n",
              "    }\n",
              "\n",
              "    .colab-df-convert {\n",
              "      background-color: #E8F0FE;\n",
              "      border: none;\n",
              "      border-radius: 50%;\n",
              "      cursor: pointer;\n",
              "      display: none;\n",
              "      fill: #1967D2;\n",
              "      height: 32px;\n",
              "      padding: 0 0 0 0;\n",
              "      width: 32px;\n",
              "    }\n",
              "\n",
              "    .colab-df-convert:hover {\n",
              "      background-color: #E2EBFA;\n",
              "      box-shadow: 0px 1px 2px rgba(60, 64, 67, 0.3), 0px 1px 3px 1px rgba(60, 64, 67, 0.15);\n",
              "      fill: #174EA6;\n",
              "    }\n",
              "\n",
              "    [theme=dark] .colab-df-convert {\n",
              "      background-color: #3B4455;\n",
              "      fill: #D2E3FC;\n",
              "    }\n",
              "\n",
              "    [theme=dark] .colab-df-convert:hover {\n",
              "      background-color: #434B5C;\n",
              "      box-shadow: 0px 1px 3px 1px rgba(0, 0, 0, 0.15);\n",
              "      filter: drop-shadow(0px 1px 2px rgba(0, 0, 0, 0.3));\n",
              "      fill: #FFFFFF;\n",
              "    }\n",
              "  </style>\n",
              "\n",
              "      <script>\n",
              "        const buttonEl =\n",
              "          document.querySelector('#df-b93434fd-dea4-4745-9499-5ceeafc3099b button.colab-df-convert');\n",
              "        buttonEl.style.display =\n",
              "          google.colab.kernel.accessAllowed ? 'block' : 'none';\n",
              "\n",
              "        async function convertToInteractive(key) {\n",
              "          const element = document.querySelector('#df-b93434fd-dea4-4745-9499-5ceeafc3099b');\n",
              "          const dataTable =\n",
              "            await google.colab.kernel.invokeFunction('convertToInteractive',\n",
              "                                                     [key], {});\n",
              "          if (!dataTable) return;\n",
              "\n",
              "          const docLinkHtml = 'Like what you see? Visit the ' +\n",
              "            '<a target=\"_blank\" href=https://colab.research.google.com/notebooks/data_table.ipynb>data table notebook</a>'\n",
              "            + ' to learn more about interactive tables.';\n",
              "          element.innerHTML = '';\n",
              "          dataTable['output_type'] = 'display_data';\n",
              "          await google.colab.output.renderOutput(dataTable, element);\n",
              "          const docLink = document.createElement('div');\n",
              "          docLink.innerHTML = docLinkHtml;\n",
              "          element.appendChild(docLink);\n",
              "        }\n",
              "      </script>\n",
              "    </div>\n",
              "  </div>\n",
              "  "
            ]
          },
          "metadata": {},
          "execution_count": 450
        }
      ]
    },
    {
      "cell_type": "code",
      "execution_count": null,
      "metadata": {
        "colab": {
          "base_uri": "https://localhost:8080/"
        },
        "id": "JwPs1FWHRvp1",
        "outputId": "24861140-9518-448c-c06c-322c9e4dcec5"
      },
      "outputs": [
        {
          "output_type": "execute_result",
          "data": {
            "text/plain": [
              "(3986, 18)"
            ]
          },
          "metadata": {},
          "execution_count": 183
        }
      ],
      "source": [
        "df_test.shape"
      ]
    },
    {
      "cell_type": "code",
      "source": [
        "df.pred.value_counts()"
      ],
      "metadata": {
        "colab": {
          "base_uri": "https://localhost:8080/"
        },
        "id": "eciDshC82stg",
        "outputId": "561eead1-866c-4a3f-87e2-a9fd37843f6b"
      },
      "execution_count": null,
      "outputs": [
        {
          "output_type": "execute_result",
          "data": {
            "text/plain": [
              "0    17711\n",
              "1     4873\n",
              "Name: pred, dtype: int64"
            ]
          },
          "metadata": {},
          "execution_count": 451
        }
      ]
    },
    {
      "cell_type": "code",
      "source": [
        "# # sns.rugplot(data=df, x=\"ma\", y=\"pred\")\n",
        "# plt.figure(figsize=(15,10))\n",
        "# sns.heatmap(df.corr(), cmap=\"YlGnBu\", annot=True)"
      ],
      "metadata": {
        "id": "l79qBJmxKEen"
      },
      "execution_count": null,
      "outputs": []
    },
    {
      "cell_type": "code",
      "source": [
        "# df.corr().pred"
      ],
      "metadata": {
        "id": "Df5LmwO1yYpP"
      },
      "execution_count": null,
      "outputs": []
    },
    {
      "cell_type": "code",
      "source": [
        "# df2 = df*df.corr().pred\n",
        "# df2.head()"
      ],
      "metadata": {
        "id": "8X_S3xWjykZ9"
      },
      "execution_count": null,
      "outputs": []
    },
    {
      "cell_type": "code",
      "source": [
        "# df.isna().sum()"
      ],
      "metadata": {
        "id": "mHtBGK8lyaOc"
      },
      "execution_count": null,
      "outputs": []
    },
    {
      "cell_type": "markdown",
      "metadata": {
        "id": "XEd63OSL0ivl"
      },
      "source": [
        "**Declare feature vector and target variable**"
      ]
    },
    {
      "cell_type": "code",
      "source": [
        "X= df.drop([\"pred\", \"ma\"], axis=1)\n",
        "y = df.pred\n",
        "X.head()\n",
        "\n",
        "Xt = df_test.drop([\"index\", \"ma\"], axis=1)\n",
        "Xt.head()"
      ],
      "metadata": {
        "id": "nx824SrVCFuQ",
        "colab": {
          "base_uri": "https://localhost:8080/",
          "height": 206
        },
        "outputId": "12af7978-bb6e-47f7-fe5b-02bab336dc65"
      },
      "execution_count": null,
      "outputs": [
        {
          "output_type": "execute_result",
          "data": {
            "text/plain": [
              "  pc      ld     m0    m1     m2       m3        m4       m5        m6  \\\n",
              "0  E  156.46   73.5   8.8  105.0  13.2768  113.5365  13.9552  168.5460   \n",
              "1  y   58.87   84.0  12.8   42.0  14.4440  126.6930  13.6688  190.6275   \n",
              "2  w  139.68  126.0   3.2   73.5  14.2432  107.4885  13.8544  168.3255   \n",
              "3  z  194.06   52.5   6.4  105.0  14.5480  138.6105  13.5080  196.6545   \n",
              "4  x  173.14   42.0   8.0  136.5  14.9496  103.8765  13.8936  168.3570   \n",
              "\n",
              "        m7        m8       m9       m10      m11       m12      m13       m14  \n",
              "0   8.5896  187.6560   8.3472  178.5945  14.3192  138.0435  12.7008  166.1100  \n",
              "1  10.1712  202.5870   8.5416  166.9815  15.5944  142.5690  11.6832  177.7230  \n",
              "2  10.2504  214.2735  11.3392  155.1795  16.0256  132.1005  13.0104  185.6085  \n",
              "3  10.6304  213.4650   9.9224  191.1000  14.8256  128.0475  12.1984  180.2745  \n",
              "4   9.6184  191.2050   9.9400  185.0310  13.8664  124.7610      NaN  157.6470  "
            ],
            "text/html": [
              "\n",
              "  <div id=\"df-c5f9976b-0aac-4f18-91b4-55a9ebbf8dda\">\n",
              "    <div class=\"colab-df-container\">\n",
              "      <div>\n",
              "<style scoped>\n",
              "    .dataframe tbody tr th:only-of-type {\n",
              "        vertical-align: middle;\n",
              "    }\n",
              "\n",
              "    .dataframe tbody tr th {\n",
              "        vertical-align: top;\n",
              "    }\n",
              "\n",
              "    .dataframe thead th {\n",
              "        text-align: right;\n",
              "    }\n",
              "</style>\n",
              "<table border=\"1\" class=\"dataframe\">\n",
              "  <thead>\n",
              "    <tr style=\"text-align: right;\">\n",
              "      <th></th>\n",
              "      <th>pc</th>\n",
              "      <th>ld</th>\n",
              "      <th>m0</th>\n",
              "      <th>m1</th>\n",
              "      <th>m2</th>\n",
              "      <th>m3</th>\n",
              "      <th>m4</th>\n",
              "      <th>m5</th>\n",
              "      <th>m6</th>\n",
              "      <th>m7</th>\n",
              "      <th>m8</th>\n",
              "      <th>m9</th>\n",
              "      <th>m10</th>\n",
              "      <th>m11</th>\n",
              "      <th>m12</th>\n",
              "      <th>m13</th>\n",
              "      <th>m14</th>\n",
              "    </tr>\n",
              "  </thead>\n",
              "  <tbody>\n",
              "    <tr>\n",
              "      <th>0</th>\n",
              "      <td>E</td>\n",
              "      <td>156.46</td>\n",
              "      <td>73.5</td>\n",
              "      <td>8.8</td>\n",
              "      <td>105.0</td>\n",
              "      <td>13.2768</td>\n",
              "      <td>113.5365</td>\n",
              "      <td>13.9552</td>\n",
              "      <td>168.5460</td>\n",
              "      <td>8.5896</td>\n",
              "      <td>187.6560</td>\n",
              "      <td>8.3472</td>\n",
              "      <td>178.5945</td>\n",
              "      <td>14.3192</td>\n",
              "      <td>138.0435</td>\n",
              "      <td>12.7008</td>\n",
              "      <td>166.1100</td>\n",
              "    </tr>\n",
              "    <tr>\n",
              "      <th>1</th>\n",
              "      <td>y</td>\n",
              "      <td>58.87</td>\n",
              "      <td>84.0</td>\n",
              "      <td>12.8</td>\n",
              "      <td>42.0</td>\n",
              "      <td>14.4440</td>\n",
              "      <td>126.6930</td>\n",
              "      <td>13.6688</td>\n",
              "      <td>190.6275</td>\n",
              "      <td>10.1712</td>\n",
              "      <td>202.5870</td>\n",
              "      <td>8.5416</td>\n",
              "      <td>166.9815</td>\n",
              "      <td>15.5944</td>\n",
              "      <td>142.5690</td>\n",
              "      <td>11.6832</td>\n",
              "      <td>177.7230</td>\n",
              "    </tr>\n",
              "    <tr>\n",
              "      <th>2</th>\n",
              "      <td>w</td>\n",
              "      <td>139.68</td>\n",
              "      <td>126.0</td>\n",
              "      <td>3.2</td>\n",
              "      <td>73.5</td>\n",
              "      <td>14.2432</td>\n",
              "      <td>107.4885</td>\n",
              "      <td>13.8544</td>\n",
              "      <td>168.3255</td>\n",
              "      <td>10.2504</td>\n",
              "      <td>214.2735</td>\n",
              "      <td>11.3392</td>\n",
              "      <td>155.1795</td>\n",
              "      <td>16.0256</td>\n",
              "      <td>132.1005</td>\n",
              "      <td>13.0104</td>\n",
              "      <td>185.6085</td>\n",
              "    </tr>\n",
              "    <tr>\n",
              "      <th>3</th>\n",
              "      <td>z</td>\n",
              "      <td>194.06</td>\n",
              "      <td>52.5</td>\n",
              "      <td>6.4</td>\n",
              "      <td>105.0</td>\n",
              "      <td>14.5480</td>\n",
              "      <td>138.6105</td>\n",
              "      <td>13.5080</td>\n",
              "      <td>196.6545</td>\n",
              "      <td>10.6304</td>\n",
              "      <td>213.4650</td>\n",
              "      <td>9.9224</td>\n",
              "      <td>191.1000</td>\n",
              "      <td>14.8256</td>\n",
              "      <td>128.0475</td>\n",
              "      <td>12.1984</td>\n",
              "      <td>180.2745</td>\n",
              "    </tr>\n",
              "    <tr>\n",
              "      <th>4</th>\n",
              "      <td>x</td>\n",
              "      <td>173.14</td>\n",
              "      <td>42.0</td>\n",
              "      <td>8.0</td>\n",
              "      <td>136.5</td>\n",
              "      <td>14.9496</td>\n",
              "      <td>103.8765</td>\n",
              "      <td>13.8936</td>\n",
              "      <td>168.3570</td>\n",
              "      <td>9.6184</td>\n",
              "      <td>191.2050</td>\n",
              "      <td>9.9400</td>\n",
              "      <td>185.0310</td>\n",
              "      <td>13.8664</td>\n",
              "      <td>124.7610</td>\n",
              "      <td>NaN</td>\n",
              "      <td>157.6470</td>\n",
              "    </tr>\n",
              "  </tbody>\n",
              "</table>\n",
              "</div>\n",
              "      <button class=\"colab-df-convert\" onclick=\"convertToInteractive('df-c5f9976b-0aac-4f18-91b4-55a9ebbf8dda')\"\n",
              "              title=\"Convert this dataframe to an interactive table.\"\n",
              "              style=\"display:none;\">\n",
              "        \n",
              "  <svg xmlns=\"http://www.w3.org/2000/svg\" height=\"24px\"viewBox=\"0 0 24 24\"\n",
              "       width=\"24px\">\n",
              "    <path d=\"M0 0h24v24H0V0z\" fill=\"none\"/>\n",
              "    <path d=\"M18.56 5.44l.94 2.06.94-2.06 2.06-.94-2.06-.94-.94-2.06-.94 2.06-2.06.94zm-11 1L8.5 8.5l.94-2.06 2.06-.94-2.06-.94L8.5 2.5l-.94 2.06-2.06.94zm10 10l.94 2.06.94-2.06 2.06-.94-2.06-.94-.94-2.06-.94 2.06-2.06.94z\"/><path d=\"M17.41 7.96l-1.37-1.37c-.4-.4-.92-.59-1.43-.59-.52 0-1.04.2-1.43.59L10.3 9.45l-7.72 7.72c-.78.78-.78 2.05 0 2.83L4 21.41c.39.39.9.59 1.41.59.51 0 1.02-.2 1.41-.59l7.78-7.78 2.81-2.81c.8-.78.8-2.07 0-2.86zM5.41 20L4 18.59l7.72-7.72 1.47 1.35L5.41 20z\"/>\n",
              "  </svg>\n",
              "      </button>\n",
              "      \n",
              "  <style>\n",
              "    .colab-df-container {\n",
              "      display:flex;\n",
              "      flex-wrap:wrap;\n",
              "      gap: 12px;\n",
              "    }\n",
              "\n",
              "    .colab-df-convert {\n",
              "      background-color: #E8F0FE;\n",
              "      border: none;\n",
              "      border-radius: 50%;\n",
              "      cursor: pointer;\n",
              "      display: none;\n",
              "      fill: #1967D2;\n",
              "      height: 32px;\n",
              "      padding: 0 0 0 0;\n",
              "      width: 32px;\n",
              "    }\n",
              "\n",
              "    .colab-df-convert:hover {\n",
              "      background-color: #E2EBFA;\n",
              "      box-shadow: 0px 1px 2px rgba(60, 64, 67, 0.3), 0px 1px 3px 1px rgba(60, 64, 67, 0.15);\n",
              "      fill: #174EA6;\n",
              "    }\n",
              "\n",
              "    [theme=dark] .colab-df-convert {\n",
              "      background-color: #3B4455;\n",
              "      fill: #D2E3FC;\n",
              "    }\n",
              "\n",
              "    [theme=dark] .colab-df-convert:hover {\n",
              "      background-color: #434B5C;\n",
              "      box-shadow: 0px 1px 3px 1px rgba(0, 0, 0, 0.15);\n",
              "      filter: drop-shadow(0px 1px 2px rgba(0, 0, 0, 0.3));\n",
              "      fill: #FFFFFF;\n",
              "    }\n",
              "  </style>\n",
              "\n",
              "      <script>\n",
              "        const buttonEl =\n",
              "          document.querySelector('#df-c5f9976b-0aac-4f18-91b4-55a9ebbf8dda button.colab-df-convert');\n",
              "        buttonEl.style.display =\n",
              "          google.colab.kernel.accessAllowed ? 'block' : 'none';\n",
              "\n",
              "        async function convertToInteractive(key) {\n",
              "          const element = document.querySelector('#df-c5f9976b-0aac-4f18-91b4-55a9ebbf8dda');\n",
              "          const dataTable =\n",
              "            await google.colab.kernel.invokeFunction('convertToInteractive',\n",
              "                                                     [key], {});\n",
              "          if (!dataTable) return;\n",
              "\n",
              "          const docLinkHtml = 'Like what you see? Visit the ' +\n",
              "            '<a target=\"_blank\" href=https://colab.research.google.com/notebooks/data_table.ipynb>data table notebook</a>'\n",
              "            + ' to learn more about interactive tables.';\n",
              "          element.innerHTML = '';\n",
              "          dataTable['output_type'] = 'display_data';\n",
              "          await google.colab.output.renderOutput(dataTable, element);\n",
              "          const docLink = document.createElement('div');\n",
              "          docLink.innerHTML = docLinkHtml;\n",
              "          element.appendChild(docLink);\n",
              "        }\n",
              "      </script>\n",
              "    </div>\n",
              "  </div>\n",
              "  "
            ]
          },
          "metadata": {},
          "execution_count": 632
        }
      ]
    },
    {
      "cell_type": "markdown",
      "source": [
        "Transforming labels and Scaling"
      ],
      "metadata": {
        "id": "nEMF_vicTJ1L"
      }
    },
    {
      "cell_type": "code",
      "source": [
        "pc_vals = X.pc.value_counts().sort_values(ascending=False).index\n",
        "# list_top_10=dataset.X1.value_counts().sort_values(ascending=False).head(10).index\n",
        "pc_vals"
      ],
      "metadata": {
        "colab": {
          "base_uri": "https://localhost:8080/"
        },
        "id": "avAAPUSyuomW",
        "outputId": "70577c1c-9bd3-471f-9802-93afaf2704ef"
      },
      "execution_count": null,
      "outputs": [
        {
          "output_type": "execute_result",
          "data": {
            "text/plain": [
              "Index(['y', 'E', 'x', 'z', 'w'], dtype='object')"
            ]
          },
          "metadata": {},
          "execution_count": 633
        }
      ]
    },
    {
      "cell_type": "code",
      "source": [
        "for category in pc_vals:\n",
        "    X[category]=np.where(X['pc']==category,1,0)\n",
        "    Xt[category]=np.where(Xt['pc']==category,1,0)\n",
        "X.head()\n",
        "X = X.drop([\"pc\"], axis=1)\n",
        "Xt = Xt.drop([\"pc\"], axis=1)"
      ],
      "metadata": {
        "id": "JPh22criz505"
      },
      "execution_count": null,
      "outputs": []
    },
    {
      "cell_type": "code",
      "source": [
        "# X = X.apply(LabelEncoder().fit_transform)\n",
        "# Xt = Xt.apply(LabelEncoder().fit_transform)\n",
        "# Xt.head()"
      ],
      "metadata": {
        "id": "lWA9z99ewchj"
      },
      "execution_count": null,
      "outputs": []
    },
    {
      "cell_type": "code",
      "source": [
        "from sklearn.preprocessing import MinMaxScaler\n",
        "scaler = MinMaxScaler(feature_range=(0, 1))\n",
        "cols=X.columns\n",
        "cols2=Xt.columns\n",
        "X[cols] = scaler.fit_transform(X[cols])\n",
        "Xt[cols2] = scaler.fit_transform(Xt[cols2])\n",
        "X.head()"
      ],
      "metadata": {
        "id": "sKTrZe4MhDoz",
        "colab": {
          "base_uri": "https://localhost:8080/",
          "height": 299
        },
        "outputId": "54e21975-265b-4eda-cba7-d8de773a10cd"
      },
      "execution_count": null,
      "outputs": [
        {
          "output_type": "execute_result",
          "data": {
            "text/plain": [
              "         ld        m0        m1        m2        m3        m4        m5  \\\n",
              "0  0.143323  0.222222  0.310345  0.208333  0.472846  0.525248  0.316071   \n",
              "1  0.214857  0.111111  0.551724  0.333333  0.350153  0.502832  0.475383   \n",
              "2  0.386986  0.000000  0.241379  0.291667  0.559819  0.503893  0.492336   \n",
              "3  0.253076  0.111111  0.310345  0.250000  0.637498  0.401958  0.302485   \n",
              "4  0.261610  0.333333  0.310345  0.166667  0.538308  0.576923  0.628774   \n",
              "\n",
              "         m6        m7        m8  ...       m10       m11       m12       m13  \\\n",
              "0  0.596964  0.432425  0.459139  ...  0.307211  0.576114  0.732314  0.399222   \n",
              "1  0.535002  0.415649  0.526193  ...  0.401963  0.310522  0.356434  0.401506   \n",
              "2  0.441889  0.437123  0.338533  ...  0.416570       NaN  0.520407  0.317348   \n",
              "3  0.575555  0.729164  0.377416  ...  0.556303       NaN  0.537692  0.542417   \n",
              "4  0.585863  0.492283  0.480908  ...  0.533890  0.420123  0.502721       NaN   \n",
              "\n",
              "        m14    y    E    x    z    w  \n",
              "0  0.558231  1.0  0.0  0.0  0.0  0.0  \n",
              "1  0.256401  1.0  0.0  0.0  0.0  0.0  \n",
              "2  0.584973  0.0  1.0  0.0  0.0  0.0  \n",
              "3  0.523057  0.0  0.0  1.0  0.0  0.0  \n",
              "4  0.391780  0.0  1.0  0.0  0.0  0.0  \n",
              "\n",
              "[5 rows x 21 columns]"
            ],
            "text/html": [
              "\n",
              "  <div id=\"df-bd40147d-a81a-47f2-a368-bb2ed53f7077\">\n",
              "    <div class=\"colab-df-container\">\n",
              "      <div>\n",
              "<style scoped>\n",
              "    .dataframe tbody tr th:only-of-type {\n",
              "        vertical-align: middle;\n",
              "    }\n",
              "\n",
              "    .dataframe tbody tr th {\n",
              "        vertical-align: top;\n",
              "    }\n",
              "\n",
              "    .dataframe thead th {\n",
              "        text-align: right;\n",
              "    }\n",
              "</style>\n",
              "<table border=\"1\" class=\"dataframe\">\n",
              "  <thead>\n",
              "    <tr style=\"text-align: right;\">\n",
              "      <th></th>\n",
              "      <th>ld</th>\n",
              "      <th>m0</th>\n",
              "      <th>m1</th>\n",
              "      <th>m2</th>\n",
              "      <th>m3</th>\n",
              "      <th>m4</th>\n",
              "      <th>m5</th>\n",
              "      <th>m6</th>\n",
              "      <th>m7</th>\n",
              "      <th>m8</th>\n",
              "      <th>...</th>\n",
              "      <th>m10</th>\n",
              "      <th>m11</th>\n",
              "      <th>m12</th>\n",
              "      <th>m13</th>\n",
              "      <th>m14</th>\n",
              "      <th>y</th>\n",
              "      <th>E</th>\n",
              "      <th>x</th>\n",
              "      <th>z</th>\n",
              "      <th>w</th>\n",
              "    </tr>\n",
              "  </thead>\n",
              "  <tbody>\n",
              "    <tr>\n",
              "      <th>0</th>\n",
              "      <td>0.143323</td>\n",
              "      <td>0.222222</td>\n",
              "      <td>0.310345</td>\n",
              "      <td>0.208333</td>\n",
              "      <td>0.472846</td>\n",
              "      <td>0.525248</td>\n",
              "      <td>0.316071</td>\n",
              "      <td>0.596964</td>\n",
              "      <td>0.432425</td>\n",
              "      <td>0.459139</td>\n",
              "      <td>...</td>\n",
              "      <td>0.307211</td>\n",
              "      <td>0.576114</td>\n",
              "      <td>0.732314</td>\n",
              "      <td>0.399222</td>\n",
              "      <td>0.558231</td>\n",
              "      <td>1.0</td>\n",
              "      <td>0.0</td>\n",
              "      <td>0.0</td>\n",
              "      <td>0.0</td>\n",
              "      <td>0.0</td>\n",
              "    </tr>\n",
              "    <tr>\n",
              "      <th>1</th>\n",
              "      <td>0.214857</td>\n",
              "      <td>0.111111</td>\n",
              "      <td>0.551724</td>\n",
              "      <td>0.333333</td>\n",
              "      <td>0.350153</td>\n",
              "      <td>0.502832</td>\n",
              "      <td>0.475383</td>\n",
              "      <td>0.535002</td>\n",
              "      <td>0.415649</td>\n",
              "      <td>0.526193</td>\n",
              "      <td>...</td>\n",
              "      <td>0.401963</td>\n",
              "      <td>0.310522</td>\n",
              "      <td>0.356434</td>\n",
              "      <td>0.401506</td>\n",
              "      <td>0.256401</td>\n",
              "      <td>1.0</td>\n",
              "      <td>0.0</td>\n",
              "      <td>0.0</td>\n",
              "      <td>0.0</td>\n",
              "      <td>0.0</td>\n",
              "    </tr>\n",
              "    <tr>\n",
              "      <th>2</th>\n",
              "      <td>0.386986</td>\n",
              "      <td>0.000000</td>\n",
              "      <td>0.241379</td>\n",
              "      <td>0.291667</td>\n",
              "      <td>0.559819</td>\n",
              "      <td>0.503893</td>\n",
              "      <td>0.492336</td>\n",
              "      <td>0.441889</td>\n",
              "      <td>0.437123</td>\n",
              "      <td>0.338533</td>\n",
              "      <td>...</td>\n",
              "      <td>0.416570</td>\n",
              "      <td>NaN</td>\n",
              "      <td>0.520407</td>\n",
              "      <td>0.317348</td>\n",
              "      <td>0.584973</td>\n",
              "      <td>0.0</td>\n",
              "      <td>1.0</td>\n",
              "      <td>0.0</td>\n",
              "      <td>0.0</td>\n",
              "      <td>0.0</td>\n",
              "    </tr>\n",
              "    <tr>\n",
              "      <th>3</th>\n",
              "      <td>0.253076</td>\n",
              "      <td>0.111111</td>\n",
              "      <td>0.310345</td>\n",
              "      <td>0.250000</td>\n",
              "      <td>0.637498</td>\n",
              "      <td>0.401958</td>\n",
              "      <td>0.302485</td>\n",
              "      <td>0.575555</td>\n",
              "      <td>0.729164</td>\n",
              "      <td>0.377416</td>\n",
              "      <td>...</td>\n",
              "      <td>0.556303</td>\n",
              "      <td>NaN</td>\n",
              "      <td>0.537692</td>\n",
              "      <td>0.542417</td>\n",
              "      <td>0.523057</td>\n",
              "      <td>0.0</td>\n",
              "      <td>0.0</td>\n",
              "      <td>1.0</td>\n",
              "      <td>0.0</td>\n",
              "      <td>0.0</td>\n",
              "    </tr>\n",
              "    <tr>\n",
              "      <th>4</th>\n",
              "      <td>0.261610</td>\n",
              "      <td>0.333333</td>\n",
              "      <td>0.310345</td>\n",
              "      <td>0.166667</td>\n",
              "      <td>0.538308</td>\n",
              "      <td>0.576923</td>\n",
              "      <td>0.628774</td>\n",
              "      <td>0.585863</td>\n",
              "      <td>0.492283</td>\n",
              "      <td>0.480908</td>\n",
              "      <td>...</td>\n",
              "      <td>0.533890</td>\n",
              "      <td>0.420123</td>\n",
              "      <td>0.502721</td>\n",
              "      <td>NaN</td>\n",
              "      <td>0.391780</td>\n",
              "      <td>0.0</td>\n",
              "      <td>1.0</td>\n",
              "      <td>0.0</td>\n",
              "      <td>0.0</td>\n",
              "      <td>0.0</td>\n",
              "    </tr>\n",
              "  </tbody>\n",
              "</table>\n",
              "<p>5 rows × 21 columns</p>\n",
              "</div>\n",
              "      <button class=\"colab-df-convert\" onclick=\"convertToInteractive('df-bd40147d-a81a-47f2-a368-bb2ed53f7077')\"\n",
              "              title=\"Convert this dataframe to an interactive table.\"\n",
              "              style=\"display:none;\">\n",
              "        \n",
              "  <svg xmlns=\"http://www.w3.org/2000/svg\" height=\"24px\"viewBox=\"0 0 24 24\"\n",
              "       width=\"24px\">\n",
              "    <path d=\"M0 0h24v24H0V0z\" fill=\"none\"/>\n",
              "    <path d=\"M18.56 5.44l.94 2.06.94-2.06 2.06-.94-2.06-.94-.94-2.06-.94 2.06-2.06.94zm-11 1L8.5 8.5l.94-2.06 2.06-.94-2.06-.94L8.5 2.5l-.94 2.06-2.06.94zm10 10l.94 2.06.94-2.06 2.06-.94-2.06-.94-.94-2.06-.94 2.06-2.06.94z\"/><path d=\"M17.41 7.96l-1.37-1.37c-.4-.4-.92-.59-1.43-.59-.52 0-1.04.2-1.43.59L10.3 9.45l-7.72 7.72c-.78.78-.78 2.05 0 2.83L4 21.41c.39.39.9.59 1.41.59.51 0 1.02-.2 1.41-.59l7.78-7.78 2.81-2.81c.8-.78.8-2.07 0-2.86zM5.41 20L4 18.59l7.72-7.72 1.47 1.35L5.41 20z\"/>\n",
              "  </svg>\n",
              "      </button>\n",
              "      \n",
              "  <style>\n",
              "    .colab-df-container {\n",
              "      display:flex;\n",
              "      flex-wrap:wrap;\n",
              "      gap: 12px;\n",
              "    }\n",
              "\n",
              "    .colab-df-convert {\n",
              "      background-color: #E8F0FE;\n",
              "      border: none;\n",
              "      border-radius: 50%;\n",
              "      cursor: pointer;\n",
              "      display: none;\n",
              "      fill: #1967D2;\n",
              "      height: 32px;\n",
              "      padding: 0 0 0 0;\n",
              "      width: 32px;\n",
              "    }\n",
              "\n",
              "    .colab-df-convert:hover {\n",
              "      background-color: #E2EBFA;\n",
              "      box-shadow: 0px 1px 2px rgba(60, 64, 67, 0.3), 0px 1px 3px 1px rgba(60, 64, 67, 0.15);\n",
              "      fill: #174EA6;\n",
              "    }\n",
              "\n",
              "    [theme=dark] .colab-df-convert {\n",
              "      background-color: #3B4455;\n",
              "      fill: #D2E3FC;\n",
              "    }\n",
              "\n",
              "    [theme=dark] .colab-df-convert:hover {\n",
              "      background-color: #434B5C;\n",
              "      box-shadow: 0px 1px 3px 1px rgba(0, 0, 0, 0.15);\n",
              "      filter: drop-shadow(0px 1px 2px rgba(0, 0, 0, 0.3));\n",
              "      fill: #FFFFFF;\n",
              "    }\n",
              "  </style>\n",
              "\n",
              "      <script>\n",
              "        const buttonEl =\n",
              "          document.querySelector('#df-bd40147d-a81a-47f2-a368-bb2ed53f7077 button.colab-df-convert');\n",
              "        buttonEl.style.display =\n",
              "          google.colab.kernel.accessAllowed ? 'block' : 'none';\n",
              "\n",
              "        async function convertToInteractive(key) {\n",
              "          const element = document.querySelector('#df-bd40147d-a81a-47f2-a368-bb2ed53f7077');\n",
              "          const dataTable =\n",
              "            await google.colab.kernel.invokeFunction('convertToInteractive',\n",
              "                                                     [key], {});\n",
              "          if (!dataTable) return;\n",
              "\n",
              "          const docLinkHtml = 'Like what you see? Visit the ' +\n",
              "            '<a target=\"_blank\" href=https://colab.research.google.com/notebooks/data_table.ipynb>data table notebook</a>'\n",
              "            + ' to learn more about interactive tables.';\n",
              "          element.innerHTML = '';\n",
              "          dataTable['output_type'] = 'display_data';\n",
              "          await google.colab.output.renderOutput(dataTable, element);\n",
              "          const docLink = document.createElement('div');\n",
              "          docLink.innerHTML = docLinkHtml;\n",
              "          element.appendChild(docLink);\n",
              "        }\n",
              "      </script>\n",
              "    </div>\n",
              "  </div>\n",
              "  "
            ]
          },
          "metadata": {},
          "execution_count": 630
        }
      ]
    },
    {
      "cell_type": "code",
      "source": [
        "X = X.fillna(X.median())\n",
        "Xt = Xt.fillna(X.median())\n",
        "# X.isna().sum()"
      ],
      "metadata": {
        "id": "My9LTzpTvpkI"
      },
      "execution_count": null,
      "outputs": []
    },
    {
      "cell_type": "code",
      "source": [
        "# # X = X.apply(LabelEncoder().fit_transform)\n",
        "# label_encoder = LabelEncoder()\n",
        "# X[\"pc\"] = label_encoder.fit_transform(X[\"pc\"])\n",
        "# X.head()"
      ],
      "metadata": {
        "id": "OTbm5UQ4TJRF"
      },
      "execution_count": null,
      "outputs": []
    },
    {
      "cell_type": "code",
      "source": [
        "# X[\"ma\"] = label_encoder.fit_transform(X[\"ma\"])"
      ],
      "metadata": {
        "id": "ZeJOGl8BrZrk"
      },
      "execution_count": null,
      "outputs": []
    },
    {
      "cell_type": "code",
      "source": [
        "# columns = X.columns\n",
        "# columns"
      ],
      "metadata": {
        "id": "LjeNgyJFrr6G"
      },
      "execution_count": null,
      "outputs": []
    },
    {
      "cell_type": "code",
      "source": [
        "# from sklearn.preprocessing import MinMaxScaler\n",
        "# mms = MinMaxScaler(feature_range=(0, 1))\n",
        "\n",
        "# X[columns] = mms.fit_transform(X[columns])\n",
        "\n"
      ],
      "metadata": {
        "id": "iNRyk2mvdcA3"
      },
      "execution_count": null,
      "outputs": []
    },
    {
      "cell_type": "code",
      "source": [
        "# from sklearn.preprocessing import QuantileTransformer\n",
        "# scaler = QuantileTransformer()\n",
        "# X[columns] = scaler.fit_transform(X[columns])"
      ],
      "metadata": {
        "id": "ycnTZuWbtsgT"
      },
      "execution_count": null,
      "outputs": []
    },
    {
      "cell_type": "code",
      "source": [
        "# X.isna().sum()\n",
        "# X = X.fillna(X.mean())"
      ],
      "metadata": {
        "id": "eVH32fApaLag"
      },
      "execution_count": null,
      "outputs": []
    },
    {
      "cell_type": "markdown",
      "metadata": {
        "id": "ofmJ_Aia0qnU"
      },
      "source": [
        "**Split data into separate training and test set**"
      ]
    },
    {
      "cell_type": "code",
      "source": [
        "t=X.join(y)\n",
        "# plt.figure(figsize=(15,10))\n",
        "# sns.heatmap(t.corr(), cmap=\"YlGnBu\", annot=True)\n",
        "# t.head()\n",
        "factor = t.corr().pred\n",
        "factor2 =  factor.drop('pred')\n",
        "\n",
        "df2 = t*factor\n",
        "df3 = Xt*factor2\n",
        "\n",
        "X= df2.drop([\"pred\"], axis=1)\n",
        "y =df2.pred\n",
        "\n",
        "Xt = df3\n",
        "X.head()"
      ],
      "metadata": {
        "colab": {
          "base_uri": "https://localhost:8080/",
          "height": 299
        },
        "id": "C8K3CjR_vQ8n",
        "outputId": "ba8ec897-3c19-44af-b7ee-9a4960bcfaad"
      },
      "execution_count": null,
      "outputs": [
        {
          "output_type": "execute_result",
          "data": {
            "text/plain": [
              "         ld        m0        m1        m2        m3        m4        m5  \\\n",
              "0  1.630732  0.004254 -0.001147  0.019343  0.000068 -0.020549  0.004604   \n",
              "1  2.122231  0.002127 -0.002040  0.030949  0.000064 -0.020236  0.005011   \n",
              "2  3.304907  0.000000 -0.000892  0.027080  0.000070 -0.020251  0.005054   \n",
              "3  2.384832  0.002127 -0.001147  0.023212  0.000072 -0.018826  0.004570   \n",
              "4  2.443469  0.006380 -0.001147  0.015475  0.000070 -0.021271  0.005402   \n",
              "\n",
              "         m6        m7        m8  ...       m10       m11       m12       m13  \\\n",
              "0  0.077208  0.002647  0.061695  ... -0.001668 -0.000891  0.007194  0.000255   \n",
              "1  0.074860  0.002618  0.063549  ... -0.001820 -0.000738  0.004834  0.000256   \n",
              "2  0.071331  0.002656  0.058359  ... -0.001843 -0.000851  0.005864  0.000239   \n",
              "3  0.076396  0.003170  0.059434  ... -0.002066 -0.000851  0.005972  0.000283   \n",
              "4  0.076787  0.002753  0.062297  ... -0.002031 -0.000801  0.005753  0.000255   \n",
              "\n",
              "        m14         y         E         x    z    w  \n",
              "0  0.012835 -0.000023 -0.000000 -0.000000  0.0  0.0  \n",
              "1  0.009742 -0.000023 -0.000000 -0.000000  0.0  0.0  \n",
              "2  0.013109 -0.000000 -0.000029 -0.000000  0.0  0.0  \n",
              "3  0.012474 -0.000000 -0.000000 -0.000063  0.0  0.0  \n",
              "4  0.011129 -0.000000 -0.000029 -0.000000  0.0  0.0  \n",
              "\n",
              "[5 rows x 21 columns]"
            ],
            "text/html": [
              "\n",
              "  <div id=\"df-03dadba3-69a9-43f7-b62c-fd4cb025e78d\">\n",
              "    <div class=\"colab-df-container\">\n",
              "      <div>\n",
              "<style scoped>\n",
              "    .dataframe tbody tr th:only-of-type {\n",
              "        vertical-align: middle;\n",
              "    }\n",
              "\n",
              "    .dataframe tbody tr th {\n",
              "        vertical-align: top;\n",
              "    }\n",
              "\n",
              "    .dataframe thead th {\n",
              "        text-align: right;\n",
              "    }\n",
              "</style>\n",
              "<table border=\"1\" class=\"dataframe\">\n",
              "  <thead>\n",
              "    <tr style=\"text-align: right;\">\n",
              "      <th></th>\n",
              "      <th>ld</th>\n",
              "      <th>m0</th>\n",
              "      <th>m1</th>\n",
              "      <th>m2</th>\n",
              "      <th>m3</th>\n",
              "      <th>m4</th>\n",
              "      <th>m5</th>\n",
              "      <th>m6</th>\n",
              "      <th>m7</th>\n",
              "      <th>m8</th>\n",
              "      <th>...</th>\n",
              "      <th>m10</th>\n",
              "      <th>m11</th>\n",
              "      <th>m12</th>\n",
              "      <th>m13</th>\n",
              "      <th>m14</th>\n",
              "      <th>y</th>\n",
              "      <th>E</th>\n",
              "      <th>x</th>\n",
              "      <th>z</th>\n",
              "      <th>w</th>\n",
              "    </tr>\n",
              "  </thead>\n",
              "  <tbody>\n",
              "    <tr>\n",
              "      <th>0</th>\n",
              "      <td>1.630732</td>\n",
              "      <td>0.004254</td>\n",
              "      <td>-0.001147</td>\n",
              "      <td>0.019343</td>\n",
              "      <td>0.000068</td>\n",
              "      <td>-0.020549</td>\n",
              "      <td>0.004604</td>\n",
              "      <td>0.077208</td>\n",
              "      <td>0.002647</td>\n",
              "      <td>0.061695</td>\n",
              "      <td>...</td>\n",
              "      <td>-0.001668</td>\n",
              "      <td>-0.000891</td>\n",
              "      <td>0.007194</td>\n",
              "      <td>0.000255</td>\n",
              "      <td>0.012835</td>\n",
              "      <td>-0.000023</td>\n",
              "      <td>-0.000000</td>\n",
              "      <td>-0.000000</td>\n",
              "      <td>0.0</td>\n",
              "      <td>0.0</td>\n",
              "    </tr>\n",
              "    <tr>\n",
              "      <th>1</th>\n",
              "      <td>2.122231</td>\n",
              "      <td>0.002127</td>\n",
              "      <td>-0.002040</td>\n",
              "      <td>0.030949</td>\n",
              "      <td>0.000064</td>\n",
              "      <td>-0.020236</td>\n",
              "      <td>0.005011</td>\n",
              "      <td>0.074860</td>\n",
              "      <td>0.002618</td>\n",
              "      <td>0.063549</td>\n",
              "      <td>...</td>\n",
              "      <td>-0.001820</td>\n",
              "      <td>-0.000738</td>\n",
              "      <td>0.004834</td>\n",
              "      <td>0.000256</td>\n",
              "      <td>0.009742</td>\n",
              "      <td>-0.000023</td>\n",
              "      <td>-0.000000</td>\n",
              "      <td>-0.000000</td>\n",
              "      <td>0.0</td>\n",
              "      <td>0.0</td>\n",
              "    </tr>\n",
              "    <tr>\n",
              "      <th>2</th>\n",
              "      <td>3.304907</td>\n",
              "      <td>0.000000</td>\n",
              "      <td>-0.000892</td>\n",
              "      <td>0.027080</td>\n",
              "      <td>0.000070</td>\n",
              "      <td>-0.020251</td>\n",
              "      <td>0.005054</td>\n",
              "      <td>0.071331</td>\n",
              "      <td>0.002656</td>\n",
              "      <td>0.058359</td>\n",
              "      <td>...</td>\n",
              "      <td>-0.001843</td>\n",
              "      <td>-0.000851</td>\n",
              "      <td>0.005864</td>\n",
              "      <td>0.000239</td>\n",
              "      <td>0.013109</td>\n",
              "      <td>-0.000000</td>\n",
              "      <td>-0.000029</td>\n",
              "      <td>-0.000000</td>\n",
              "      <td>0.0</td>\n",
              "      <td>0.0</td>\n",
              "    </tr>\n",
              "    <tr>\n",
              "      <th>3</th>\n",
              "      <td>2.384832</td>\n",
              "      <td>0.002127</td>\n",
              "      <td>-0.001147</td>\n",
              "      <td>0.023212</td>\n",
              "      <td>0.000072</td>\n",
              "      <td>-0.018826</td>\n",
              "      <td>0.004570</td>\n",
              "      <td>0.076396</td>\n",
              "      <td>0.003170</td>\n",
              "      <td>0.059434</td>\n",
              "      <td>...</td>\n",
              "      <td>-0.002066</td>\n",
              "      <td>-0.000851</td>\n",
              "      <td>0.005972</td>\n",
              "      <td>0.000283</td>\n",
              "      <td>0.012474</td>\n",
              "      <td>-0.000000</td>\n",
              "      <td>-0.000000</td>\n",
              "      <td>-0.000063</td>\n",
              "      <td>0.0</td>\n",
              "      <td>0.0</td>\n",
              "    </tr>\n",
              "    <tr>\n",
              "      <th>4</th>\n",
              "      <td>2.443469</td>\n",
              "      <td>0.006380</td>\n",
              "      <td>-0.001147</td>\n",
              "      <td>0.015475</td>\n",
              "      <td>0.000070</td>\n",
              "      <td>-0.021271</td>\n",
              "      <td>0.005402</td>\n",
              "      <td>0.076787</td>\n",
              "      <td>0.002753</td>\n",
              "      <td>0.062297</td>\n",
              "      <td>...</td>\n",
              "      <td>-0.002031</td>\n",
              "      <td>-0.000801</td>\n",
              "      <td>0.005753</td>\n",
              "      <td>0.000255</td>\n",
              "      <td>0.011129</td>\n",
              "      <td>-0.000000</td>\n",
              "      <td>-0.000029</td>\n",
              "      <td>-0.000000</td>\n",
              "      <td>0.0</td>\n",
              "      <td>0.0</td>\n",
              "    </tr>\n",
              "  </tbody>\n",
              "</table>\n",
              "<p>5 rows × 21 columns</p>\n",
              "</div>\n",
              "      <button class=\"colab-df-convert\" onclick=\"convertToInteractive('df-03dadba3-69a9-43f7-b62c-fd4cb025e78d')\"\n",
              "              title=\"Convert this dataframe to an interactive table.\"\n",
              "              style=\"display:none;\">\n",
              "        \n",
              "  <svg xmlns=\"http://www.w3.org/2000/svg\" height=\"24px\"viewBox=\"0 0 24 24\"\n",
              "       width=\"24px\">\n",
              "    <path d=\"M0 0h24v24H0V0z\" fill=\"none\"/>\n",
              "    <path d=\"M18.56 5.44l.94 2.06.94-2.06 2.06-.94-2.06-.94-.94-2.06-.94 2.06-2.06.94zm-11 1L8.5 8.5l.94-2.06 2.06-.94-2.06-.94L8.5 2.5l-.94 2.06-2.06.94zm10 10l.94 2.06.94-2.06 2.06-.94-2.06-.94-.94-2.06-.94 2.06-2.06.94z\"/><path d=\"M17.41 7.96l-1.37-1.37c-.4-.4-.92-.59-1.43-.59-.52 0-1.04.2-1.43.59L10.3 9.45l-7.72 7.72c-.78.78-.78 2.05 0 2.83L4 21.41c.39.39.9.59 1.41.59.51 0 1.02-.2 1.41-.59l7.78-7.78 2.81-2.81c.8-.78.8-2.07 0-2.86zM5.41 20L4 18.59l7.72-7.72 1.47 1.35L5.41 20z\"/>\n",
              "  </svg>\n",
              "      </button>\n",
              "      \n",
              "  <style>\n",
              "    .colab-df-container {\n",
              "      display:flex;\n",
              "      flex-wrap:wrap;\n",
              "      gap: 12px;\n",
              "    }\n",
              "\n",
              "    .colab-df-convert {\n",
              "      background-color: #E8F0FE;\n",
              "      border: none;\n",
              "      border-radius: 50%;\n",
              "      cursor: pointer;\n",
              "      display: none;\n",
              "      fill: #1967D2;\n",
              "      height: 32px;\n",
              "      padding: 0 0 0 0;\n",
              "      width: 32px;\n",
              "    }\n",
              "\n",
              "    .colab-df-convert:hover {\n",
              "      background-color: #E2EBFA;\n",
              "      box-shadow: 0px 1px 2px rgba(60, 64, 67, 0.3), 0px 1px 3px 1px rgba(60, 64, 67, 0.15);\n",
              "      fill: #174EA6;\n",
              "    }\n",
              "\n",
              "    [theme=dark] .colab-df-convert {\n",
              "      background-color: #3B4455;\n",
              "      fill: #D2E3FC;\n",
              "    }\n",
              "\n",
              "    [theme=dark] .colab-df-convert:hover {\n",
              "      background-color: #434B5C;\n",
              "      box-shadow: 0px 1px 3px 1px rgba(0, 0, 0, 0.15);\n",
              "      filter: drop-shadow(0px 1px 2px rgba(0, 0, 0, 0.3));\n",
              "      fill: #FFFFFF;\n",
              "    }\n",
              "  </style>\n",
              "\n",
              "      <script>\n",
              "        const buttonEl =\n",
              "          document.querySelector('#df-03dadba3-69a9-43f7-b62c-fd4cb025e78d button.colab-df-convert');\n",
              "        buttonEl.style.display =\n",
              "          google.colab.kernel.accessAllowed ? 'block' : 'none';\n",
              "\n",
              "        async function convertToInteractive(key) {\n",
              "          const element = document.querySelector('#df-03dadba3-69a9-43f7-b62c-fd4cb025e78d');\n",
              "          const dataTable =\n",
              "            await google.colab.kernel.invokeFunction('convertToInteractive',\n",
              "                                                     [key], {});\n",
              "          if (!dataTable) return;\n",
              "\n",
              "          const docLinkHtml = 'Like what you see? Visit the ' +\n",
              "            '<a target=\"_blank\" href=https://colab.research.google.com/notebooks/data_table.ipynb>data table notebook</a>'\n",
              "            + ' to learn more about interactive tables.';\n",
              "          element.innerHTML = '';\n",
              "          dataTable['output_type'] = 'display_data';\n",
              "          await google.colab.output.renderOutput(dataTable, element);\n",
              "          const docLink = document.createElement('div');\n",
              "          docLink.innerHTML = docLinkHtml;\n",
              "          element.appendChild(docLink);\n",
              "        }\n",
              "      </script>\n",
              "    </div>\n",
              "  </div>\n",
              "  "
            ]
          },
          "metadata": {},
          "execution_count": 624
        }
      ]
    },
    {
      "cell_type": "code",
      "source": [
        "Xt.head()"
      ],
      "metadata": {
        "colab": {
          "base_uri": "https://localhost:8080/",
          "height": 299
        },
        "id": "CnUM4D8_IIA-",
        "outputId": "850a5f69-469f-4975-dd4f-f68d5c505375"
      },
      "execution_count": null,
      "outputs": [
        {
          "output_type": "execute_result",
          "data": {
            "text/plain": [
              "         ld        m0        m1        m2        m3        m4        m5  \\\n",
              "0  3.047956  0.004962 -0.001402  0.038686  0.000064 -0.017833  0.005170   \n",
              "1  1.146831  0.005671 -0.002040  0.015475  0.000070 -0.019899  0.005064   \n",
              "2  2.721069  0.008507 -0.000510  0.027080  0.000069 -0.016883  0.005133   \n",
              "3  3.780432  0.003545 -0.001020  0.038686  0.000070 -0.021771  0.005004   \n",
              "4  3.372895  0.002836 -0.001275  0.050292  0.000072 -0.016316  0.005147   \n",
              "\n",
              "         m6        m7        m8  ...       m10       m11       m12       m13  \\\n",
              "0  0.068910  0.002540  0.057544  ... -0.002100 -0.000793  0.006606  0.000260   \n",
              "1  0.077938  0.003008  0.062123  ... -0.001963 -0.000863  0.006823  0.000239   \n",
              "2  0.068819  0.003031  0.065707  ... -0.001825 -0.000887  0.006322  0.000266   \n",
              "3  0.080402  0.003144  0.065459  ... -0.002247 -0.000821  0.006128  0.000249   \n",
              "4  0.068832  0.002844  0.058633  ... -0.002175 -0.000768  0.005970  0.000255   \n",
              "\n",
              "        m14         y         E         x         z         w  \n",
              "0  0.012315 -0.000000 -0.000029 -0.000000  0.000000  0.000000  \n",
              "1  0.013176 -0.000023 -0.000000 -0.000000  0.000000  0.000000  \n",
              "2  0.013760 -0.000000 -0.000000 -0.000000  0.000000  0.000365  \n",
              "3  0.013365 -0.000000 -0.000000 -0.000000  0.000002  0.000000  \n",
              "4  0.011687 -0.000000 -0.000000 -0.000063  0.000000  0.000000  \n",
              "\n",
              "[5 rows x 21 columns]"
            ],
            "text/html": [
              "\n",
              "  <div id=\"df-d5226079-b629-459a-bb61-fe78bfb7bc61\">\n",
              "    <div class=\"colab-df-container\">\n",
              "      <div>\n",
              "<style scoped>\n",
              "    .dataframe tbody tr th:only-of-type {\n",
              "        vertical-align: middle;\n",
              "    }\n",
              "\n",
              "    .dataframe tbody tr th {\n",
              "        vertical-align: top;\n",
              "    }\n",
              "\n",
              "    .dataframe thead th {\n",
              "        text-align: right;\n",
              "    }\n",
              "</style>\n",
              "<table border=\"1\" class=\"dataframe\">\n",
              "  <thead>\n",
              "    <tr style=\"text-align: right;\">\n",
              "      <th></th>\n",
              "      <th>ld</th>\n",
              "      <th>m0</th>\n",
              "      <th>m1</th>\n",
              "      <th>m2</th>\n",
              "      <th>m3</th>\n",
              "      <th>m4</th>\n",
              "      <th>m5</th>\n",
              "      <th>m6</th>\n",
              "      <th>m7</th>\n",
              "      <th>m8</th>\n",
              "      <th>...</th>\n",
              "      <th>m10</th>\n",
              "      <th>m11</th>\n",
              "      <th>m12</th>\n",
              "      <th>m13</th>\n",
              "      <th>m14</th>\n",
              "      <th>y</th>\n",
              "      <th>E</th>\n",
              "      <th>x</th>\n",
              "      <th>z</th>\n",
              "      <th>w</th>\n",
              "    </tr>\n",
              "  </thead>\n",
              "  <tbody>\n",
              "    <tr>\n",
              "      <th>0</th>\n",
              "      <td>3.047956</td>\n",
              "      <td>0.004962</td>\n",
              "      <td>-0.001402</td>\n",
              "      <td>0.038686</td>\n",
              "      <td>0.000064</td>\n",
              "      <td>-0.017833</td>\n",
              "      <td>0.005170</td>\n",
              "      <td>0.068910</td>\n",
              "      <td>0.002540</td>\n",
              "      <td>0.057544</td>\n",
              "      <td>...</td>\n",
              "      <td>-0.002100</td>\n",
              "      <td>-0.000793</td>\n",
              "      <td>0.006606</td>\n",
              "      <td>0.000260</td>\n",
              "      <td>0.012315</td>\n",
              "      <td>-0.000000</td>\n",
              "      <td>-0.000029</td>\n",
              "      <td>-0.000000</td>\n",
              "      <td>0.000000</td>\n",
              "      <td>0.000000</td>\n",
              "    </tr>\n",
              "    <tr>\n",
              "      <th>1</th>\n",
              "      <td>1.146831</td>\n",
              "      <td>0.005671</td>\n",
              "      <td>-0.002040</td>\n",
              "      <td>0.015475</td>\n",
              "      <td>0.000070</td>\n",
              "      <td>-0.019899</td>\n",
              "      <td>0.005064</td>\n",
              "      <td>0.077938</td>\n",
              "      <td>0.003008</td>\n",
              "      <td>0.062123</td>\n",
              "      <td>...</td>\n",
              "      <td>-0.001963</td>\n",
              "      <td>-0.000863</td>\n",
              "      <td>0.006823</td>\n",
              "      <td>0.000239</td>\n",
              "      <td>0.013176</td>\n",
              "      <td>-0.000023</td>\n",
              "      <td>-0.000000</td>\n",
              "      <td>-0.000000</td>\n",
              "      <td>0.000000</td>\n",
              "      <td>0.000000</td>\n",
              "    </tr>\n",
              "    <tr>\n",
              "      <th>2</th>\n",
              "      <td>2.721069</td>\n",
              "      <td>0.008507</td>\n",
              "      <td>-0.000510</td>\n",
              "      <td>0.027080</td>\n",
              "      <td>0.000069</td>\n",
              "      <td>-0.016883</td>\n",
              "      <td>0.005133</td>\n",
              "      <td>0.068819</td>\n",
              "      <td>0.003031</td>\n",
              "      <td>0.065707</td>\n",
              "      <td>...</td>\n",
              "      <td>-0.001825</td>\n",
              "      <td>-0.000887</td>\n",
              "      <td>0.006322</td>\n",
              "      <td>0.000266</td>\n",
              "      <td>0.013760</td>\n",
              "      <td>-0.000000</td>\n",
              "      <td>-0.000000</td>\n",
              "      <td>-0.000000</td>\n",
              "      <td>0.000000</td>\n",
              "      <td>0.000365</td>\n",
              "    </tr>\n",
              "    <tr>\n",
              "      <th>3</th>\n",
              "      <td>3.780432</td>\n",
              "      <td>0.003545</td>\n",
              "      <td>-0.001020</td>\n",
              "      <td>0.038686</td>\n",
              "      <td>0.000070</td>\n",
              "      <td>-0.021771</td>\n",
              "      <td>0.005004</td>\n",
              "      <td>0.080402</td>\n",
              "      <td>0.003144</td>\n",
              "      <td>0.065459</td>\n",
              "      <td>...</td>\n",
              "      <td>-0.002247</td>\n",
              "      <td>-0.000821</td>\n",
              "      <td>0.006128</td>\n",
              "      <td>0.000249</td>\n",
              "      <td>0.013365</td>\n",
              "      <td>-0.000000</td>\n",
              "      <td>-0.000000</td>\n",
              "      <td>-0.000000</td>\n",
              "      <td>0.000002</td>\n",
              "      <td>0.000000</td>\n",
              "    </tr>\n",
              "    <tr>\n",
              "      <th>4</th>\n",
              "      <td>3.372895</td>\n",
              "      <td>0.002836</td>\n",
              "      <td>-0.001275</td>\n",
              "      <td>0.050292</td>\n",
              "      <td>0.000072</td>\n",
              "      <td>-0.016316</td>\n",
              "      <td>0.005147</td>\n",
              "      <td>0.068832</td>\n",
              "      <td>0.002844</td>\n",
              "      <td>0.058633</td>\n",
              "      <td>...</td>\n",
              "      <td>-0.002175</td>\n",
              "      <td>-0.000768</td>\n",
              "      <td>0.005970</td>\n",
              "      <td>0.000255</td>\n",
              "      <td>0.011687</td>\n",
              "      <td>-0.000000</td>\n",
              "      <td>-0.000000</td>\n",
              "      <td>-0.000063</td>\n",
              "      <td>0.000000</td>\n",
              "      <td>0.000000</td>\n",
              "    </tr>\n",
              "  </tbody>\n",
              "</table>\n",
              "<p>5 rows × 21 columns</p>\n",
              "</div>\n",
              "      <button class=\"colab-df-convert\" onclick=\"convertToInteractive('df-d5226079-b629-459a-bb61-fe78bfb7bc61')\"\n",
              "              title=\"Convert this dataframe to an interactive table.\"\n",
              "              style=\"display:none;\">\n",
              "        \n",
              "  <svg xmlns=\"http://www.w3.org/2000/svg\" height=\"24px\"viewBox=\"0 0 24 24\"\n",
              "       width=\"24px\">\n",
              "    <path d=\"M0 0h24v24H0V0z\" fill=\"none\"/>\n",
              "    <path d=\"M18.56 5.44l.94 2.06.94-2.06 2.06-.94-2.06-.94-.94-2.06-.94 2.06-2.06.94zm-11 1L8.5 8.5l.94-2.06 2.06-.94-2.06-.94L8.5 2.5l-.94 2.06-2.06.94zm10 10l.94 2.06.94-2.06 2.06-.94-2.06-.94-.94-2.06-.94 2.06-2.06.94z\"/><path d=\"M17.41 7.96l-1.37-1.37c-.4-.4-.92-.59-1.43-.59-.52 0-1.04.2-1.43.59L10.3 9.45l-7.72 7.72c-.78.78-.78 2.05 0 2.83L4 21.41c.39.39.9.59 1.41.59.51 0 1.02-.2 1.41-.59l7.78-7.78 2.81-2.81c.8-.78.8-2.07 0-2.86zM5.41 20L4 18.59l7.72-7.72 1.47 1.35L5.41 20z\"/>\n",
              "  </svg>\n",
              "      </button>\n",
              "      \n",
              "  <style>\n",
              "    .colab-df-container {\n",
              "      display:flex;\n",
              "      flex-wrap:wrap;\n",
              "      gap: 12px;\n",
              "    }\n",
              "\n",
              "    .colab-df-convert {\n",
              "      background-color: #E8F0FE;\n",
              "      border: none;\n",
              "      border-radius: 50%;\n",
              "      cursor: pointer;\n",
              "      display: none;\n",
              "      fill: #1967D2;\n",
              "      height: 32px;\n",
              "      padding: 0 0 0 0;\n",
              "      width: 32px;\n",
              "    }\n",
              "\n",
              "    .colab-df-convert:hover {\n",
              "      background-color: #E2EBFA;\n",
              "      box-shadow: 0px 1px 2px rgba(60, 64, 67, 0.3), 0px 1px 3px 1px rgba(60, 64, 67, 0.15);\n",
              "      fill: #174EA6;\n",
              "    }\n",
              "\n",
              "    [theme=dark] .colab-df-convert {\n",
              "      background-color: #3B4455;\n",
              "      fill: #D2E3FC;\n",
              "    }\n",
              "\n",
              "    [theme=dark] .colab-df-convert:hover {\n",
              "      background-color: #434B5C;\n",
              "      box-shadow: 0px 1px 3px 1px rgba(0, 0, 0, 0.15);\n",
              "      filter: drop-shadow(0px 1px 2px rgba(0, 0, 0, 0.3));\n",
              "      fill: #FFFFFF;\n",
              "    }\n",
              "  </style>\n",
              "\n",
              "      <script>\n",
              "        const buttonEl =\n",
              "          document.querySelector('#df-d5226079-b629-459a-bb61-fe78bfb7bc61 button.colab-df-convert');\n",
              "        buttonEl.style.display =\n",
              "          google.colab.kernel.accessAllowed ? 'block' : 'none';\n",
              "\n",
              "        async function convertToInteractive(key) {\n",
              "          const element = document.querySelector('#df-d5226079-b629-459a-bb61-fe78bfb7bc61');\n",
              "          const dataTable =\n",
              "            await google.colab.kernel.invokeFunction('convertToInteractive',\n",
              "                                                     [key], {});\n",
              "          if (!dataTable) return;\n",
              "\n",
              "          const docLinkHtml = 'Like what you see? Visit the ' +\n",
              "            '<a target=\"_blank\" href=https://colab.research.google.com/notebooks/data_table.ipynb>data table notebook</a>'\n",
              "            + ' to learn more about interactive tables.';\n",
              "          element.innerHTML = '';\n",
              "          dataTable['output_type'] = 'display_data';\n",
              "          await google.colab.output.renderOutput(dataTable, element);\n",
              "          const docLink = document.createElement('div');\n",
              "          docLink.innerHTML = docLinkHtml;\n",
              "          element.appendChild(docLink);\n",
              "        }\n",
              "      </script>\n",
              "    </div>\n",
              "  </div>\n",
              "  "
            ]
          },
          "metadata": {},
          "execution_count": 625
        }
      ]
    },
    {
      "cell_type": "code",
      "source": [
        "# X= df2.drop([\"pred\", \"m1\", \"m3\", \"m4\", \"m9\", \"m10\", \"m11\", \"m13\"], axis=1)\n",
        "# y =df2.pred\n",
        "\n",
        "# Xt = df3.drop([\"m1\", \"m3\", \"m4\", \"m9\", \"m10\", \"m11\", \"m13\"], axis=1)\n",
        "# X.head()"
      ],
      "metadata": {
        "id": "iuAhwGhAi08V"
      },
      "execution_count": null,
      "outputs": []
    },
    {
      "cell_type": "code",
      "source": [
        "# Xt.head()"
      ],
      "metadata": {
        "id": "335GTqTFKgFj"
      },
      "execution_count": null,
      "outputs": []
    },
    {
      "cell_type": "code",
      "source": [
        "from imblearn.over_sampling import SMOTE\n",
        "\n",
        "# Assuming you have your features (X) and target variable (y)\n",
        "\n",
        "# Instantiate the SMOTE oversampling technique\n",
        "smote = SMOTE()\n",
        "\n",
        "# Apply SMOTE to the dataset\n",
        "X, y = smote.fit_resample(X, y)\n",
        "X.head()"
      ],
      "metadata": {
        "colab": {
          "base_uri": "https://localhost:8080/",
          "height": 235
        },
        "id": "IGy-Bms330WD",
        "outputId": "6e908a9a-dc61-46a7-9689-ebccd7f0acdb"
      },
      "execution_count": null,
      "outputs": [
        {
          "output_type": "execute_result",
          "data": {
            "text/plain": [
              "       ld    m0    m1    m2       m3        m4       m5        m6       m7  \\\n",
              "0   83.71  63.0   7.2  52.5  14.0232  130.8300  12.4280  188.8425   8.9520   \n",
              "1  108.94  31.5  12.8  84.0  13.2840  128.8350  13.5256  183.0990   8.8520   \n",
              "2  169.65   0.0   5.6  73.5  14.5472  128.9295  13.6424  174.4680   8.9800   \n",
              "3  122.42  31.5   7.2  63.0  15.0152  119.8575  12.3344  186.8580  10.7208   \n",
              "4  125.43  94.5   7.2  42.0  14.4176  135.4290  14.5824  187.8135   9.3088   \n",
              "\n",
              "         m8  ...       m10      m11       m12      m13       m14  y  E  x  z  \\\n",
              "0  201.1905  ...  141.9075  16.0968  150.3390  12.4880  173.1240  1  0  0  0   \n",
              "1  207.2385  ...  154.7805  13.3304  101.0205  12.5096  131.4075  1  0  0  0   \n",
              "2  190.3125  ...  156.7650  15.3640  122.5350  11.7136  176.8200  0  1  0  0   \n",
              "3  193.8195  ...  175.7490  15.3640  124.8030  13.8424  168.2625  0  0  1  0   \n",
              "4  203.1540  ...  172.7040  14.4720  120.2145  12.5040  150.1185  0  1  0  0   \n",
              "\n",
              "   w  \n",
              "0  0  \n",
              "1  0  \n",
              "2  0  \n",
              "3  0  \n",
              "4  0  \n",
              "\n",
              "[5 rows x 21 columns]"
            ],
            "text/html": [
              "\n",
              "  <div id=\"df-d5b66c81-4f39-4922-99ff-bed5ce899f30\">\n",
              "    <div class=\"colab-df-container\">\n",
              "      <div>\n",
              "<style scoped>\n",
              "    .dataframe tbody tr th:only-of-type {\n",
              "        vertical-align: middle;\n",
              "    }\n",
              "\n",
              "    .dataframe tbody tr th {\n",
              "        vertical-align: top;\n",
              "    }\n",
              "\n",
              "    .dataframe thead th {\n",
              "        text-align: right;\n",
              "    }\n",
              "</style>\n",
              "<table border=\"1\" class=\"dataframe\">\n",
              "  <thead>\n",
              "    <tr style=\"text-align: right;\">\n",
              "      <th></th>\n",
              "      <th>ld</th>\n",
              "      <th>m0</th>\n",
              "      <th>m1</th>\n",
              "      <th>m2</th>\n",
              "      <th>m3</th>\n",
              "      <th>m4</th>\n",
              "      <th>m5</th>\n",
              "      <th>m6</th>\n",
              "      <th>m7</th>\n",
              "      <th>m8</th>\n",
              "      <th>...</th>\n",
              "      <th>m10</th>\n",
              "      <th>m11</th>\n",
              "      <th>m12</th>\n",
              "      <th>m13</th>\n",
              "      <th>m14</th>\n",
              "      <th>y</th>\n",
              "      <th>E</th>\n",
              "      <th>x</th>\n",
              "      <th>z</th>\n",
              "      <th>w</th>\n",
              "    </tr>\n",
              "  </thead>\n",
              "  <tbody>\n",
              "    <tr>\n",
              "      <th>0</th>\n",
              "      <td>83.71</td>\n",
              "      <td>63.0</td>\n",
              "      <td>7.2</td>\n",
              "      <td>52.5</td>\n",
              "      <td>14.0232</td>\n",
              "      <td>130.8300</td>\n",
              "      <td>12.4280</td>\n",
              "      <td>188.8425</td>\n",
              "      <td>8.9520</td>\n",
              "      <td>201.1905</td>\n",
              "      <td>...</td>\n",
              "      <td>141.9075</td>\n",
              "      <td>16.0968</td>\n",
              "      <td>150.3390</td>\n",
              "      <td>12.4880</td>\n",
              "      <td>173.1240</td>\n",
              "      <td>1</td>\n",
              "      <td>0</td>\n",
              "      <td>0</td>\n",
              "      <td>0</td>\n",
              "      <td>0</td>\n",
              "    </tr>\n",
              "    <tr>\n",
              "      <th>1</th>\n",
              "      <td>108.94</td>\n",
              "      <td>31.5</td>\n",
              "      <td>12.8</td>\n",
              "      <td>84.0</td>\n",
              "      <td>13.2840</td>\n",
              "      <td>128.8350</td>\n",
              "      <td>13.5256</td>\n",
              "      <td>183.0990</td>\n",
              "      <td>8.8520</td>\n",
              "      <td>207.2385</td>\n",
              "      <td>...</td>\n",
              "      <td>154.7805</td>\n",
              "      <td>13.3304</td>\n",
              "      <td>101.0205</td>\n",
              "      <td>12.5096</td>\n",
              "      <td>131.4075</td>\n",
              "      <td>1</td>\n",
              "      <td>0</td>\n",
              "      <td>0</td>\n",
              "      <td>0</td>\n",
              "      <td>0</td>\n",
              "    </tr>\n",
              "    <tr>\n",
              "      <th>2</th>\n",
              "      <td>169.65</td>\n",
              "      <td>0.0</td>\n",
              "      <td>5.6</td>\n",
              "      <td>73.5</td>\n",
              "      <td>14.5472</td>\n",
              "      <td>128.9295</td>\n",
              "      <td>13.6424</td>\n",
              "      <td>174.4680</td>\n",
              "      <td>8.9800</td>\n",
              "      <td>190.3125</td>\n",
              "      <td>...</td>\n",
              "      <td>156.7650</td>\n",
              "      <td>15.3640</td>\n",
              "      <td>122.5350</td>\n",
              "      <td>11.7136</td>\n",
              "      <td>176.8200</td>\n",
              "      <td>0</td>\n",
              "      <td>1</td>\n",
              "      <td>0</td>\n",
              "      <td>0</td>\n",
              "      <td>0</td>\n",
              "    </tr>\n",
              "    <tr>\n",
              "      <th>3</th>\n",
              "      <td>122.42</td>\n",
              "      <td>31.5</td>\n",
              "      <td>7.2</td>\n",
              "      <td>63.0</td>\n",
              "      <td>15.0152</td>\n",
              "      <td>119.8575</td>\n",
              "      <td>12.3344</td>\n",
              "      <td>186.8580</td>\n",
              "      <td>10.7208</td>\n",
              "      <td>193.8195</td>\n",
              "      <td>...</td>\n",
              "      <td>175.7490</td>\n",
              "      <td>15.3640</td>\n",
              "      <td>124.8030</td>\n",
              "      <td>13.8424</td>\n",
              "      <td>168.2625</td>\n",
              "      <td>0</td>\n",
              "      <td>0</td>\n",
              "      <td>1</td>\n",
              "      <td>0</td>\n",
              "      <td>0</td>\n",
              "    </tr>\n",
              "    <tr>\n",
              "      <th>4</th>\n",
              "      <td>125.43</td>\n",
              "      <td>94.5</td>\n",
              "      <td>7.2</td>\n",
              "      <td>42.0</td>\n",
              "      <td>14.4176</td>\n",
              "      <td>135.4290</td>\n",
              "      <td>14.5824</td>\n",
              "      <td>187.8135</td>\n",
              "      <td>9.3088</td>\n",
              "      <td>203.1540</td>\n",
              "      <td>...</td>\n",
              "      <td>172.7040</td>\n",
              "      <td>14.4720</td>\n",
              "      <td>120.2145</td>\n",
              "      <td>12.5040</td>\n",
              "      <td>150.1185</td>\n",
              "      <td>0</td>\n",
              "      <td>1</td>\n",
              "      <td>0</td>\n",
              "      <td>0</td>\n",
              "      <td>0</td>\n",
              "    </tr>\n",
              "  </tbody>\n",
              "</table>\n",
              "<p>5 rows × 21 columns</p>\n",
              "</div>\n",
              "      <button class=\"colab-df-convert\" onclick=\"convertToInteractive('df-d5b66c81-4f39-4922-99ff-bed5ce899f30')\"\n",
              "              title=\"Convert this dataframe to an interactive table.\"\n",
              "              style=\"display:none;\">\n",
              "        \n",
              "  <svg xmlns=\"http://www.w3.org/2000/svg\" height=\"24px\"viewBox=\"0 0 24 24\"\n",
              "       width=\"24px\">\n",
              "    <path d=\"M0 0h24v24H0V0z\" fill=\"none\"/>\n",
              "    <path d=\"M18.56 5.44l.94 2.06.94-2.06 2.06-.94-2.06-.94-.94-2.06-.94 2.06-2.06.94zm-11 1L8.5 8.5l.94-2.06 2.06-.94-2.06-.94L8.5 2.5l-.94 2.06-2.06.94zm10 10l.94 2.06.94-2.06 2.06-.94-2.06-.94-.94-2.06-.94 2.06-2.06.94z\"/><path d=\"M17.41 7.96l-1.37-1.37c-.4-.4-.92-.59-1.43-.59-.52 0-1.04.2-1.43.59L10.3 9.45l-7.72 7.72c-.78.78-.78 2.05 0 2.83L4 21.41c.39.39.9.59 1.41.59.51 0 1.02-.2 1.41-.59l7.78-7.78 2.81-2.81c.8-.78.8-2.07 0-2.86zM5.41 20L4 18.59l7.72-7.72 1.47 1.35L5.41 20z\"/>\n",
              "  </svg>\n",
              "      </button>\n",
              "      \n",
              "  <style>\n",
              "    .colab-df-container {\n",
              "      display:flex;\n",
              "      flex-wrap:wrap;\n",
              "      gap: 12px;\n",
              "    }\n",
              "\n",
              "    .colab-df-convert {\n",
              "      background-color: #E8F0FE;\n",
              "      border: none;\n",
              "      border-radius: 50%;\n",
              "      cursor: pointer;\n",
              "      display: none;\n",
              "      fill: #1967D2;\n",
              "      height: 32px;\n",
              "      padding: 0 0 0 0;\n",
              "      width: 32px;\n",
              "    }\n",
              "\n",
              "    .colab-df-convert:hover {\n",
              "      background-color: #E2EBFA;\n",
              "      box-shadow: 0px 1px 2px rgba(60, 64, 67, 0.3), 0px 1px 3px 1px rgba(60, 64, 67, 0.15);\n",
              "      fill: #174EA6;\n",
              "    }\n",
              "\n",
              "    [theme=dark] .colab-df-convert {\n",
              "      background-color: #3B4455;\n",
              "      fill: #D2E3FC;\n",
              "    }\n",
              "\n",
              "    [theme=dark] .colab-df-convert:hover {\n",
              "      background-color: #434B5C;\n",
              "      box-shadow: 0px 1px 3px 1px rgba(0, 0, 0, 0.15);\n",
              "      filter: drop-shadow(0px 1px 2px rgba(0, 0, 0, 0.3));\n",
              "      fill: #FFFFFF;\n",
              "    }\n",
              "  </style>\n",
              "\n",
              "      <script>\n",
              "        const buttonEl =\n",
              "          document.querySelector('#df-d5b66c81-4f39-4922-99ff-bed5ce899f30 button.colab-df-convert');\n",
              "        buttonEl.style.display =\n",
              "          google.colab.kernel.accessAllowed ? 'block' : 'none';\n",
              "\n",
              "        async function convertToInteractive(key) {\n",
              "          const element = document.querySelector('#df-d5b66c81-4f39-4922-99ff-bed5ce899f30');\n",
              "          const dataTable =\n",
              "            await google.colab.kernel.invokeFunction('convertToInteractive',\n",
              "                                                     [key], {});\n",
              "          if (!dataTable) return;\n",
              "\n",
              "          const docLinkHtml = 'Like what you see? Visit the ' +\n",
              "            '<a target=\"_blank\" href=https://colab.research.google.com/notebooks/data_table.ipynb>data table notebook</a>'\n",
              "            + ' to learn more about interactive tables.';\n",
              "          element.innerHTML = '';\n",
              "          dataTable['output_type'] = 'display_data';\n",
              "          await google.colab.output.renderOutput(dataTable, element);\n",
              "          const docLink = document.createElement('div');\n",
              "          docLink.innerHTML = docLinkHtml;\n",
              "          element.appendChild(docLink);\n",
              "        }\n",
              "      </script>\n",
              "    </div>\n",
              "  </div>\n",
              "  "
            ]
          },
          "metadata": {},
          "execution_count": 638
        }
      ]
    },
    {
      "cell_type": "code",
      "source": [
        "X.shape"
      ],
      "metadata": {
        "colab": {
          "base_uri": "https://localhost:8080/"
        },
        "id": "bBir_xjj39Cm",
        "outputId": "68e0183d-1b08-4b58-e990-a5f78bf67a5d"
      },
      "execution_count": null,
      "outputs": [
        {
          "output_type": "execute_result",
          "data": {
            "text/plain": [
              "(35422, 16)"
            ]
          },
          "metadata": {},
          "execution_count": 481
        }
      ]
    },
    {
      "cell_type": "code",
      "execution_count": null,
      "metadata": {
        "id": "PIh4mN0qVYXr"
      },
      "outputs": [],
      "source": [
        "#  split X and y into training and testing sets\n",
        "\n",
        "from sklearn.model_selection import train_test_split\n",
        "\n",
        "X_train, X_test, y_train, y_test = train_test_split(X, y, test_size = 0.33, random_state = 42)"
      ]
    },
    {
      "cell_type": "code",
      "execution_count": null,
      "metadata": {
        "colab": {
          "base_uri": "https://localhost:8080/"
        },
        "id": "zgVwzExIVdMr",
        "outputId": "ff3539b1-266a-40e6-f928-f3850f24c938"
      },
      "outputs": [
        {
          "output_type": "stream",
          "name": "stdout",
          "text": [
            "X_train: (23732, 21)\n",
            "X_test: (11690, 21)\n"
          ]
        }
      ],
      "source": [
        "# check the shape of X_train and X_test\n",
        "print(f\"X_train: {X_train.shape}\")\n",
        "print(f\"X_test: {X_test.shape}\")"
      ]
    },
    {
      "cell_type": "markdown",
      "metadata": {
        "id": "AknjxL5Z6UVX"
      },
      "source": [
        "Feature Engineering"
      ]
    },
    {
      "cell_type": "markdown",
      "metadata": {
        "id": "Nb7ENGw66Y32"
      },
      "source": [
        "Feature Engineering is the process of transforming raw data into useful features that help us to understand our model better and increase its predictive power. I will carry out feature engineering on different types of variables."
      ]
    },
    {
      "cell_type": "code",
      "execution_count": null,
      "metadata": {
        "colab": {
          "base_uri": "https://localhost:8080/"
        },
        "id": "-6XRHPIvVomY",
        "outputId": "7dfbec76-2ae2-4742-8e26-d4fdbcbaafc9"
      },
      "outputs": [
        {
          "output_type": "execute_result",
          "data": {
            "text/plain": [
              "pc     float64\n",
              "ld     float64\n",
              "m0     float64\n",
              "m2     float64\n",
              "m3     float64\n",
              "m5     float64\n",
              "m6     float64\n",
              "m7     float64\n",
              "m8     float64\n",
              "m12    float64\n",
              "m14    float64\n",
              "ma     float64\n",
              "dtype: object"
            ]
          },
          "metadata": {},
          "execution_count": 363
        }
      ],
      "source": [
        "# check data types in X_train\n",
        "X_train.dtypes\n"
      ]
    },
    {
      "cell_type": "markdown",
      "metadata": {
        "id": "rrmnX8Re6cdb"
      },
      "source": [
        "Encode categorical variables\n",
        "Now, I will encode the categorical variables."
      ]
    },
    {
      "cell_type": "code",
      "execution_count": null,
      "metadata": {
        "colab": {
          "base_uri": "https://localhost:8080/"
        },
        "id": "pzq5NJGKVyWf",
        "outputId": "c782ee96-db31-4958-fc58-7f99987a4a7f"
      },
      "outputs": [
        {
          "output_type": "execute_result",
          "data": {
            "text/plain": [
              "1.0    11890\n",
              "0.0    11842\n",
              "Name: pred, dtype: int64"
            ]
          },
          "metadata": {},
          "execution_count": 485
        }
      ],
      "source": [
        "y_train.value_counts()"
      ]
    },
    {
      "cell_type": "markdown",
      "metadata": {
        "id": "aFiLBe146hwL"
      },
      "source": [
        "We can see that all the variables are ordinal categorical data type.\n",
        "\n"
      ]
    },
    {
      "cell_type": "markdown",
      "metadata": {
        "id": "qNB7jyd_Emd7"
      },
      "source": [
        "Now let's perform Machine Learning Classification. We'll be predicting the genre based on the given features."
      ]
    },
    {
      "cell_type": "code",
      "execution_count": null,
      "metadata": {
        "id": "aHSwTu9fWDmi"
      },
      "outputs": [],
      "source": [
        "from sklearn.naive_bayes import GaussianNB\n",
        "from sklearn.linear_model import LogisticRegression\n",
        "from sklearn.neighbors import KNeighborsClassifier\n",
        "from sklearn.tree import DecisionTreeClassifier\n",
        "from sklearn.ensemble import RandomForestClassifier\n",
        "from xgboost import XGBClassifier, XGBRFClassifier\n",
        "from xgboost import plot_tree, plot_importance\n",
        "from sklearn.ensemble import AdaBoostClassifier\n",
        "\n",
        "from sklearn.metrics import confusion_matrix, accuracy_score, roc_auc_score, roc_curve\n",
        "from sklearn import preprocessing\n",
        "from sklearn.feature_selection import RFE\n",
        "from sklearn.metrics import f1_score"
      ]
    },
    {
      "cell_type": "markdown",
      "metadata": {
        "id": "CPgdqiQgE9Je"
      },
      "source": [
        "Creating a Predefined function to assess the accuracy of a model. This will be the scoring function"
      ]
    },
    {
      "cell_type": "code",
      "execution_count": null,
      "metadata": {
        "id": "4aqlvpu3WPeR"
      },
      "outputs": [],
      "source": [
        "def score(model, title = \"Default\"):\n",
        "    model.fit(X_train, y_train)\n",
        "    preds = model.predict(X_test)\n",
        "    prediction = pd.DataFrame(preds)\n",
        "    print(confusion_matrix(y_test, preds))\n",
        "    accuracy = round(accuracy_score(y_test, preds), 5)\n",
        "    f1score = f1_score(y_test, preds)\n",
        "    print('Accuracy for', title, ':', accuracy, '\\n', 'f1 score: ', f1score, '\\n', prediction.value_counts(), '\\n')"
      ]
    },
    {
      "cell_type": "markdown",
      "metadata": {
        "id": "jP-kKojZFDJM"
      },
      "source": [
        " Let's see how a basic Logistic Regressor works on this!"
      ]
    },
    {
      "cell_type": "code",
      "execution_count": null,
      "metadata": {
        "colab": {
          "base_uri": "https://localhost:8080/"
        },
        "id": "TJibjWO1WT9x",
        "outputId": "4f21f8b7-63f9-4057-804c-4b4971f5b0f9"
      },
      "outputs": [
        {
          "output_type": "stream",
          "name": "stdout",
          "text": [
            "[[4436 1433]\n",
            " [2135 3686]]\n",
            "Accuracy for Logistic Regression : 0.69478 \n",
            " f1 score:  0.6738574040219378 \n",
            " 0    6571\n",
            "1    5119\n",
            "dtype: int64 \n",
            "\n"
          ]
        }
      ],
      "source": [
        "lg = LogisticRegression(random_state=0, solver='lbfgs', multi_class='multinomial')\n",
        "score(lg, \"Logistic Regression\")\n"
      ]
    },
    {
      "cell_type": "markdown",
      "metadata": {
        "id": "18wwH-F0FT3w"
      },
      "source": [
        "**Now it's your turn. Train the following:**"
      ]
    },
    {
      "cell_type": "markdown",
      "metadata": {
        "id": "hxNHTPTQM8R6"
      },
      "source": [
        "4. **AdaBoostClassifier** with n_estimators=1000 & random_state=0\n",
        "5. **RandomForestClassifier** with n_estimators=1000, max_depth=10, random_state=0\n",
        "\n",
        "**IMPORTANT**: Use the default values for other hyper parameters apart from these. Do **NOT** change these values"
      ]
    },
    {
      "cell_type": "code",
      "execution_count": null,
      "metadata": {
        "colab": {
          "base_uri": "https://localhost:8080/"
        },
        "id": "ZPurc-gqWhb0",
        "outputId": "432a72be-1c50-442a-de4b-78a4f19f2718"
      },
      "outputs": [
        {
          "output_type": "stream",
          "name": "stdout",
          "text": [
            "[[5407  462]\n",
            " [2311 3510]]\n",
            "Accuracy for AdaBoost Classifier : 0.76279 \n",
            " f1 score:  0.7168385581537833 0    7718\n",
            "1    3972\n",
            "dtype: int64 \n",
            "\n"
          ]
        }
      ],
      "source": [
        "# AdaBoostClassifier\n",
        "#YOUR CODE HERE\n",
        "abc = AdaBoostClassifier(n_estimators = 100, random_state=0)\n",
        "score(abc, title = \"AdaBoost Classifier\")"
      ]
    },
    {
      "cell_type": "markdown",
      "metadata": {
        "id": "paLxFePkFogB"
      },
      "source": [
        "AdaBoost performs poorly, but Random Forest looks great!\n",
        "\n",
        "Now look at the import statements. There may be a few models you may or may not have seen. Use those models to beat the score you achieved in the cell above! Play around with their hyper parameters.\n",
        "We suggest going through their documentations before using them."
      ]
    },
    {
      "cell_type": "code",
      "execution_count": null,
      "metadata": {
        "colab": {
          "base_uri": "https://localhost:8080/"
        },
        "id": "q86kHRSCWquQ",
        "outputId": "e6ea7599-1341-46e3-bfc4-bab117c4da61"
      },
      "outputs": [
        {
          "output_type": "stream",
          "name": "stdout",
          "text": [
            "[[5215  654]\n",
            " [2256 3565]]\n",
            "Accuracy for Naive Bayes : 0.75107 \n",
            " f1 score:  0.7101593625498007 \n",
            " 0    7471\n",
            "1    4219\n",
            "dtype: int64 \n",
            "\n",
            "[[3382 2487]\n",
            " [1156 4665]]\n",
            "Accuracy for K Neighbors : 0.68837 \n",
            " f1 score:  0.7191860016958299 \n",
            " 1    7152\n",
            "0    4538\n",
            "dtype: int64 \n",
            "\n",
            "[[4523 1346]\n",
            " [1696 4125]]\n",
            "Accuracy for Decision trees : 0.73978 \n",
            " f1 score:  0.7306057385759831 \n",
            " 0    6219\n",
            "1    5471\n",
            "dtype: int64 \n",
            "\n"
          ]
        }
      ],
      "source": [
        "# Naive Bayes: GaussianNB\n",
        "#YOUR CODE HERE\n",
        "nbc = GaussianNB()\n",
        "score(nbc, \"Naive Bayes\")\n",
        "\n",
        "# KNN: KNeighborsClassifier\n",
        "#YOUR CODE HERE\n",
        "knb = KNeighborsClassifier(n_neighbors=10)\n",
        "score(knb, \"K Neighbors\")\n",
        "\n",
        "# Decission trees: DecisionTreeClassifier\n",
        "#YOUR CODE HERE\n",
        "dst = DecisionTreeClassifier(max_depth=15 ,random_state=0)\n",
        "score(dst, \"Decision trees\")"
      ]
    },
    {
      "cell_type": "code",
      "source": [
        "# build the lightgbm model\n",
        "import lightgbm as lgb\n",
        "ltgm = lgb.LGBMClassifier(n_estimators= 100, learning_rate=0.1)\n",
        "score(ltgm, \"Light GBM\")"
      ],
      "metadata": {
        "colab": {
          "base_uri": "https://localhost:8080/"
        },
        "id": "DWU3NNVmR4jV",
        "outputId": "9b4cf885-8a92-47c2-fafd-01105c9f124c"
      },
      "execution_count": null,
      "outputs": [
        {
          "output_type": "stream",
          "name": "stdout",
          "text": [
            "[[5822   47]\n",
            " [1708 4113]]\n",
            "Accuracy for Light GBM : 0.84987 \n",
            " f1 score:  0.8241659152389541 \n",
            " 0    7530\n",
            "1    4160\n",
            "dtype: int64 \n",
            "\n"
          ]
        }
      ]
    },
    {
      "cell_type": "markdown",
      "metadata": {
        "id": "TI58ewjYeaDv"
      },
      "source": [
        "Visualize decision-trees"
      ]
    },
    {
      "cell_type": "markdown",
      "metadata": {
        "id": "av19xchZk5dH"
      },
      "source": [
        "Decision Tree Classifier with criterion gini index,max_depth=10, random_state=0"
      ]
    },
    {
      "cell_type": "code",
      "execution_count": null,
      "metadata": {
        "colab": {
          "base_uri": "https://localhost:8080/"
        },
        "id": "wBsOf-krl07B",
        "outputId": "ea68cc13-8fcd-4d03-ec73-ddbc82d0526f"
      },
      "outputs": [
        {
          "output_type": "stream",
          "name": "stdout",
          "text": [
            "[[3922 1947]\n",
            " [1548 4273]]\n",
            "Accuracy for Decision trees : 0.70103 \n",
            " f1 score:  0.7097417158043352 1    6220\n",
            "0    5470\n",
            "dtype: int64 \n",
            "\n"
          ]
        }
      ],
      "source": [
        "#YOUR CODE HERE\n",
        "dst2 = DecisionTreeClassifier(criterion=\"gini\", max_depth=15, random_state=0)\n",
        "score(dst2, \"Decision trees\")\n"
      ]
    },
    {
      "cell_type": "markdown",
      "metadata": {
        "id": "KDReCw1alZse"
      },
      "source": [
        "Decision Tree Classifier with criterion entripy index,max_depth=8, random_state=0"
      ]
    },
    {
      "cell_type": "code",
      "execution_count": null,
      "metadata": {
        "colab": {
          "base_uri": "https://localhost:8080/"
        },
        "id": "Rx7dwV1Ql4ou",
        "outputId": "f2b2c80b-547c-4f95-cf05-a68b155868c0"
      },
      "outputs": [
        {
          "output_type": "stream",
          "name": "stdout",
          "text": [
            "[[4441 1428]\n",
            " [1628 4193]]\n",
            "Accuracy for Decision trees : 0.73858 \n",
            " f1 score:  0.7329138262541514 \n",
            " 0    6069\n",
            "1    5621\n",
            "dtype: int64 \n",
            "\n"
          ]
        }
      ],
      "source": [
        "#YOUR CODE HERE\n",
        "dst3 = DecisionTreeClassifier(criterion= \"log_loss\", max_depth=17,random_state=10 )\n",
        "score(dst3, \"Decision trees\")\n"
      ]
    },
    {
      "cell_type": "markdown",
      "metadata": {
        "id": "sM9dA_21F4qP"
      },
      "source": [
        "Use XGBClassifier with n_estimators=1000 and learning_rate=0.01"
      ]
    },
    {
      "cell_type": "code",
      "execution_count": null,
      "metadata": {
        "colab": {
          "base_uri": "https://localhost:8080/"
        },
        "id": "VjIIyGzWYLg2",
        "outputId": "81045dad-5f07-433c-a181-f9e62b3e5de1"
      },
      "outputs": [
        {
          "output_type": "stream",
          "name": "stdout",
          "text": [
            "[[5797   72]\n",
            " [1725 4096]]\n",
            "Accuracy for XGBoost Classifier : 0.84628 \n",
            " f1 score:  0.8201021123235559 \n",
            " 0    7522\n",
            "1    4168\n",
            "dtype: int64 \n",
            "\n"
          ]
        }
      ],
      "source": [
        "# XGBClassifier\n",
        "#YOUR CODE HERE\n",
        "# y_train = y_train.apply(LabelEncoder().fit_transform)\n",
        "# y_train = LabelEncoder().fit_transform(y_train)\n",
        "# y_test = y_test.apply(LabelEncoder().fit_transform)\n",
        "# y_test = LabelEncoder().fit_transform(y_test)\n",
        "xgbst = XGBClassifier(n_estimators=100, learning_rate=0.1, reg_alpha=0.005)\n",
        "score(xgbst, \"XGBoost Classifier\")"
      ]
    },
    {
      "cell_type": "code",
      "source": [
        "# XGBClassifier\n",
        "#YOUR CODE HERE\n",
        "# y_train = y_train.apply(LabelEncoder().fit_transform)\n",
        "# y_train = LabelEncoder().fit_transform(y_train)\n",
        "# y_test = y_test.apply(LabelEncoder().fit_transform)\n",
        "# y_test = LabelEncoder().fit_transform(y_test)\n",
        "xgbst = XGBClassifier(n_estimators=100, learning_rate=0.1)\n",
        "score(xgbst, \"XGBoost Classifier\")"
      ],
      "metadata": {
        "colab": {
          "base_uri": "https://localhost:8080/"
        },
        "id": "rBvnOWGdfN2s",
        "outputId": "a5c8b187-2efd-4115-e720-c1be57d9f9ee"
      },
      "execution_count": null,
      "outputs": [
        {
          "output_type": "stream",
          "name": "stdout",
          "text": [
            "[[5799   70]\n",
            " [1667 4154]]\n",
            "Accuracy for XGBoost Classifier : 0.85141 \n",
            " f1 score:  0.8270781483325037 0    7466\n",
            "1    4224\n",
            "dtype: int64 \n",
            "\n"
          ]
        }
      ]
    },
    {
      "cell_type": "code",
      "execution_count": null,
      "metadata": {
        "id": "2OCY65PHbp0L"
      },
      "outputs": [],
      "source": [
        "# # Cell to find Feature Importance\n",
        "# #YOUR CODE HERE\n",
        "# # print()\n",
        "# xgbst2.feature_importances_"
      ]
    },
    {
      "cell_type": "code",
      "execution_count": null,
      "metadata": {
        "id": "_I1lBQzYb888"
      },
      "outputs": [],
      "source": [
        "# #YOUR CODE HERE\n",
        "# from sklearn.metrics import classification_report\n",
        "# print(classification_report(y_test, y_pred))\n"
      ]
    },
    {
      "cell_type": "code",
      "source": [
        "# build the lightgbm model\n",
        "\n",
        "# score(ltgm, \"Light GBM\")\n",
        "\n"
      ],
      "metadata": {
        "id": "OJEPCds3KxVh"
      },
      "execution_count": null,
      "outputs": []
    },
    {
      "cell_type": "code",
      "source": [
        "model = DecisionTreeClassifier(max_depth=25 ,random_state=20)\n",
        "score(model, \"Decision trees\")"
      ],
      "metadata": {
        "colab": {
          "base_uri": "https://localhost:8080/"
        },
        "id": "HQGyfGcnNBxH",
        "outputId": "fe8cffc5-64e3-43da-a2d6-cf0a8262213c"
      },
      "execution_count": null,
      "outputs": [
        {
          "output_type": "stream",
          "name": "stdout",
          "text": [
            "[[4262 1607]\n",
            " [1338 4483]]\n",
            "Accuracy for Decision trees : 0.74808 \n",
            " f1 score:  0.752749559230963 \n",
            " 1    6090\n",
            "0    5600\n",
            "dtype: int64 \n",
            "\n"
          ]
        }
      ]
    },
    {
      "cell_type": "code",
      "source": [
        "model=ltgm\n",
        "model.fit(X_train, y_train)\n",
        "preds = model.predict(Xt)\n"
      ],
      "metadata": {
        "id": "RmSMTTcoK1Al"
      },
      "execution_count": null,
      "outputs": []
    },
    {
      "cell_type": "code",
      "source": [
        "prediction = pd.DataFrame(preds, columns=['pred'])"
      ],
      "metadata": {
        "id": "FKg9kqlDLPVd"
      },
      "execution_count": null,
      "outputs": []
    },
    {
      "cell_type": "code",
      "source": [
        "prediction.value_counts()\n",
        "# prediction\n"
      ],
      "metadata": {
        "id": "1FnHm2CE2Y3L",
        "colab": {
          "base_uri": "https://localhost:8080/"
        },
        "outputId": "e681a901-ed7b-4453-8612-b4247295d51c"
      },
      "execution_count": null,
      "outputs": [
        {
          "output_type": "execute_result",
          "data": {
            "text/plain": [
              "pred\n",
              "0.0     3986\n",
              "dtype: int64"
            ]
          },
          "metadata": {},
          "execution_count": 402
        }
      ]
    },
    {
      "cell_type": "code",
      "source": [
        "prediction"
      ],
      "metadata": {
        "colab": {
          "base_uri": "https://localhost:8080/",
          "height": 423
        },
        "id": "-99q1VAyPk1z",
        "outputId": "88d2b194-0c23-4409-aa4c-6a2df1e20c24"
      },
      "execution_count": null,
      "outputs": [
        {
          "output_type": "execute_result",
          "data": {
            "text/plain": [
              "      pred\n",
              "0      0.0\n",
              "1      1.0\n",
              "2      0.0\n",
              "3      0.0\n",
              "4      1.0\n",
              "...    ...\n",
              "3981   0.0\n",
              "3982   0.0\n",
              "3983   0.0\n",
              "3984   0.0\n",
              "3985   0.0\n",
              "\n",
              "[3986 rows x 1 columns]"
            ],
            "text/html": [
              "\n",
              "  <div id=\"df-d3be74b3-9d6f-40ed-af13-b785bf464ba4\">\n",
              "    <div class=\"colab-df-container\">\n",
              "      <div>\n",
              "<style scoped>\n",
              "    .dataframe tbody tr th:only-of-type {\n",
              "        vertical-align: middle;\n",
              "    }\n",
              "\n",
              "    .dataframe tbody tr th {\n",
              "        vertical-align: top;\n",
              "    }\n",
              "\n",
              "    .dataframe thead th {\n",
              "        text-align: right;\n",
              "    }\n",
              "</style>\n",
              "<table border=\"1\" class=\"dataframe\">\n",
              "  <thead>\n",
              "    <tr style=\"text-align: right;\">\n",
              "      <th></th>\n",
              "      <th>pred</th>\n",
              "    </tr>\n",
              "  </thead>\n",
              "  <tbody>\n",
              "    <tr>\n",
              "      <th>0</th>\n",
              "      <td>0.0</td>\n",
              "    </tr>\n",
              "    <tr>\n",
              "      <th>1</th>\n",
              "      <td>1.0</td>\n",
              "    </tr>\n",
              "    <tr>\n",
              "      <th>2</th>\n",
              "      <td>0.0</td>\n",
              "    </tr>\n",
              "    <tr>\n",
              "      <th>3</th>\n",
              "      <td>0.0</td>\n",
              "    </tr>\n",
              "    <tr>\n",
              "      <th>4</th>\n",
              "      <td>1.0</td>\n",
              "    </tr>\n",
              "    <tr>\n",
              "      <th>...</th>\n",
              "      <td>...</td>\n",
              "    </tr>\n",
              "    <tr>\n",
              "      <th>3981</th>\n",
              "      <td>0.0</td>\n",
              "    </tr>\n",
              "    <tr>\n",
              "      <th>3982</th>\n",
              "      <td>0.0</td>\n",
              "    </tr>\n",
              "    <tr>\n",
              "      <th>3983</th>\n",
              "      <td>0.0</td>\n",
              "    </tr>\n",
              "    <tr>\n",
              "      <th>3984</th>\n",
              "      <td>0.0</td>\n",
              "    </tr>\n",
              "    <tr>\n",
              "      <th>3985</th>\n",
              "      <td>0.0</td>\n",
              "    </tr>\n",
              "  </tbody>\n",
              "</table>\n",
              "<p>3986 rows × 1 columns</p>\n",
              "</div>\n",
              "      <button class=\"colab-df-convert\" onclick=\"convertToInteractive('df-d3be74b3-9d6f-40ed-af13-b785bf464ba4')\"\n",
              "              title=\"Convert this dataframe to an interactive table.\"\n",
              "              style=\"display:none;\">\n",
              "        \n",
              "  <svg xmlns=\"http://www.w3.org/2000/svg\" height=\"24px\"viewBox=\"0 0 24 24\"\n",
              "       width=\"24px\">\n",
              "    <path d=\"M0 0h24v24H0V0z\" fill=\"none\"/>\n",
              "    <path d=\"M18.56 5.44l.94 2.06.94-2.06 2.06-.94-2.06-.94-.94-2.06-.94 2.06-2.06.94zm-11 1L8.5 8.5l.94-2.06 2.06-.94-2.06-.94L8.5 2.5l-.94 2.06-2.06.94zm10 10l.94 2.06.94-2.06 2.06-.94-2.06-.94-.94-2.06-.94 2.06-2.06.94z\"/><path d=\"M17.41 7.96l-1.37-1.37c-.4-.4-.92-.59-1.43-.59-.52 0-1.04.2-1.43.59L10.3 9.45l-7.72 7.72c-.78.78-.78 2.05 0 2.83L4 21.41c.39.39.9.59 1.41.59.51 0 1.02-.2 1.41-.59l7.78-7.78 2.81-2.81c.8-.78.8-2.07 0-2.86zM5.41 20L4 18.59l7.72-7.72 1.47 1.35L5.41 20z\"/>\n",
              "  </svg>\n",
              "      </button>\n",
              "      \n",
              "  <style>\n",
              "    .colab-df-container {\n",
              "      display:flex;\n",
              "      flex-wrap:wrap;\n",
              "      gap: 12px;\n",
              "    }\n",
              "\n",
              "    .colab-df-convert {\n",
              "      background-color: #E8F0FE;\n",
              "      border: none;\n",
              "      border-radius: 50%;\n",
              "      cursor: pointer;\n",
              "      display: none;\n",
              "      fill: #1967D2;\n",
              "      height: 32px;\n",
              "      padding: 0 0 0 0;\n",
              "      width: 32px;\n",
              "    }\n",
              "\n",
              "    .colab-df-convert:hover {\n",
              "      background-color: #E2EBFA;\n",
              "      box-shadow: 0px 1px 2px rgba(60, 64, 67, 0.3), 0px 1px 3px 1px rgba(60, 64, 67, 0.15);\n",
              "      fill: #174EA6;\n",
              "    }\n",
              "\n",
              "    [theme=dark] .colab-df-convert {\n",
              "      background-color: #3B4455;\n",
              "      fill: #D2E3FC;\n",
              "    }\n",
              "\n",
              "    [theme=dark] .colab-df-convert:hover {\n",
              "      background-color: #434B5C;\n",
              "      box-shadow: 0px 1px 3px 1px rgba(0, 0, 0, 0.15);\n",
              "      filter: drop-shadow(0px 1px 2px rgba(0, 0, 0, 0.3));\n",
              "      fill: #FFFFFF;\n",
              "    }\n",
              "  </style>\n",
              "\n",
              "      <script>\n",
              "        const buttonEl =\n",
              "          document.querySelector('#df-d3be74b3-9d6f-40ed-af13-b785bf464ba4 button.colab-df-convert');\n",
              "        buttonEl.style.display =\n",
              "          google.colab.kernel.accessAllowed ? 'block' : 'none';\n",
              "\n",
              "        async function convertToInteractive(key) {\n",
              "          const element = document.querySelector('#df-d3be74b3-9d6f-40ed-af13-b785bf464ba4');\n",
              "          const dataTable =\n",
              "            await google.colab.kernel.invokeFunction('convertToInteractive',\n",
              "                                                     [key], {});\n",
              "          if (!dataTable) return;\n",
              "\n",
              "          const docLinkHtml = 'Like what you see? Visit the ' +\n",
              "            '<a target=\"_blank\" href=https://colab.research.google.com/notebooks/data_table.ipynb>data table notebook</a>'\n",
              "            + ' to learn more about interactive tables.';\n",
              "          element.innerHTML = '';\n",
              "          dataTable['output_type'] = 'display_data';\n",
              "          await google.colab.output.renderOutput(dataTable, element);\n",
              "          const docLink = document.createElement('div');\n",
              "          docLink.innerHTML = docLinkHtml;\n",
              "          element.appendChild(docLink);\n",
              "        }\n",
              "      </script>\n",
              "    </div>\n",
              "  </div>\n",
              "  "
            ]
          },
          "metadata": {},
          "execution_count": 193
        }
      ]
    },
    {
      "cell_type": "markdown",
      "source": [
        "model = DecisionTreeClassifier(max_depth=15 ,random_state=0)\n",
        "output for this"
      ],
      "metadata": {
        "id": "A4s1hX32SUFm"
      }
    },
    {
      "cell_type": "code",
      "source": [
        "# Specify the file path and name for the CSV file\n",
        "csv_file_path = \"output.csv\"\n",
        "\n",
        "# Export the DataFrame to a CSV file\n",
        "prediction.to_csv(csv_file_path, index=False)"
      ],
      "metadata": {
        "id": "larNvvDLLi_0"
      },
      "execution_count": null,
      "outputs": []
    },
    {
      "cell_type": "code",
      "source": [
        "model =  AdaBoostClassifier(n_estimators = 500, random_state=0)\n",
        "# score(model)\n",
        "# model=ltgm\n",
        "model.fit(X_train, y_train)\n",
        "preds = model.predict(Xt)\n",
        "\n",
        "prediction = pd.DataFrame(preds, columns=['pred'])\n",
        "prediction.value_counts()"
      ],
      "metadata": {
        "colab": {
          "base_uri": "https://localhost:8080/"
        },
        "id": "GZFZYWCwN9Pg",
        "outputId": "7986adfc-1a56-4dd7-f4fb-bd3a217df848"
      },
      "execution_count": null,
      "outputs": [
        {
          "output_type": "execute_result",
          "data": {
            "text/plain": [
              "pred\n",
              "0       3875\n",
              "1        111\n",
              "dtype: int64"
            ]
          },
          "metadata": {},
          "execution_count": 585
        }
      ]
    },
    {
      "cell_type": "code",
      "source": [],
      "metadata": {
        "id": "jdbmNI5-S4iJ"
      },
      "execution_count": null,
      "outputs": []
    },
    {
      "cell_type": "code",
      "source": [
        "# xgbst = XGBClassifier(n_estimators=100, learning_rate=0.1, reg_alpha=0.1, reg_lambda = 0.1)\n",
        "# xgbst = XGBClassifier(n_estimators=100, learning_rate=0.1, reg_alpha=0.005)\n",
        "ltgm = lgb.LGBMClassifier(n_estimators= 500, learning_rate=0.1)\n",
        "model= ltgm\n",
        "# model= xgbst\n",
        "model.fit(X_train, y_train)\n",
        "preds = model.predict(Xt)\n",
        "\n",
        "prediction = pd.DataFrame(preds, columns=['pred'])\n",
        "prediction.value_counts()"
      ],
      "metadata": {
        "colab": {
          "base_uri": "https://localhost:8080/"
        },
        "id": "TAwAIXxWWrQY",
        "outputId": "e6ac4e7a-b4e7-45b0-fe93-f1b6b42a52c7"
      },
      "execution_count": null,
      "outputs": [
        {
          "output_type": "execute_result",
          "data": {
            "text/plain": [
              "pred\n",
              "0       3860\n",
              "1        126\n",
              "dtype: int64"
            ]
          },
          "metadata": {},
          "execution_count": 644
        }
      ]
    },
    {
      "cell_type": "code",
      "source": [
        "# dst3 = DecisionTreeClassifier(criterion= \"gini\", max_depth=30, random_state=0)\n",
        "dst3 = DecisionTreeClassifier(criterion= \"log_loss\", max_depth=17,random_state=10 )\n",
        "model=dst3\n",
        "model.fit(X_train, y_train)\n",
        "preds = model.predict(Xt)\n",
        "\n",
        "prediction = pd.DataFrame(preds, columns=['pred'])\n",
        "prediction.value_counts()"
      ],
      "metadata": {
        "colab": {
          "base_uri": "https://localhost:8080/"
        },
        "id": "MdTfDgr3agJM",
        "outputId": "e1defcea-e70f-499a-fdb9-82de045fdb46"
      },
      "execution_count": null,
      "outputs": [
        {
          "output_type": "execute_result",
          "data": {
            "text/plain": [
              "pred\n",
              "0       3033\n",
              "1        953\n",
              "dtype: int64"
            ]
          },
          "metadata": {},
          "execution_count": 661
        }
      ]
    },
    {
      "cell_type": "code",
      "source": [
        "# Specify the file path and name for the CSV file\n",
        "csv_file_path = \"output3.csv\"\n",
        "\n",
        "# Export the DataFrame to a CSV file\n",
        "prediction.to_csv(csv_file_path, index=False)"
      ],
      "metadata": {
        "id": "1ZQaOF3lWyAN"
      },
      "execution_count": null,
      "outputs": []
    },
    {
      "cell_type": "code",
      "source": [],
      "metadata": {
        "id": "5zqACtCLeF5f"
      },
      "execution_count": null,
      "outputs": []
    }
  ],
  "metadata": {
    "colab": {
      "provenance": []
    },
    "kernelspec": {
      "display_name": "Python 3 (ipykernel)",
      "language": "python",
      "name": "python3"
    },
    "language_info": {
      "codemirror_mode": {
        "name": "ipython",
        "version": 3
      },
      "file_extension": ".py",
      "mimetype": "text/x-python",
      "name": "python",
      "nbconvert_exporter": "python",
      "pygments_lexer": "ipython3",
      "version": "3.9.12"
    }
  },
  "nbformat": 4,
  "nbformat_minor": 0
}