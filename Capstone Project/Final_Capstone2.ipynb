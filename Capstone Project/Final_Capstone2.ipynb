{
  "cells": [
    {
      "cell_type": "markdown",
      "metadata": {
        "id": "wif8v0Oj06dc"
      },
      "source": [
        "# SUMMER ANALYTICS 2023\n",
        "\n",
        "## WEEK-4 ASSIGNMENT"
      ]
    },
    {
      "cell_type": "markdown",
      "metadata": {
        "id": "bQ7q5qJ76dKM"
      },
      "source": [
        "# New Section"
      ]
    },
    {
      "cell_type": "code",
      "execution_count": 503,
      "metadata": {
        "id": "iE-YDRYYRPh7"
      },
      "outputs": [],
      "source": [
        "import numpy as np # linear algebra\n",
        "import pandas as pd # data processing, CSV file I/O (e.g. pd.read_csv)\n",
        "import matplotlib.pyplot as plt # data visualization\n",
        "import seaborn as sns # statistical data visualization\n",
        "from sklearn.preprocessing import LabelEncoder\n",
        "%matplotlib inline\n",
        "import warnings\n",
        "warnings.filterwarnings('ignore')"
      ]
    },
    {
      "cell_type": "markdown",
      "metadata": {
        "id": "0RNgIwiONc5G"
      },
      "source": [
        "**Let's explore the dataset shall we?**"
      ]
    },
    {
      "cell_type": "code",
      "execution_count": 504,
      "metadata": {
        "colab": {
          "base_uri": "https://localhost:8080/",
          "height": 270
        },
        "id": "g8GUshlWRdsQ",
        "outputId": "1309f021-2bd2-4664-eb23-5a079f21fc3f"
      },
      "outputs": [
        {
          "output_type": "execute_result",
          "data": {
            "text/plain": [
              "   index pc      ld     m0    m1     m2       m3        m4       m5        m6  \\\n",
              "0      0  E  156.46   73.5   8.8  105.0  13.2768  113.5365  13.9552  168.5460   \n",
              "1      1  y   58.87   84.0  12.8   42.0  14.4440  126.6930  13.6688  190.6275   \n",
              "2      2  w  139.68  126.0   3.2   73.5  14.2432  107.4885  13.8544  168.3255   \n",
              "3      3  z  194.06   52.5   6.4  105.0  14.5480  138.6105  13.5080  196.6545   \n",
              "4      4  x  173.14   42.0   8.0  136.5  14.9496  103.8765  13.8936  168.3570   \n",
              "\n",
              "        m7        m8       m9       m10      m11       m12      m13       m14  \\\n",
              "0   8.5896  187.6560   8.3472  178.5945  14.3192  138.0435  12.7008  166.1100   \n",
              "1  10.1712  202.5870   8.5416  166.9815  15.5944  142.5690  11.6832  177.7230   \n",
              "2  10.2504  214.2735  11.3392  155.1795  16.0256  132.1005  13.0104  185.6085   \n",
              "3  10.6304  213.4650   9.9224  191.1000  14.8256  128.0475  12.1984  180.2745   \n",
              "4   9.6184  191.2050   9.9400  185.0310  13.8664  124.7610      NaN  157.6470   \n",
              "\n",
              "    ma  \n",
              "0  m76  \n",
              "1  m78  \n",
              "2  m78  \n",
              "3  m75  \n",
              "4  m55  "
            ],
            "text/html": [
              "\n",
              "  <div id=\"df-8f1e8da4-c1da-4490-885f-7ded0d361a66\">\n",
              "    <div class=\"colab-df-container\">\n",
              "      <div>\n",
              "<style scoped>\n",
              "    .dataframe tbody tr th:only-of-type {\n",
              "        vertical-align: middle;\n",
              "    }\n",
              "\n",
              "    .dataframe tbody tr th {\n",
              "        vertical-align: top;\n",
              "    }\n",
              "\n",
              "    .dataframe thead th {\n",
              "        text-align: right;\n",
              "    }\n",
              "</style>\n",
              "<table border=\"1\" class=\"dataframe\">\n",
              "  <thead>\n",
              "    <tr style=\"text-align: right;\">\n",
              "      <th></th>\n",
              "      <th>index</th>\n",
              "      <th>pc</th>\n",
              "      <th>ld</th>\n",
              "      <th>m0</th>\n",
              "      <th>m1</th>\n",
              "      <th>m2</th>\n",
              "      <th>m3</th>\n",
              "      <th>m4</th>\n",
              "      <th>m5</th>\n",
              "      <th>m6</th>\n",
              "      <th>m7</th>\n",
              "      <th>m8</th>\n",
              "      <th>m9</th>\n",
              "      <th>m10</th>\n",
              "      <th>m11</th>\n",
              "      <th>m12</th>\n",
              "      <th>m13</th>\n",
              "      <th>m14</th>\n",
              "      <th>ma</th>\n",
              "    </tr>\n",
              "  </thead>\n",
              "  <tbody>\n",
              "    <tr>\n",
              "      <th>0</th>\n",
              "      <td>0</td>\n",
              "      <td>E</td>\n",
              "      <td>156.46</td>\n",
              "      <td>73.5</td>\n",
              "      <td>8.8</td>\n",
              "      <td>105.0</td>\n",
              "      <td>13.2768</td>\n",
              "      <td>113.5365</td>\n",
              "      <td>13.9552</td>\n",
              "      <td>168.5460</td>\n",
              "      <td>8.5896</td>\n",
              "      <td>187.6560</td>\n",
              "      <td>8.3472</td>\n",
              "      <td>178.5945</td>\n",
              "      <td>14.3192</td>\n",
              "      <td>138.0435</td>\n",
              "      <td>12.7008</td>\n",
              "      <td>166.1100</td>\n",
              "      <td>m76</td>\n",
              "    </tr>\n",
              "    <tr>\n",
              "      <th>1</th>\n",
              "      <td>1</td>\n",
              "      <td>y</td>\n",
              "      <td>58.87</td>\n",
              "      <td>84.0</td>\n",
              "      <td>12.8</td>\n",
              "      <td>42.0</td>\n",
              "      <td>14.4440</td>\n",
              "      <td>126.6930</td>\n",
              "      <td>13.6688</td>\n",
              "      <td>190.6275</td>\n",
              "      <td>10.1712</td>\n",
              "      <td>202.5870</td>\n",
              "      <td>8.5416</td>\n",
              "      <td>166.9815</td>\n",
              "      <td>15.5944</td>\n",
              "      <td>142.5690</td>\n",
              "      <td>11.6832</td>\n",
              "      <td>177.7230</td>\n",
              "      <td>m78</td>\n",
              "    </tr>\n",
              "    <tr>\n",
              "      <th>2</th>\n",
              "      <td>2</td>\n",
              "      <td>w</td>\n",
              "      <td>139.68</td>\n",
              "      <td>126.0</td>\n",
              "      <td>3.2</td>\n",
              "      <td>73.5</td>\n",
              "      <td>14.2432</td>\n",
              "      <td>107.4885</td>\n",
              "      <td>13.8544</td>\n",
              "      <td>168.3255</td>\n",
              "      <td>10.2504</td>\n",
              "      <td>214.2735</td>\n",
              "      <td>11.3392</td>\n",
              "      <td>155.1795</td>\n",
              "      <td>16.0256</td>\n",
              "      <td>132.1005</td>\n",
              "      <td>13.0104</td>\n",
              "      <td>185.6085</td>\n",
              "      <td>m78</td>\n",
              "    </tr>\n",
              "    <tr>\n",
              "      <th>3</th>\n",
              "      <td>3</td>\n",
              "      <td>z</td>\n",
              "      <td>194.06</td>\n",
              "      <td>52.5</td>\n",
              "      <td>6.4</td>\n",
              "      <td>105.0</td>\n",
              "      <td>14.5480</td>\n",
              "      <td>138.6105</td>\n",
              "      <td>13.5080</td>\n",
              "      <td>196.6545</td>\n",
              "      <td>10.6304</td>\n",
              "      <td>213.4650</td>\n",
              "      <td>9.9224</td>\n",
              "      <td>191.1000</td>\n",
              "      <td>14.8256</td>\n",
              "      <td>128.0475</td>\n",
              "      <td>12.1984</td>\n",
              "      <td>180.2745</td>\n",
              "      <td>m75</td>\n",
              "    </tr>\n",
              "    <tr>\n",
              "      <th>4</th>\n",
              "      <td>4</td>\n",
              "      <td>x</td>\n",
              "      <td>173.14</td>\n",
              "      <td>42.0</td>\n",
              "      <td>8.0</td>\n",
              "      <td>136.5</td>\n",
              "      <td>14.9496</td>\n",
              "      <td>103.8765</td>\n",
              "      <td>13.8936</td>\n",
              "      <td>168.3570</td>\n",
              "      <td>9.6184</td>\n",
              "      <td>191.2050</td>\n",
              "      <td>9.9400</td>\n",
              "      <td>185.0310</td>\n",
              "      <td>13.8664</td>\n",
              "      <td>124.7610</td>\n",
              "      <td>NaN</td>\n",
              "      <td>157.6470</td>\n",
              "      <td>m55</td>\n",
              "    </tr>\n",
              "  </tbody>\n",
              "</table>\n",
              "</div>\n",
              "      <button class=\"colab-df-convert\" onclick=\"convertToInteractive('df-8f1e8da4-c1da-4490-885f-7ded0d361a66')\"\n",
              "              title=\"Convert this dataframe to an interactive table.\"\n",
              "              style=\"display:none;\">\n",
              "        \n",
              "  <svg xmlns=\"http://www.w3.org/2000/svg\" height=\"24px\"viewBox=\"0 0 24 24\"\n",
              "       width=\"24px\">\n",
              "    <path d=\"M0 0h24v24H0V0z\" fill=\"none\"/>\n",
              "    <path d=\"M18.56 5.44l.94 2.06.94-2.06 2.06-.94-2.06-.94-.94-2.06-.94 2.06-2.06.94zm-11 1L8.5 8.5l.94-2.06 2.06-.94-2.06-.94L8.5 2.5l-.94 2.06-2.06.94zm10 10l.94 2.06.94-2.06 2.06-.94-2.06-.94-.94-2.06-.94 2.06-2.06.94z\"/><path d=\"M17.41 7.96l-1.37-1.37c-.4-.4-.92-.59-1.43-.59-.52 0-1.04.2-1.43.59L10.3 9.45l-7.72 7.72c-.78.78-.78 2.05 0 2.83L4 21.41c.39.39.9.59 1.41.59.51 0 1.02-.2 1.41-.59l7.78-7.78 2.81-2.81c.8-.78.8-2.07 0-2.86zM5.41 20L4 18.59l7.72-7.72 1.47 1.35L5.41 20z\"/>\n",
              "  </svg>\n",
              "      </button>\n",
              "      \n",
              "  <style>\n",
              "    .colab-df-container {\n",
              "      display:flex;\n",
              "      flex-wrap:wrap;\n",
              "      gap: 12px;\n",
              "    }\n",
              "\n",
              "    .colab-df-convert {\n",
              "      background-color: #E8F0FE;\n",
              "      border: none;\n",
              "      border-radius: 50%;\n",
              "      cursor: pointer;\n",
              "      display: none;\n",
              "      fill: #1967D2;\n",
              "      height: 32px;\n",
              "      padding: 0 0 0 0;\n",
              "      width: 32px;\n",
              "    }\n",
              "\n",
              "    .colab-df-convert:hover {\n",
              "      background-color: #E2EBFA;\n",
              "      box-shadow: 0px 1px 2px rgba(60, 64, 67, 0.3), 0px 1px 3px 1px rgba(60, 64, 67, 0.15);\n",
              "      fill: #174EA6;\n",
              "    }\n",
              "\n",
              "    [theme=dark] .colab-df-convert {\n",
              "      background-color: #3B4455;\n",
              "      fill: #D2E3FC;\n",
              "    }\n",
              "\n",
              "    [theme=dark] .colab-df-convert:hover {\n",
              "      background-color: #434B5C;\n",
              "      box-shadow: 0px 1px 3px 1px rgba(0, 0, 0, 0.15);\n",
              "      filter: drop-shadow(0px 1px 2px rgba(0, 0, 0, 0.3));\n",
              "      fill: #FFFFFF;\n",
              "    }\n",
              "  </style>\n",
              "\n",
              "      <script>\n",
              "        const buttonEl =\n",
              "          document.querySelector('#df-8f1e8da4-c1da-4490-885f-7ded0d361a66 button.colab-df-convert');\n",
              "        buttonEl.style.display =\n",
              "          google.colab.kernel.accessAllowed ? 'block' : 'none';\n",
              "\n",
              "        async function convertToInteractive(key) {\n",
              "          const element = document.querySelector('#df-8f1e8da4-c1da-4490-885f-7ded0d361a66');\n",
              "          const dataTable =\n",
              "            await google.colab.kernel.invokeFunction('convertToInteractive',\n",
              "                                                     [key], {});\n",
              "          if (!dataTable) return;\n",
              "\n",
              "          const docLinkHtml = 'Like what you see? Visit the ' +\n",
              "            '<a target=\"_blank\" href=https://colab.research.google.com/notebooks/data_table.ipynb>data table notebook</a>'\n",
              "            + ' to learn more about interactive tables.';\n",
              "          element.innerHTML = '';\n",
              "          dataTable['output_type'] = 'display_data';\n",
              "          await google.colab.output.renderOutput(dataTable, element);\n",
              "          const docLink = document.createElement('div');\n",
              "          docLink.innerHTML = docLinkHtml;\n",
              "          element.appendChild(docLink);\n",
              "        }\n",
              "      </script>\n",
              "    </div>\n",
              "  </div>\n",
              "  "
            ]
          },
          "metadata": {},
          "execution_count": 504
        }
      ],
      "source": [
        "# Read the csv file as data\n",
        "df = pd.read_csv(\"Train_Data.csv\")\n",
        "df_test = pd.read_csv(\"Test_Data.csv\")\n",
        "# you may print first few rows\n",
        "df_test.head()\n"
      ]
    },
    {
      "cell_type": "code",
      "source": [
        "df_test.drop(['index'], inplace=True, axis=1)"
      ],
      "metadata": {
        "id": "Nm8Qbop9HLkH"
      },
      "execution_count": 505,
      "outputs": []
    },
    {
      "cell_type": "code",
      "source": [
        "df_test.head()"
      ],
      "metadata": {
        "colab": {
          "base_uri": "https://localhost:8080/",
          "height": 270
        },
        "id": "JtouZaX8xuS4",
        "outputId": "8c3a830b-23ee-41aa-ba02-26a485c2864b"
      },
      "execution_count": 506,
      "outputs": [
        {
          "output_type": "execute_result",
          "data": {
            "text/plain": [
              "  pc      ld     m0    m1     m2       m3        m4       m5        m6  \\\n",
              "0  E  156.46   73.5   8.8  105.0  13.2768  113.5365  13.9552  168.5460   \n",
              "1  y   58.87   84.0  12.8   42.0  14.4440  126.6930  13.6688  190.6275   \n",
              "2  w  139.68  126.0   3.2   73.5  14.2432  107.4885  13.8544  168.3255   \n",
              "3  z  194.06   52.5   6.4  105.0  14.5480  138.6105  13.5080  196.6545   \n",
              "4  x  173.14   42.0   8.0  136.5  14.9496  103.8765  13.8936  168.3570   \n",
              "\n",
              "        m7        m8       m9       m10      m11       m12      m13       m14  \\\n",
              "0   8.5896  187.6560   8.3472  178.5945  14.3192  138.0435  12.7008  166.1100   \n",
              "1  10.1712  202.5870   8.5416  166.9815  15.5944  142.5690  11.6832  177.7230   \n",
              "2  10.2504  214.2735  11.3392  155.1795  16.0256  132.1005  13.0104  185.6085   \n",
              "3  10.6304  213.4650   9.9224  191.1000  14.8256  128.0475  12.1984  180.2745   \n",
              "4   9.6184  191.2050   9.9400  185.0310  13.8664  124.7610      NaN  157.6470   \n",
              "\n",
              "    ma  \n",
              "0  m76  \n",
              "1  m78  \n",
              "2  m78  \n",
              "3  m75  \n",
              "4  m55  "
            ],
            "text/html": [
              "\n",
              "  <div id=\"df-be0d4352-b42e-4d55-b596-42e018d4c4b4\">\n",
              "    <div class=\"colab-df-container\">\n",
              "      <div>\n",
              "<style scoped>\n",
              "    .dataframe tbody tr th:only-of-type {\n",
              "        vertical-align: middle;\n",
              "    }\n",
              "\n",
              "    .dataframe tbody tr th {\n",
              "        vertical-align: top;\n",
              "    }\n",
              "\n",
              "    .dataframe thead th {\n",
              "        text-align: right;\n",
              "    }\n",
              "</style>\n",
              "<table border=\"1\" class=\"dataframe\">\n",
              "  <thead>\n",
              "    <tr style=\"text-align: right;\">\n",
              "      <th></th>\n",
              "      <th>pc</th>\n",
              "      <th>ld</th>\n",
              "      <th>m0</th>\n",
              "      <th>m1</th>\n",
              "      <th>m2</th>\n",
              "      <th>m3</th>\n",
              "      <th>m4</th>\n",
              "      <th>m5</th>\n",
              "      <th>m6</th>\n",
              "      <th>m7</th>\n",
              "      <th>m8</th>\n",
              "      <th>m9</th>\n",
              "      <th>m10</th>\n",
              "      <th>m11</th>\n",
              "      <th>m12</th>\n",
              "      <th>m13</th>\n",
              "      <th>m14</th>\n",
              "      <th>ma</th>\n",
              "    </tr>\n",
              "  </thead>\n",
              "  <tbody>\n",
              "    <tr>\n",
              "      <th>0</th>\n",
              "      <td>E</td>\n",
              "      <td>156.46</td>\n",
              "      <td>73.5</td>\n",
              "      <td>8.8</td>\n",
              "      <td>105.0</td>\n",
              "      <td>13.2768</td>\n",
              "      <td>113.5365</td>\n",
              "      <td>13.9552</td>\n",
              "      <td>168.5460</td>\n",
              "      <td>8.5896</td>\n",
              "      <td>187.6560</td>\n",
              "      <td>8.3472</td>\n",
              "      <td>178.5945</td>\n",
              "      <td>14.3192</td>\n",
              "      <td>138.0435</td>\n",
              "      <td>12.7008</td>\n",
              "      <td>166.1100</td>\n",
              "      <td>m76</td>\n",
              "    </tr>\n",
              "    <tr>\n",
              "      <th>1</th>\n",
              "      <td>y</td>\n",
              "      <td>58.87</td>\n",
              "      <td>84.0</td>\n",
              "      <td>12.8</td>\n",
              "      <td>42.0</td>\n",
              "      <td>14.4440</td>\n",
              "      <td>126.6930</td>\n",
              "      <td>13.6688</td>\n",
              "      <td>190.6275</td>\n",
              "      <td>10.1712</td>\n",
              "      <td>202.5870</td>\n",
              "      <td>8.5416</td>\n",
              "      <td>166.9815</td>\n",
              "      <td>15.5944</td>\n",
              "      <td>142.5690</td>\n",
              "      <td>11.6832</td>\n",
              "      <td>177.7230</td>\n",
              "      <td>m78</td>\n",
              "    </tr>\n",
              "    <tr>\n",
              "      <th>2</th>\n",
              "      <td>w</td>\n",
              "      <td>139.68</td>\n",
              "      <td>126.0</td>\n",
              "      <td>3.2</td>\n",
              "      <td>73.5</td>\n",
              "      <td>14.2432</td>\n",
              "      <td>107.4885</td>\n",
              "      <td>13.8544</td>\n",
              "      <td>168.3255</td>\n",
              "      <td>10.2504</td>\n",
              "      <td>214.2735</td>\n",
              "      <td>11.3392</td>\n",
              "      <td>155.1795</td>\n",
              "      <td>16.0256</td>\n",
              "      <td>132.1005</td>\n",
              "      <td>13.0104</td>\n",
              "      <td>185.6085</td>\n",
              "      <td>m78</td>\n",
              "    </tr>\n",
              "    <tr>\n",
              "      <th>3</th>\n",
              "      <td>z</td>\n",
              "      <td>194.06</td>\n",
              "      <td>52.5</td>\n",
              "      <td>6.4</td>\n",
              "      <td>105.0</td>\n",
              "      <td>14.5480</td>\n",
              "      <td>138.6105</td>\n",
              "      <td>13.5080</td>\n",
              "      <td>196.6545</td>\n",
              "      <td>10.6304</td>\n",
              "      <td>213.4650</td>\n",
              "      <td>9.9224</td>\n",
              "      <td>191.1000</td>\n",
              "      <td>14.8256</td>\n",
              "      <td>128.0475</td>\n",
              "      <td>12.1984</td>\n",
              "      <td>180.2745</td>\n",
              "      <td>m75</td>\n",
              "    </tr>\n",
              "    <tr>\n",
              "      <th>4</th>\n",
              "      <td>x</td>\n",
              "      <td>173.14</td>\n",
              "      <td>42.0</td>\n",
              "      <td>8.0</td>\n",
              "      <td>136.5</td>\n",
              "      <td>14.9496</td>\n",
              "      <td>103.8765</td>\n",
              "      <td>13.8936</td>\n",
              "      <td>168.3570</td>\n",
              "      <td>9.6184</td>\n",
              "      <td>191.2050</td>\n",
              "      <td>9.9400</td>\n",
              "      <td>185.0310</td>\n",
              "      <td>13.8664</td>\n",
              "      <td>124.7610</td>\n",
              "      <td>NaN</td>\n",
              "      <td>157.6470</td>\n",
              "      <td>m55</td>\n",
              "    </tr>\n",
              "  </tbody>\n",
              "</table>\n",
              "</div>\n",
              "      <button class=\"colab-df-convert\" onclick=\"convertToInteractive('df-be0d4352-b42e-4d55-b596-42e018d4c4b4')\"\n",
              "              title=\"Convert this dataframe to an interactive table.\"\n",
              "              style=\"display:none;\">\n",
              "        \n",
              "  <svg xmlns=\"http://www.w3.org/2000/svg\" height=\"24px\"viewBox=\"0 0 24 24\"\n",
              "       width=\"24px\">\n",
              "    <path d=\"M0 0h24v24H0V0z\" fill=\"none\"/>\n",
              "    <path d=\"M18.56 5.44l.94 2.06.94-2.06 2.06-.94-2.06-.94-.94-2.06-.94 2.06-2.06.94zm-11 1L8.5 8.5l.94-2.06 2.06-.94-2.06-.94L8.5 2.5l-.94 2.06-2.06.94zm10 10l.94 2.06.94-2.06 2.06-.94-2.06-.94-.94-2.06-.94 2.06-2.06.94z\"/><path d=\"M17.41 7.96l-1.37-1.37c-.4-.4-.92-.59-1.43-.59-.52 0-1.04.2-1.43.59L10.3 9.45l-7.72 7.72c-.78.78-.78 2.05 0 2.83L4 21.41c.39.39.9.59 1.41.59.51 0 1.02-.2 1.41-.59l7.78-7.78 2.81-2.81c.8-.78.8-2.07 0-2.86zM5.41 20L4 18.59l7.72-7.72 1.47 1.35L5.41 20z\"/>\n",
              "  </svg>\n",
              "      </button>\n",
              "      \n",
              "  <style>\n",
              "    .colab-df-container {\n",
              "      display:flex;\n",
              "      flex-wrap:wrap;\n",
              "      gap: 12px;\n",
              "    }\n",
              "\n",
              "    .colab-df-convert {\n",
              "      background-color: #E8F0FE;\n",
              "      border: none;\n",
              "      border-radius: 50%;\n",
              "      cursor: pointer;\n",
              "      display: none;\n",
              "      fill: #1967D2;\n",
              "      height: 32px;\n",
              "      padding: 0 0 0 0;\n",
              "      width: 32px;\n",
              "    }\n",
              "\n",
              "    .colab-df-convert:hover {\n",
              "      background-color: #E2EBFA;\n",
              "      box-shadow: 0px 1px 2px rgba(60, 64, 67, 0.3), 0px 1px 3px 1px rgba(60, 64, 67, 0.15);\n",
              "      fill: #174EA6;\n",
              "    }\n",
              "\n",
              "    [theme=dark] .colab-df-convert {\n",
              "      background-color: #3B4455;\n",
              "      fill: #D2E3FC;\n",
              "    }\n",
              "\n",
              "    [theme=dark] .colab-df-convert:hover {\n",
              "      background-color: #434B5C;\n",
              "      box-shadow: 0px 1px 3px 1px rgba(0, 0, 0, 0.15);\n",
              "      filter: drop-shadow(0px 1px 2px rgba(0, 0, 0, 0.3));\n",
              "      fill: #FFFFFF;\n",
              "    }\n",
              "  </style>\n",
              "\n",
              "      <script>\n",
              "        const buttonEl =\n",
              "          document.querySelector('#df-be0d4352-b42e-4d55-b596-42e018d4c4b4 button.colab-df-convert');\n",
              "        buttonEl.style.display =\n",
              "          google.colab.kernel.accessAllowed ? 'block' : 'none';\n",
              "\n",
              "        async function convertToInteractive(key) {\n",
              "          const element = document.querySelector('#df-be0d4352-b42e-4d55-b596-42e018d4c4b4');\n",
              "          const dataTable =\n",
              "            await google.colab.kernel.invokeFunction('convertToInteractive',\n",
              "                                                     [key], {});\n",
              "          if (!dataTable) return;\n",
              "\n",
              "          const docLinkHtml = 'Like what you see? Visit the ' +\n",
              "            '<a target=\"_blank\" href=https://colab.research.google.com/notebooks/data_table.ipynb>data table notebook</a>'\n",
              "            + ' to learn more about interactive tables.';\n",
              "          element.innerHTML = '';\n",
              "          dataTable['output_type'] = 'display_data';\n",
              "          await google.colab.output.renderOutput(dataTable, element);\n",
              "          const docLink = document.createElement('div');\n",
              "          docLink.innerHTML = docLinkHtml;\n",
              "          element.appendChild(docLink);\n",
              "        }\n",
              "      </script>\n",
              "    </div>\n",
              "  </div>\n",
              "  "
            ]
          },
          "metadata": {},
          "execution_count": 506
        }
      ]
    },
    {
      "cell_type": "code",
      "execution_count": 491,
      "metadata": {
        "colab": {
          "base_uri": "https://localhost:8080/"
        },
        "id": "JwPs1FWHRvp1",
        "outputId": "32da2cf0-e639-42a0-f075-3d9d765ed5fe"
      },
      "outputs": [
        {
          "output_type": "execute_result",
          "data": {
            "text/plain": [
              "(3986, 18)"
            ]
          },
          "metadata": {},
          "execution_count": 491
        }
      ],
      "source": [
        "df_test.shape"
      ]
    },
    {
      "cell_type": "code",
      "source": [
        "df.pred.value_counts()"
      ],
      "metadata": {
        "colab": {
          "base_uri": "https://localhost:8080/"
        },
        "id": "eciDshC82stg",
        "outputId": "50729f3a-d6c0-4631-a9c6-9c1398ea6325"
      },
      "execution_count": 272,
      "outputs": [
        {
          "output_type": "execute_result",
          "data": {
            "text/plain": [
              "0    17711\n",
              "1     4873\n",
              "Name: pred, dtype: int64"
            ]
          },
          "metadata": {},
          "execution_count": 272
        }
      ]
    },
    {
      "cell_type": "code",
      "source": [
        "# # sns.rugplot(data=df, x=\"ma\", y=\"pred\")\n",
        "# plt.figure(figsize=(15,10))\n",
        "# sns.heatmap(df.corr(), cmap=\"YlGnBu\", annot=True)"
      ],
      "metadata": {
        "id": "l79qBJmxKEen"
      },
      "execution_count": 14,
      "outputs": []
    },
    {
      "cell_type": "code",
      "source": [
        "# df.corr().pred"
      ],
      "metadata": {
        "id": "Df5LmwO1yYpP"
      },
      "execution_count": 15,
      "outputs": []
    },
    {
      "cell_type": "code",
      "source": [
        "# df2 = df*df.corr().pred\n",
        "# df2.head()"
      ],
      "metadata": {
        "id": "8X_S3xWjykZ9"
      },
      "execution_count": 16,
      "outputs": []
    },
    {
      "cell_type": "code",
      "source": [],
      "metadata": {
        "id": "mHtBGK8lyaOc"
      },
      "execution_count": 17,
      "outputs": []
    },
    {
      "cell_type": "markdown",
      "metadata": {
        "id": "XEd63OSL0ivl"
      },
      "source": [
        "**Declare feature vector and target variable**"
      ]
    },
    {
      "cell_type": "code",
      "source": [
        "# X= df.drop([\"pred\", \"pc\", \"ma\"], axis=1)\n",
        "X= df.drop([\"pred\"], axis=1)\n",
        "y = df.pred\n",
        "X.head()\n",
        "\n",
        "# Xt = df_test.drop([\"pc\", \"ma\"], axis=1)\n",
        "Xt= df_test\n",
        "Xt.head()"
      ],
      "metadata": {
        "id": "nx824SrVCFuQ",
        "colab": {
          "base_uri": "https://localhost:8080/",
          "height": 270
        },
        "outputId": "c4b6434c-1a1c-4893-b315-ce8d8b597cee"
      },
      "execution_count": 507,
      "outputs": [
        {
          "output_type": "execute_result",
          "data": {
            "text/plain": [
              "  pc      ld     m0    m1     m2       m3        m4       m5        m6  \\\n",
              "0  E  156.46   73.5   8.8  105.0  13.2768  113.5365  13.9552  168.5460   \n",
              "1  y   58.87   84.0  12.8   42.0  14.4440  126.6930  13.6688  190.6275   \n",
              "2  w  139.68  126.0   3.2   73.5  14.2432  107.4885  13.8544  168.3255   \n",
              "3  z  194.06   52.5   6.4  105.0  14.5480  138.6105  13.5080  196.6545   \n",
              "4  x  173.14   42.0   8.0  136.5  14.9496  103.8765  13.8936  168.3570   \n",
              "\n",
              "        m7        m8       m9       m10      m11       m12      m13       m14  \\\n",
              "0   8.5896  187.6560   8.3472  178.5945  14.3192  138.0435  12.7008  166.1100   \n",
              "1  10.1712  202.5870   8.5416  166.9815  15.5944  142.5690  11.6832  177.7230   \n",
              "2  10.2504  214.2735  11.3392  155.1795  16.0256  132.1005  13.0104  185.6085   \n",
              "3  10.6304  213.4650   9.9224  191.1000  14.8256  128.0475  12.1984  180.2745   \n",
              "4   9.6184  191.2050   9.9400  185.0310  13.8664  124.7610      NaN  157.6470   \n",
              "\n",
              "    ma  \n",
              "0  m76  \n",
              "1  m78  \n",
              "2  m78  \n",
              "3  m75  \n",
              "4  m55  "
            ],
            "text/html": [
              "\n",
              "  <div id=\"df-dd0d2830-c389-424d-b9c9-4b94ed798831\">\n",
              "    <div class=\"colab-df-container\">\n",
              "      <div>\n",
              "<style scoped>\n",
              "    .dataframe tbody tr th:only-of-type {\n",
              "        vertical-align: middle;\n",
              "    }\n",
              "\n",
              "    .dataframe tbody tr th {\n",
              "        vertical-align: top;\n",
              "    }\n",
              "\n",
              "    .dataframe thead th {\n",
              "        text-align: right;\n",
              "    }\n",
              "</style>\n",
              "<table border=\"1\" class=\"dataframe\">\n",
              "  <thead>\n",
              "    <tr style=\"text-align: right;\">\n",
              "      <th></th>\n",
              "      <th>pc</th>\n",
              "      <th>ld</th>\n",
              "      <th>m0</th>\n",
              "      <th>m1</th>\n",
              "      <th>m2</th>\n",
              "      <th>m3</th>\n",
              "      <th>m4</th>\n",
              "      <th>m5</th>\n",
              "      <th>m6</th>\n",
              "      <th>m7</th>\n",
              "      <th>m8</th>\n",
              "      <th>m9</th>\n",
              "      <th>m10</th>\n",
              "      <th>m11</th>\n",
              "      <th>m12</th>\n",
              "      <th>m13</th>\n",
              "      <th>m14</th>\n",
              "      <th>ma</th>\n",
              "    </tr>\n",
              "  </thead>\n",
              "  <tbody>\n",
              "    <tr>\n",
              "      <th>0</th>\n",
              "      <td>E</td>\n",
              "      <td>156.46</td>\n",
              "      <td>73.5</td>\n",
              "      <td>8.8</td>\n",
              "      <td>105.0</td>\n",
              "      <td>13.2768</td>\n",
              "      <td>113.5365</td>\n",
              "      <td>13.9552</td>\n",
              "      <td>168.5460</td>\n",
              "      <td>8.5896</td>\n",
              "      <td>187.6560</td>\n",
              "      <td>8.3472</td>\n",
              "      <td>178.5945</td>\n",
              "      <td>14.3192</td>\n",
              "      <td>138.0435</td>\n",
              "      <td>12.7008</td>\n",
              "      <td>166.1100</td>\n",
              "      <td>m76</td>\n",
              "    </tr>\n",
              "    <tr>\n",
              "      <th>1</th>\n",
              "      <td>y</td>\n",
              "      <td>58.87</td>\n",
              "      <td>84.0</td>\n",
              "      <td>12.8</td>\n",
              "      <td>42.0</td>\n",
              "      <td>14.4440</td>\n",
              "      <td>126.6930</td>\n",
              "      <td>13.6688</td>\n",
              "      <td>190.6275</td>\n",
              "      <td>10.1712</td>\n",
              "      <td>202.5870</td>\n",
              "      <td>8.5416</td>\n",
              "      <td>166.9815</td>\n",
              "      <td>15.5944</td>\n",
              "      <td>142.5690</td>\n",
              "      <td>11.6832</td>\n",
              "      <td>177.7230</td>\n",
              "      <td>m78</td>\n",
              "    </tr>\n",
              "    <tr>\n",
              "      <th>2</th>\n",
              "      <td>w</td>\n",
              "      <td>139.68</td>\n",
              "      <td>126.0</td>\n",
              "      <td>3.2</td>\n",
              "      <td>73.5</td>\n",
              "      <td>14.2432</td>\n",
              "      <td>107.4885</td>\n",
              "      <td>13.8544</td>\n",
              "      <td>168.3255</td>\n",
              "      <td>10.2504</td>\n",
              "      <td>214.2735</td>\n",
              "      <td>11.3392</td>\n",
              "      <td>155.1795</td>\n",
              "      <td>16.0256</td>\n",
              "      <td>132.1005</td>\n",
              "      <td>13.0104</td>\n",
              "      <td>185.6085</td>\n",
              "      <td>m78</td>\n",
              "    </tr>\n",
              "    <tr>\n",
              "      <th>3</th>\n",
              "      <td>z</td>\n",
              "      <td>194.06</td>\n",
              "      <td>52.5</td>\n",
              "      <td>6.4</td>\n",
              "      <td>105.0</td>\n",
              "      <td>14.5480</td>\n",
              "      <td>138.6105</td>\n",
              "      <td>13.5080</td>\n",
              "      <td>196.6545</td>\n",
              "      <td>10.6304</td>\n",
              "      <td>213.4650</td>\n",
              "      <td>9.9224</td>\n",
              "      <td>191.1000</td>\n",
              "      <td>14.8256</td>\n",
              "      <td>128.0475</td>\n",
              "      <td>12.1984</td>\n",
              "      <td>180.2745</td>\n",
              "      <td>m75</td>\n",
              "    </tr>\n",
              "    <tr>\n",
              "      <th>4</th>\n",
              "      <td>x</td>\n",
              "      <td>173.14</td>\n",
              "      <td>42.0</td>\n",
              "      <td>8.0</td>\n",
              "      <td>136.5</td>\n",
              "      <td>14.9496</td>\n",
              "      <td>103.8765</td>\n",
              "      <td>13.8936</td>\n",
              "      <td>168.3570</td>\n",
              "      <td>9.6184</td>\n",
              "      <td>191.2050</td>\n",
              "      <td>9.9400</td>\n",
              "      <td>185.0310</td>\n",
              "      <td>13.8664</td>\n",
              "      <td>124.7610</td>\n",
              "      <td>NaN</td>\n",
              "      <td>157.6470</td>\n",
              "      <td>m55</td>\n",
              "    </tr>\n",
              "  </tbody>\n",
              "</table>\n",
              "</div>\n",
              "      <button class=\"colab-df-convert\" onclick=\"convertToInteractive('df-dd0d2830-c389-424d-b9c9-4b94ed798831')\"\n",
              "              title=\"Convert this dataframe to an interactive table.\"\n",
              "              style=\"display:none;\">\n",
              "        \n",
              "  <svg xmlns=\"http://www.w3.org/2000/svg\" height=\"24px\"viewBox=\"0 0 24 24\"\n",
              "       width=\"24px\">\n",
              "    <path d=\"M0 0h24v24H0V0z\" fill=\"none\"/>\n",
              "    <path d=\"M18.56 5.44l.94 2.06.94-2.06 2.06-.94-2.06-.94-.94-2.06-.94 2.06-2.06.94zm-11 1L8.5 8.5l.94-2.06 2.06-.94-2.06-.94L8.5 2.5l-.94 2.06-2.06.94zm10 10l.94 2.06.94-2.06 2.06-.94-2.06-.94-.94-2.06-.94 2.06-2.06.94z\"/><path d=\"M17.41 7.96l-1.37-1.37c-.4-.4-.92-.59-1.43-.59-.52 0-1.04.2-1.43.59L10.3 9.45l-7.72 7.72c-.78.78-.78 2.05 0 2.83L4 21.41c.39.39.9.59 1.41.59.51 0 1.02-.2 1.41-.59l7.78-7.78 2.81-2.81c.8-.78.8-2.07 0-2.86zM5.41 20L4 18.59l7.72-7.72 1.47 1.35L5.41 20z\"/>\n",
              "  </svg>\n",
              "      </button>\n",
              "      \n",
              "  <style>\n",
              "    .colab-df-container {\n",
              "      display:flex;\n",
              "      flex-wrap:wrap;\n",
              "      gap: 12px;\n",
              "    }\n",
              "\n",
              "    .colab-df-convert {\n",
              "      background-color: #E8F0FE;\n",
              "      border: none;\n",
              "      border-radius: 50%;\n",
              "      cursor: pointer;\n",
              "      display: none;\n",
              "      fill: #1967D2;\n",
              "      height: 32px;\n",
              "      padding: 0 0 0 0;\n",
              "      width: 32px;\n",
              "    }\n",
              "\n",
              "    .colab-df-convert:hover {\n",
              "      background-color: #E2EBFA;\n",
              "      box-shadow: 0px 1px 2px rgba(60, 64, 67, 0.3), 0px 1px 3px 1px rgba(60, 64, 67, 0.15);\n",
              "      fill: #174EA6;\n",
              "    }\n",
              "\n",
              "    [theme=dark] .colab-df-convert {\n",
              "      background-color: #3B4455;\n",
              "      fill: #D2E3FC;\n",
              "    }\n",
              "\n",
              "    [theme=dark] .colab-df-convert:hover {\n",
              "      background-color: #434B5C;\n",
              "      box-shadow: 0px 1px 3px 1px rgba(0, 0, 0, 0.15);\n",
              "      filter: drop-shadow(0px 1px 2px rgba(0, 0, 0, 0.3));\n",
              "      fill: #FFFFFF;\n",
              "    }\n",
              "  </style>\n",
              "\n",
              "      <script>\n",
              "        const buttonEl =\n",
              "          document.querySelector('#df-dd0d2830-c389-424d-b9c9-4b94ed798831 button.colab-df-convert');\n",
              "        buttonEl.style.display =\n",
              "          google.colab.kernel.accessAllowed ? 'block' : 'none';\n",
              "\n",
              "        async function convertToInteractive(key) {\n",
              "          const element = document.querySelector('#df-dd0d2830-c389-424d-b9c9-4b94ed798831');\n",
              "          const dataTable =\n",
              "            await google.colab.kernel.invokeFunction('convertToInteractive',\n",
              "                                                     [key], {});\n",
              "          if (!dataTable) return;\n",
              "\n",
              "          const docLinkHtml = 'Like what you see? Visit the ' +\n",
              "            '<a target=\"_blank\" href=https://colab.research.google.com/notebooks/data_table.ipynb>data table notebook</a>'\n",
              "            + ' to learn more about interactive tables.';\n",
              "          element.innerHTML = '';\n",
              "          dataTable['output_type'] = 'display_data';\n",
              "          await google.colab.output.renderOutput(dataTable, element);\n",
              "          const docLink = document.createElement('div');\n",
              "          docLink.innerHTML = docLinkHtml;\n",
              "          element.appendChild(docLink);\n",
              "        }\n",
              "      </script>\n",
              "    </div>\n",
              "  </div>\n",
              "  "
            ]
          },
          "metadata": {},
          "execution_count": 507
        }
      ]
    },
    {
      "cell_type": "markdown",
      "source": [
        "Transforming labels and Scaling"
      ],
      "metadata": {
        "id": "nEMF_vicTJ1L"
      }
    },
    {
      "cell_type": "code",
      "source": [],
      "metadata": {
        "id": "7BT3GW0YpVm-"
      },
      "execution_count": 304,
      "outputs": []
    },
    {
      "cell_type": "code",
      "source": [
        "pc_vals = X.pc.value_counts().sort_values(ascending=False).index\n",
        "ma_vals = X.ma.value_counts().sort_values(ascending=False).index\n",
        "# list_top_10=dataset.X1.value_counts().sort_values(ascending=False).head(10).index\n",
        "ma_vals, pc_vals"
      ],
      "metadata": {
        "colab": {
          "base_uri": "https://localhost:8080/"
        },
        "id": "avAAPUSyuomW",
        "outputId": "a7e28b35-5244-4f47-a818-5783d285e23b"
      },
      "execution_count": 508,
      "outputs": [
        {
          "output_type": "execute_result",
          "data": {
            "text/plain": [
              "(Index(['m78', 'm76', 'm55', 'm75'], dtype='object'),\n",
              " Index(['y', 'E', 'x', 'z', 'w'], dtype='object'))"
            ]
          },
          "metadata": {},
          "execution_count": 508
        }
      ]
    },
    {
      "cell_type": "code",
      "source": [
        "for category in pc_vals:\n",
        "    X[category]=np.where(X['pc']==category,1,0)\n",
        "    Xt[category]=np.where(Xt['pc']==category,1,0)\n",
        "X.head()\n",
        "X = X.drop([\"pc\"], axis=1)\n",
        "Xt = Xt.drop([\"pc\"], axis=1)\n",
        "\n",
        "for category in ma_vals:\n",
        "    X[category]=np.where(X['ma']==category,1,0)\n",
        "    Xt[category]=np.where(Xt['ma']==category,1,0)\n",
        "X.head()\n",
        "X = X.drop([\"ma\"], axis=1)\n",
        "Xt = Xt.drop([\"ma\"], axis=1)"
      ],
      "metadata": {
        "id": "JPh22criz505"
      },
      "execution_count": 509,
      "outputs": []
    },
    {
      "cell_type": "code",
      "source": [],
      "metadata": {
        "id": "2L_iqEEAvwVW"
      },
      "execution_count": 306,
      "outputs": []
    },
    {
      "cell_type": "code",
      "source": [
        "# X = X.apply(LabelEncoder().fit_transform)\n",
        "# Xt = Xt.apply(LabelEncoder().fit_transform)\n",
        "# Xt.head()"
      ],
      "metadata": {
        "id": "lWA9z99ewchj"
      },
      "execution_count": 307,
      "outputs": []
    },
    {
      "cell_type": "code",
      "source": [
        "# from sklearn.preprocessing import MinMaxScaler\n",
        "# scaler = MinMaxScaler(feature_range=(0, 5))\n",
        "# cols=X.columns\n",
        "# cols2=Xt.columns\n",
        "# X[cols] = scaler.fit_transform(X[cols])\n",
        "# Xt[cols2] = scaler.fit_transform(Xt[cols2])\n",
        "# X.head()"
      ],
      "metadata": {
        "id": "sKTrZe4MhDoz"
      },
      "execution_count": 510,
      "outputs": []
    },
    {
      "cell_type": "code",
      "source": [
        "# # Box-Cox\n",
        "# from sklearn.preprocessing import RobustScaler\n",
        "# scaler = RobustScaler()\n",
        "\n",
        "# cols=X.columns\n",
        "# cols2=Xt.columns\n",
        "# X[cols] = scaler.fit_transform(X[cols])\n",
        "# Xt[cols2] = scaler.fit_transform(Xt[cols2])\n",
        "# X.head()"
      ],
      "metadata": {
        "id": "oO6Xnh1HmIVu"
      },
      "execution_count": 184,
      "outputs": []
    },
    {
      "cell_type": "code",
      "source": [
        "X = X.fillna(X.mean())\n",
        "Xt = Xt.fillna(X.mean())\n",
        "# X.isna().sum()"
      ],
      "metadata": {
        "id": "My9LTzpTvpkI"
      },
      "execution_count": 512,
      "outputs": []
    },
    {
      "cell_type": "code",
      "source": [
        "# # X = X.apply(LabelEncoder().fit_transform)\n",
        "# label_encoder = LabelEncoder()\n",
        "# X[\"pc\"] = label_encoder.fit_transform(X[\"pc\"])\n",
        "# X.head()"
      ],
      "metadata": {
        "id": "OTbm5UQ4TJRF"
      },
      "execution_count": null,
      "outputs": []
    },
    {
      "cell_type": "code",
      "source": [
        "# X[\"ma\"] = label_encoder.fit_transform(X[\"ma\"])"
      ],
      "metadata": {
        "id": "ZeJOGl8BrZrk"
      },
      "execution_count": null,
      "outputs": []
    },
    {
      "cell_type": "code",
      "source": [
        "# columns = X.columns\n",
        "# columns"
      ],
      "metadata": {
        "id": "LjeNgyJFrr6G"
      },
      "execution_count": null,
      "outputs": []
    },
    {
      "cell_type": "code",
      "source": [
        "# from sklearn.preprocessing import MinMaxScaler\n",
        "# mms = MinMaxScaler(feature_range=(0, 1))\n",
        "\n",
        "# X[columns] = mms.fit_transform(X[columns])\n",
        "\n"
      ],
      "metadata": {
        "id": "iNRyk2mvdcA3"
      },
      "execution_count": null,
      "outputs": []
    },
    {
      "cell_type": "code",
      "source": [
        "# from sklearn.preprocessing import QuantileTransformer\n",
        "# scaler = QuantileTransformer()\n",
        "# X[columns] = scaler.fit_transform(X[columns])"
      ],
      "metadata": {
        "id": "ycnTZuWbtsgT"
      },
      "execution_count": null,
      "outputs": []
    },
    {
      "cell_type": "code",
      "source": [
        "# X.isna().sum()\n",
        "# X = X.fillna(X.mean())"
      ],
      "metadata": {
        "id": "eVH32fApaLag"
      },
      "execution_count": null,
      "outputs": []
    },
    {
      "cell_type": "markdown",
      "metadata": {
        "id": "ofmJ_Aia0qnU"
      },
      "source": [
        "**Split data into separate training and test set**"
      ]
    },
    {
      "cell_type": "code",
      "source": [
        "# t=X.join(y)\n",
        "# # plt.figure(figsize=(15,10))\n",
        "# # sns.heatmap(t.corr(), cmap=\"YlGnBu\", annot=True)\n",
        "# # t.head()\n",
        "# factor = t.corr().pred\n",
        "# factor2 =  factor.drop('pred')\n",
        "\n",
        "# df2 = t*factor\n",
        "# df3 = Xt*factor2\n",
        "\n",
        "# X= df2.drop([\"pred\"], axis=1)\n",
        "# y =df2.pred\n",
        "\n",
        "# Xt = df3\n",
        "# X.head()"
      ],
      "metadata": {
        "colab": {
          "base_uri": "https://localhost:8080/",
          "height": 299
        },
        "id": "C8K3CjR_vQ8n",
        "outputId": "cd4b6a79-9fd6-4aca-d833-d8ecd108aa44"
      },
      "execution_count": 396,
      "outputs": [
        {
          "output_type": "execute_result",
          "data": {
            "text/plain": [
              "          ld        m0        m1        m2        m3        m4        m5  \\\n",
              "0  10.887514  0.550198 -0.063289  0.970941  0.057361 -1.560821  0.228444   \n",
              "1  14.168986  0.275099 -0.112514  1.553506  0.054337 -1.537020  0.248619   \n",
              "2  22.065067  0.000000 -0.049225  1.359318  0.059504 -1.538148  0.250766   \n",
              "3  15.922225  0.275099 -0.063289  1.165130  0.061418 -1.429917  0.226723   \n",
              "4  16.313713  0.825297 -0.063289  0.776753  0.058974 -1.615687  0.268045   \n",
              "\n",
              "         m6        m7        m8  ...       m14         y        E         x  \\\n",
              "0  3.249937  0.138666  3.366646  ...  1.100297 -0.002744 -0.00000 -0.000000   \n",
              "1  3.151092  0.137117  3.467851  ...  0.835166 -0.002744 -0.00000 -0.000000   \n",
              "2  3.002555  0.139099  3.184618  ...  1.123787 -0.000000 -0.00294 -0.000000   \n",
              "3  3.215784  0.166064  3.243303  ...  1.069400 -0.000000 -0.00000 -0.013415   \n",
              "4  3.232228  0.144192  3.399503  ...  0.954085 -0.000000 -0.00294 -0.000000   \n",
              "\n",
              "     z    w       m78      m76       m55  m75  \n",
              "0  0.0  0.0  0.010819 -0.00000 -0.000000  0.0  \n",
              "1  0.0  0.0  0.010819 -0.00000 -0.000000  0.0  \n",
              "2  0.0  0.0  0.000000 -0.00294 -0.000000  0.0  \n",
              "3  0.0  0.0  0.000000 -0.00000 -0.013415  0.0  \n",
              "4  0.0  0.0  0.000000 -0.00294 -0.000000  0.0  \n",
              "\n",
              "[5 rows x 25 columns]"
            ],
            "text/html": [
              "\n",
              "  <div id=\"df-8d5cec67-c65c-4e22-81a9-b72c60f20420\">\n",
              "    <div class=\"colab-df-container\">\n",
              "      <div>\n",
              "<style scoped>\n",
              "    .dataframe tbody tr th:only-of-type {\n",
              "        vertical-align: middle;\n",
              "    }\n",
              "\n",
              "    .dataframe tbody tr th {\n",
              "        vertical-align: top;\n",
              "    }\n",
              "\n",
              "    .dataframe thead th {\n",
              "        text-align: right;\n",
              "    }\n",
              "</style>\n",
              "<table border=\"1\" class=\"dataframe\">\n",
              "  <thead>\n",
              "    <tr style=\"text-align: right;\">\n",
              "      <th></th>\n",
              "      <th>ld</th>\n",
              "      <th>m0</th>\n",
              "      <th>m1</th>\n",
              "      <th>m2</th>\n",
              "      <th>m3</th>\n",
              "      <th>m4</th>\n",
              "      <th>m5</th>\n",
              "      <th>m6</th>\n",
              "      <th>m7</th>\n",
              "      <th>m8</th>\n",
              "      <th>...</th>\n",
              "      <th>m14</th>\n",
              "      <th>y</th>\n",
              "      <th>E</th>\n",
              "      <th>x</th>\n",
              "      <th>z</th>\n",
              "      <th>w</th>\n",
              "      <th>m78</th>\n",
              "      <th>m76</th>\n",
              "      <th>m55</th>\n",
              "      <th>m75</th>\n",
              "    </tr>\n",
              "  </thead>\n",
              "  <tbody>\n",
              "    <tr>\n",
              "      <th>0</th>\n",
              "      <td>10.887514</td>\n",
              "      <td>0.550198</td>\n",
              "      <td>-0.063289</td>\n",
              "      <td>0.970941</td>\n",
              "      <td>0.057361</td>\n",
              "      <td>-1.560821</td>\n",
              "      <td>0.228444</td>\n",
              "      <td>3.249937</td>\n",
              "      <td>0.138666</td>\n",
              "      <td>3.366646</td>\n",
              "      <td>...</td>\n",
              "      <td>1.100297</td>\n",
              "      <td>-0.002744</td>\n",
              "      <td>-0.00000</td>\n",
              "      <td>-0.000000</td>\n",
              "      <td>0.0</td>\n",
              "      <td>0.0</td>\n",
              "      <td>0.010819</td>\n",
              "      <td>-0.00000</td>\n",
              "      <td>-0.000000</td>\n",
              "      <td>0.0</td>\n",
              "    </tr>\n",
              "    <tr>\n",
              "      <th>1</th>\n",
              "      <td>14.168986</td>\n",
              "      <td>0.275099</td>\n",
              "      <td>-0.112514</td>\n",
              "      <td>1.553506</td>\n",
              "      <td>0.054337</td>\n",
              "      <td>-1.537020</td>\n",
              "      <td>0.248619</td>\n",
              "      <td>3.151092</td>\n",
              "      <td>0.137117</td>\n",
              "      <td>3.467851</td>\n",
              "      <td>...</td>\n",
              "      <td>0.835166</td>\n",
              "      <td>-0.002744</td>\n",
              "      <td>-0.00000</td>\n",
              "      <td>-0.000000</td>\n",
              "      <td>0.0</td>\n",
              "      <td>0.0</td>\n",
              "      <td>0.010819</td>\n",
              "      <td>-0.00000</td>\n",
              "      <td>-0.000000</td>\n",
              "      <td>0.0</td>\n",
              "    </tr>\n",
              "    <tr>\n",
              "      <th>2</th>\n",
              "      <td>22.065067</td>\n",
              "      <td>0.000000</td>\n",
              "      <td>-0.049225</td>\n",
              "      <td>1.359318</td>\n",
              "      <td>0.059504</td>\n",
              "      <td>-1.538148</td>\n",
              "      <td>0.250766</td>\n",
              "      <td>3.002555</td>\n",
              "      <td>0.139099</td>\n",
              "      <td>3.184618</td>\n",
              "      <td>...</td>\n",
              "      <td>1.123787</td>\n",
              "      <td>-0.000000</td>\n",
              "      <td>-0.00294</td>\n",
              "      <td>-0.000000</td>\n",
              "      <td>0.0</td>\n",
              "      <td>0.0</td>\n",
              "      <td>0.000000</td>\n",
              "      <td>-0.00294</td>\n",
              "      <td>-0.000000</td>\n",
              "      <td>0.0</td>\n",
              "    </tr>\n",
              "    <tr>\n",
              "      <th>3</th>\n",
              "      <td>15.922225</td>\n",
              "      <td>0.275099</td>\n",
              "      <td>-0.063289</td>\n",
              "      <td>1.165130</td>\n",
              "      <td>0.061418</td>\n",
              "      <td>-1.429917</td>\n",
              "      <td>0.226723</td>\n",
              "      <td>3.215784</td>\n",
              "      <td>0.166064</td>\n",
              "      <td>3.243303</td>\n",
              "      <td>...</td>\n",
              "      <td>1.069400</td>\n",
              "      <td>-0.000000</td>\n",
              "      <td>-0.00000</td>\n",
              "      <td>-0.013415</td>\n",
              "      <td>0.0</td>\n",
              "      <td>0.0</td>\n",
              "      <td>0.000000</td>\n",
              "      <td>-0.00000</td>\n",
              "      <td>-0.013415</td>\n",
              "      <td>0.0</td>\n",
              "    </tr>\n",
              "    <tr>\n",
              "      <th>4</th>\n",
              "      <td>16.313713</td>\n",
              "      <td>0.825297</td>\n",
              "      <td>-0.063289</td>\n",
              "      <td>0.776753</td>\n",
              "      <td>0.058974</td>\n",
              "      <td>-1.615687</td>\n",
              "      <td>0.268045</td>\n",
              "      <td>3.232228</td>\n",
              "      <td>0.144192</td>\n",
              "      <td>3.399503</td>\n",
              "      <td>...</td>\n",
              "      <td>0.954085</td>\n",
              "      <td>-0.000000</td>\n",
              "      <td>-0.00294</td>\n",
              "      <td>-0.000000</td>\n",
              "      <td>0.0</td>\n",
              "      <td>0.0</td>\n",
              "      <td>0.000000</td>\n",
              "      <td>-0.00294</td>\n",
              "      <td>-0.000000</td>\n",
              "      <td>0.0</td>\n",
              "    </tr>\n",
              "  </tbody>\n",
              "</table>\n",
              "<p>5 rows × 25 columns</p>\n",
              "</div>\n",
              "      <button class=\"colab-df-convert\" onclick=\"convertToInteractive('df-8d5cec67-c65c-4e22-81a9-b72c60f20420')\"\n",
              "              title=\"Convert this dataframe to an interactive table.\"\n",
              "              style=\"display:none;\">\n",
              "        \n",
              "  <svg xmlns=\"http://www.w3.org/2000/svg\" height=\"24px\"viewBox=\"0 0 24 24\"\n",
              "       width=\"24px\">\n",
              "    <path d=\"M0 0h24v24H0V0z\" fill=\"none\"/>\n",
              "    <path d=\"M18.56 5.44l.94 2.06.94-2.06 2.06-.94-2.06-.94-.94-2.06-.94 2.06-2.06.94zm-11 1L8.5 8.5l.94-2.06 2.06-.94-2.06-.94L8.5 2.5l-.94 2.06-2.06.94zm10 10l.94 2.06.94-2.06 2.06-.94-2.06-.94-.94-2.06-.94 2.06-2.06.94z\"/><path d=\"M17.41 7.96l-1.37-1.37c-.4-.4-.92-.59-1.43-.59-.52 0-1.04.2-1.43.59L10.3 9.45l-7.72 7.72c-.78.78-.78 2.05 0 2.83L4 21.41c.39.39.9.59 1.41.59.51 0 1.02-.2 1.41-.59l7.78-7.78 2.81-2.81c.8-.78.8-2.07 0-2.86zM5.41 20L4 18.59l7.72-7.72 1.47 1.35L5.41 20z\"/>\n",
              "  </svg>\n",
              "      </button>\n",
              "      \n",
              "  <style>\n",
              "    .colab-df-container {\n",
              "      display:flex;\n",
              "      flex-wrap:wrap;\n",
              "      gap: 12px;\n",
              "    }\n",
              "\n",
              "    .colab-df-convert {\n",
              "      background-color: #E8F0FE;\n",
              "      border: none;\n",
              "      border-radius: 50%;\n",
              "      cursor: pointer;\n",
              "      display: none;\n",
              "      fill: #1967D2;\n",
              "      height: 32px;\n",
              "      padding: 0 0 0 0;\n",
              "      width: 32px;\n",
              "    }\n",
              "\n",
              "    .colab-df-convert:hover {\n",
              "      background-color: #E2EBFA;\n",
              "      box-shadow: 0px 1px 2px rgba(60, 64, 67, 0.3), 0px 1px 3px 1px rgba(60, 64, 67, 0.15);\n",
              "      fill: #174EA6;\n",
              "    }\n",
              "\n",
              "    [theme=dark] .colab-df-convert {\n",
              "      background-color: #3B4455;\n",
              "      fill: #D2E3FC;\n",
              "    }\n",
              "\n",
              "    [theme=dark] .colab-df-convert:hover {\n",
              "      background-color: #434B5C;\n",
              "      box-shadow: 0px 1px 3px 1px rgba(0, 0, 0, 0.15);\n",
              "      filter: drop-shadow(0px 1px 2px rgba(0, 0, 0, 0.3));\n",
              "      fill: #FFFFFF;\n",
              "    }\n",
              "  </style>\n",
              "\n",
              "      <script>\n",
              "        const buttonEl =\n",
              "          document.querySelector('#df-8d5cec67-c65c-4e22-81a9-b72c60f20420 button.colab-df-convert');\n",
              "        buttonEl.style.display =\n",
              "          google.colab.kernel.accessAllowed ? 'block' : 'none';\n",
              "\n",
              "        async function convertToInteractive(key) {\n",
              "          const element = document.querySelector('#df-8d5cec67-c65c-4e22-81a9-b72c60f20420');\n",
              "          const dataTable =\n",
              "            await google.colab.kernel.invokeFunction('convertToInteractive',\n",
              "                                                     [key], {});\n",
              "          if (!dataTable) return;\n",
              "\n",
              "          const docLinkHtml = 'Like what you see? Visit the ' +\n",
              "            '<a target=\"_blank\" href=https://colab.research.google.com/notebooks/data_table.ipynb>data table notebook</a>'\n",
              "            + ' to learn more about interactive tables.';\n",
              "          element.innerHTML = '';\n",
              "          dataTable['output_type'] = 'display_data';\n",
              "          await google.colab.output.renderOutput(dataTable, element);\n",
              "          const docLink = document.createElement('div');\n",
              "          docLink.innerHTML = docLinkHtml;\n",
              "          element.appendChild(docLink);\n",
              "        }\n",
              "      </script>\n",
              "    </div>\n",
              "  </div>\n",
              "  "
            ]
          },
          "metadata": {},
          "execution_count": 396
        }
      ]
    },
    {
      "cell_type": "code",
      "source": [
        "Xt.head()"
      ],
      "metadata": {
        "colab": {
          "base_uri": "https://localhost:8080/",
          "height": 270
        },
        "id": "CnUM4D8_IIA-",
        "outputId": "adc5d1a1-7e0b-4830-9ac1-f0c79a25d882"
      },
      "execution_count": 119,
      "outputs": [
        {
          "output_type": "execute_result",
          "data": {
            "text/plain": [
              "         ld        m0        m1        m2        m3        m4        m5  \\\n",
              "0  0.049092  0.002108 -0.003719  0.008807  0.001352 -0.004442  0.011904   \n",
              "1  0.007558  0.002409 -0.005409  0.003523  0.002213 -0.006568  0.011110   \n",
              "2  0.041950  0.003614 -0.001352  0.006165  0.002064 -0.003464  0.011625   \n",
              "3  0.065094  0.001506 -0.002705  0.008807  0.002289 -0.008495  0.010665   \n",
              "4  0.056190  0.001205 -0.003381  0.011449  0.002586 -0.002880  0.011733   \n",
              "\n",
              "         m6        m7        m8        m9       m10       m11       m12  \\\n",
              "0  0.004996  0.005629  0.006049 -0.001262 -0.002959 -0.002216  0.003912   \n",
              "1  0.010495  0.009930  0.009353 -0.001375 -0.002533 -0.002866  0.004167   \n",
              "2  0.004942  0.010146  0.011938 -0.002990 -0.002100 -0.003085  0.003577   \n",
              "3  0.011996  0.011179  0.011760 -0.002172 -0.003417 -0.002474  0.003348   \n",
              "4  0.004949  0.008427  0.006835 -0.002182 -0.003195 -0.001986  0.003163   \n",
              "\n",
              "        m13       m14       m78      m76       m55       m75  \n",
              "0  0.001488  0.002989  0.000000 -0.00294 -0.000000  0.000000  \n",
              "1  0.001096  0.003605  0.010819 -0.00000 -0.000000  0.000000  \n",
              "2  0.001608  0.004024  0.010819 -0.00000 -0.000000  0.000000  \n",
              "3  0.001294  0.003741  0.000000 -0.00000 -0.000000  0.002963  \n",
              "4  0.001184  0.002540  0.000000 -0.00000 -0.013415  0.000000  "
            ],
            "text/html": [
              "\n",
              "  <div id=\"df-8ad552c6-ec1c-4385-882f-2e1a6024dcad\">\n",
              "    <div class=\"colab-df-container\">\n",
              "      <div>\n",
              "<style scoped>\n",
              "    .dataframe tbody tr th:only-of-type {\n",
              "        vertical-align: middle;\n",
              "    }\n",
              "\n",
              "    .dataframe tbody tr th {\n",
              "        vertical-align: top;\n",
              "    }\n",
              "\n",
              "    .dataframe thead th {\n",
              "        text-align: right;\n",
              "    }\n",
              "</style>\n",
              "<table border=\"1\" class=\"dataframe\">\n",
              "  <thead>\n",
              "    <tr style=\"text-align: right;\">\n",
              "      <th></th>\n",
              "      <th>ld</th>\n",
              "      <th>m0</th>\n",
              "      <th>m1</th>\n",
              "      <th>m2</th>\n",
              "      <th>m3</th>\n",
              "      <th>m4</th>\n",
              "      <th>m5</th>\n",
              "      <th>m6</th>\n",
              "      <th>m7</th>\n",
              "      <th>m8</th>\n",
              "      <th>m9</th>\n",
              "      <th>m10</th>\n",
              "      <th>m11</th>\n",
              "      <th>m12</th>\n",
              "      <th>m13</th>\n",
              "      <th>m14</th>\n",
              "      <th>m78</th>\n",
              "      <th>m76</th>\n",
              "      <th>m55</th>\n",
              "      <th>m75</th>\n",
              "    </tr>\n",
              "  </thead>\n",
              "  <tbody>\n",
              "    <tr>\n",
              "      <th>0</th>\n",
              "      <td>0.049092</td>\n",
              "      <td>0.002108</td>\n",
              "      <td>-0.003719</td>\n",
              "      <td>0.008807</td>\n",
              "      <td>0.001352</td>\n",
              "      <td>-0.004442</td>\n",
              "      <td>0.011904</td>\n",
              "      <td>0.004996</td>\n",
              "      <td>0.005629</td>\n",
              "      <td>0.006049</td>\n",
              "      <td>-0.001262</td>\n",
              "      <td>-0.002959</td>\n",
              "      <td>-0.002216</td>\n",
              "      <td>0.003912</td>\n",
              "      <td>0.001488</td>\n",
              "      <td>0.002989</td>\n",
              "      <td>0.000000</td>\n",
              "      <td>-0.00294</td>\n",
              "      <td>-0.000000</td>\n",
              "      <td>0.000000</td>\n",
              "    </tr>\n",
              "    <tr>\n",
              "      <th>1</th>\n",
              "      <td>0.007558</td>\n",
              "      <td>0.002409</td>\n",
              "      <td>-0.005409</td>\n",
              "      <td>0.003523</td>\n",
              "      <td>0.002213</td>\n",
              "      <td>-0.006568</td>\n",
              "      <td>0.011110</td>\n",
              "      <td>0.010495</td>\n",
              "      <td>0.009930</td>\n",
              "      <td>0.009353</td>\n",
              "      <td>-0.001375</td>\n",
              "      <td>-0.002533</td>\n",
              "      <td>-0.002866</td>\n",
              "      <td>0.004167</td>\n",
              "      <td>0.001096</td>\n",
              "      <td>0.003605</td>\n",
              "      <td>0.010819</td>\n",
              "      <td>-0.00000</td>\n",
              "      <td>-0.000000</td>\n",
              "      <td>0.000000</td>\n",
              "    </tr>\n",
              "    <tr>\n",
              "      <th>2</th>\n",
              "      <td>0.041950</td>\n",
              "      <td>0.003614</td>\n",
              "      <td>-0.001352</td>\n",
              "      <td>0.006165</td>\n",
              "      <td>0.002064</td>\n",
              "      <td>-0.003464</td>\n",
              "      <td>0.011625</td>\n",
              "      <td>0.004942</td>\n",
              "      <td>0.010146</td>\n",
              "      <td>0.011938</td>\n",
              "      <td>-0.002990</td>\n",
              "      <td>-0.002100</td>\n",
              "      <td>-0.003085</td>\n",
              "      <td>0.003577</td>\n",
              "      <td>0.001608</td>\n",
              "      <td>0.004024</td>\n",
              "      <td>0.010819</td>\n",
              "      <td>-0.00000</td>\n",
              "      <td>-0.000000</td>\n",
              "      <td>0.000000</td>\n",
              "    </tr>\n",
              "    <tr>\n",
              "      <th>3</th>\n",
              "      <td>0.065094</td>\n",
              "      <td>0.001506</td>\n",
              "      <td>-0.002705</td>\n",
              "      <td>0.008807</td>\n",
              "      <td>0.002289</td>\n",
              "      <td>-0.008495</td>\n",
              "      <td>0.010665</td>\n",
              "      <td>0.011996</td>\n",
              "      <td>0.011179</td>\n",
              "      <td>0.011760</td>\n",
              "      <td>-0.002172</td>\n",
              "      <td>-0.003417</td>\n",
              "      <td>-0.002474</td>\n",
              "      <td>0.003348</td>\n",
              "      <td>0.001294</td>\n",
              "      <td>0.003741</td>\n",
              "      <td>0.000000</td>\n",
              "      <td>-0.00000</td>\n",
              "      <td>-0.000000</td>\n",
              "      <td>0.002963</td>\n",
              "    </tr>\n",
              "    <tr>\n",
              "      <th>4</th>\n",
              "      <td>0.056190</td>\n",
              "      <td>0.001205</td>\n",
              "      <td>-0.003381</td>\n",
              "      <td>0.011449</td>\n",
              "      <td>0.002586</td>\n",
              "      <td>-0.002880</td>\n",
              "      <td>0.011733</td>\n",
              "      <td>0.004949</td>\n",
              "      <td>0.008427</td>\n",
              "      <td>0.006835</td>\n",
              "      <td>-0.002182</td>\n",
              "      <td>-0.003195</td>\n",
              "      <td>-0.001986</td>\n",
              "      <td>0.003163</td>\n",
              "      <td>0.001184</td>\n",
              "      <td>0.002540</td>\n",
              "      <td>0.000000</td>\n",
              "      <td>-0.00000</td>\n",
              "      <td>-0.013415</td>\n",
              "      <td>0.000000</td>\n",
              "    </tr>\n",
              "  </tbody>\n",
              "</table>\n",
              "</div>\n",
              "      <button class=\"colab-df-convert\" onclick=\"convertToInteractive('df-8ad552c6-ec1c-4385-882f-2e1a6024dcad')\"\n",
              "              title=\"Convert this dataframe to an interactive table.\"\n",
              "              style=\"display:none;\">\n",
              "        \n",
              "  <svg xmlns=\"http://www.w3.org/2000/svg\" height=\"24px\"viewBox=\"0 0 24 24\"\n",
              "       width=\"24px\">\n",
              "    <path d=\"M0 0h24v24H0V0z\" fill=\"none\"/>\n",
              "    <path d=\"M18.56 5.44l.94 2.06.94-2.06 2.06-.94-2.06-.94-.94-2.06-.94 2.06-2.06.94zm-11 1L8.5 8.5l.94-2.06 2.06-.94-2.06-.94L8.5 2.5l-.94 2.06-2.06.94zm10 10l.94 2.06.94-2.06 2.06-.94-2.06-.94-.94-2.06-.94 2.06-2.06.94z\"/><path d=\"M17.41 7.96l-1.37-1.37c-.4-.4-.92-.59-1.43-.59-.52 0-1.04.2-1.43.59L10.3 9.45l-7.72 7.72c-.78.78-.78 2.05 0 2.83L4 21.41c.39.39.9.59 1.41.59.51 0 1.02-.2 1.41-.59l7.78-7.78 2.81-2.81c.8-.78.8-2.07 0-2.86zM5.41 20L4 18.59l7.72-7.72 1.47 1.35L5.41 20z\"/>\n",
              "  </svg>\n",
              "      </button>\n",
              "      \n",
              "  <style>\n",
              "    .colab-df-container {\n",
              "      display:flex;\n",
              "      flex-wrap:wrap;\n",
              "      gap: 12px;\n",
              "    }\n",
              "\n",
              "    .colab-df-convert {\n",
              "      background-color: #E8F0FE;\n",
              "      border: none;\n",
              "      border-radius: 50%;\n",
              "      cursor: pointer;\n",
              "      display: none;\n",
              "      fill: #1967D2;\n",
              "      height: 32px;\n",
              "      padding: 0 0 0 0;\n",
              "      width: 32px;\n",
              "    }\n",
              "\n",
              "    .colab-df-convert:hover {\n",
              "      background-color: #E2EBFA;\n",
              "      box-shadow: 0px 1px 2px rgba(60, 64, 67, 0.3), 0px 1px 3px 1px rgba(60, 64, 67, 0.15);\n",
              "      fill: #174EA6;\n",
              "    }\n",
              "\n",
              "    [theme=dark] .colab-df-convert {\n",
              "      background-color: #3B4455;\n",
              "      fill: #D2E3FC;\n",
              "    }\n",
              "\n",
              "    [theme=dark] .colab-df-convert:hover {\n",
              "      background-color: #434B5C;\n",
              "      box-shadow: 0px 1px 3px 1px rgba(0, 0, 0, 0.15);\n",
              "      filter: drop-shadow(0px 1px 2px rgba(0, 0, 0, 0.3));\n",
              "      fill: #FFFFFF;\n",
              "    }\n",
              "  </style>\n",
              "\n",
              "      <script>\n",
              "        const buttonEl =\n",
              "          document.querySelector('#df-8ad552c6-ec1c-4385-882f-2e1a6024dcad button.colab-df-convert');\n",
              "        buttonEl.style.display =\n",
              "          google.colab.kernel.accessAllowed ? 'block' : 'none';\n",
              "\n",
              "        async function convertToInteractive(key) {\n",
              "          const element = document.querySelector('#df-8ad552c6-ec1c-4385-882f-2e1a6024dcad');\n",
              "          const dataTable =\n",
              "            await google.colab.kernel.invokeFunction('convertToInteractive',\n",
              "                                                     [key], {});\n",
              "          if (!dataTable) return;\n",
              "\n",
              "          const docLinkHtml = 'Like what you see? Visit the ' +\n",
              "            '<a target=\"_blank\" href=https://colab.research.google.com/notebooks/data_table.ipynb>data table notebook</a>'\n",
              "            + ' to learn more about interactive tables.';\n",
              "          element.innerHTML = '';\n",
              "          dataTable['output_type'] = 'display_data';\n",
              "          await google.colab.output.renderOutput(dataTable, element);\n",
              "          const docLink = document.createElement('div');\n",
              "          docLink.innerHTML = docLinkHtml;\n",
              "          element.appendChild(docLink);\n",
              "        }\n",
              "      </script>\n",
              "    </div>\n",
              "  </div>\n",
              "  "
            ]
          },
          "metadata": {},
          "execution_count": 119
        }
      ]
    },
    {
      "cell_type": "code",
      "source": [
        "# X= df2.drop([\"pred\", \"m1\", \"m3\", \"m4\", \"m9\", \"m10\", \"m11\", \"m13\"], axis=1)\n",
        "# y =df2.pred\n",
        "\n",
        "# Xt = df3.drop([\"m1\", \"m3\", \"m4\", \"m9\", \"m10\", \"m11\", \"m13\"], axis=1)\n",
        "# X.head()"
      ],
      "metadata": {
        "id": "iuAhwGhAi08V"
      },
      "execution_count": null,
      "outputs": []
    },
    {
      "cell_type": "code",
      "source": [
        "Xt.head()"
      ],
      "metadata": {
        "id": "335GTqTFKgFj",
        "colab": {
          "base_uri": "https://localhost:8080/",
          "height": 299
        },
        "outputId": "88d074cb-17a0-4587-d6ee-733dff853a64"
      },
      "execution_count": 223,
      "outputs": [
        {
          "output_type": "execute_result",
          "data": {
            "text/plain": [
              "       ld     m0    m1     m2       m3        m4       m5        m6       m7  \\\n",
              "0  156.46   73.5   8.8  105.0  13.2768  113.5365  13.9552  168.5460   8.5896   \n",
              "1   58.87   84.0  12.8   42.0  14.4440  126.6930  13.6688  190.6275  10.1712   \n",
              "2  139.68  126.0   3.2   73.5  14.2432  107.4885  13.8544  168.3255  10.2504   \n",
              "3  194.06   52.5   6.4  105.0  14.5480  138.6105  13.5080  196.6545  10.6304   \n",
              "4  173.14   42.0   8.0  136.5  14.9496  103.8765  13.8936  168.3570   9.6184   \n",
              "\n",
              "         m8  ...       m14  y  E  x  z  w  m78  m76  m55  m75  \n",
              "0  187.6560  ...  166.1100  0  1  0  0  0    0    1    0    0  \n",
              "1  202.5870  ...  177.7230  1  0  0  0  0    1    0    0    0  \n",
              "2  214.2735  ...  185.6085  0  0  0  0  1    1    0    0    0  \n",
              "3  213.4650  ...  180.2745  0  0  0  1  0    0    0    0    1  \n",
              "4  191.2050  ...  157.6470  0  0  1  0  0    0    0    1    0  \n",
              "\n",
              "[5 rows x 25 columns]"
            ],
            "text/html": [
              "\n",
              "  <div id=\"df-b489456f-46c9-46fb-a511-33ed4d3b48f4\">\n",
              "    <div class=\"colab-df-container\">\n",
              "      <div>\n",
              "<style scoped>\n",
              "    .dataframe tbody tr th:only-of-type {\n",
              "        vertical-align: middle;\n",
              "    }\n",
              "\n",
              "    .dataframe tbody tr th {\n",
              "        vertical-align: top;\n",
              "    }\n",
              "\n",
              "    .dataframe thead th {\n",
              "        text-align: right;\n",
              "    }\n",
              "</style>\n",
              "<table border=\"1\" class=\"dataframe\">\n",
              "  <thead>\n",
              "    <tr style=\"text-align: right;\">\n",
              "      <th></th>\n",
              "      <th>ld</th>\n",
              "      <th>m0</th>\n",
              "      <th>m1</th>\n",
              "      <th>m2</th>\n",
              "      <th>m3</th>\n",
              "      <th>m4</th>\n",
              "      <th>m5</th>\n",
              "      <th>m6</th>\n",
              "      <th>m7</th>\n",
              "      <th>m8</th>\n",
              "      <th>...</th>\n",
              "      <th>m14</th>\n",
              "      <th>y</th>\n",
              "      <th>E</th>\n",
              "      <th>x</th>\n",
              "      <th>z</th>\n",
              "      <th>w</th>\n",
              "      <th>m78</th>\n",
              "      <th>m76</th>\n",
              "      <th>m55</th>\n",
              "      <th>m75</th>\n",
              "    </tr>\n",
              "  </thead>\n",
              "  <tbody>\n",
              "    <tr>\n",
              "      <th>0</th>\n",
              "      <td>156.46</td>\n",
              "      <td>73.5</td>\n",
              "      <td>8.8</td>\n",
              "      <td>105.0</td>\n",
              "      <td>13.2768</td>\n",
              "      <td>113.5365</td>\n",
              "      <td>13.9552</td>\n",
              "      <td>168.5460</td>\n",
              "      <td>8.5896</td>\n",
              "      <td>187.6560</td>\n",
              "      <td>...</td>\n",
              "      <td>166.1100</td>\n",
              "      <td>0</td>\n",
              "      <td>1</td>\n",
              "      <td>0</td>\n",
              "      <td>0</td>\n",
              "      <td>0</td>\n",
              "      <td>0</td>\n",
              "      <td>1</td>\n",
              "      <td>0</td>\n",
              "      <td>0</td>\n",
              "    </tr>\n",
              "    <tr>\n",
              "      <th>1</th>\n",
              "      <td>58.87</td>\n",
              "      <td>84.0</td>\n",
              "      <td>12.8</td>\n",
              "      <td>42.0</td>\n",
              "      <td>14.4440</td>\n",
              "      <td>126.6930</td>\n",
              "      <td>13.6688</td>\n",
              "      <td>190.6275</td>\n",
              "      <td>10.1712</td>\n",
              "      <td>202.5870</td>\n",
              "      <td>...</td>\n",
              "      <td>177.7230</td>\n",
              "      <td>1</td>\n",
              "      <td>0</td>\n",
              "      <td>0</td>\n",
              "      <td>0</td>\n",
              "      <td>0</td>\n",
              "      <td>1</td>\n",
              "      <td>0</td>\n",
              "      <td>0</td>\n",
              "      <td>0</td>\n",
              "    </tr>\n",
              "    <tr>\n",
              "      <th>2</th>\n",
              "      <td>139.68</td>\n",
              "      <td>126.0</td>\n",
              "      <td>3.2</td>\n",
              "      <td>73.5</td>\n",
              "      <td>14.2432</td>\n",
              "      <td>107.4885</td>\n",
              "      <td>13.8544</td>\n",
              "      <td>168.3255</td>\n",
              "      <td>10.2504</td>\n",
              "      <td>214.2735</td>\n",
              "      <td>...</td>\n",
              "      <td>185.6085</td>\n",
              "      <td>0</td>\n",
              "      <td>0</td>\n",
              "      <td>0</td>\n",
              "      <td>0</td>\n",
              "      <td>1</td>\n",
              "      <td>1</td>\n",
              "      <td>0</td>\n",
              "      <td>0</td>\n",
              "      <td>0</td>\n",
              "    </tr>\n",
              "    <tr>\n",
              "      <th>3</th>\n",
              "      <td>194.06</td>\n",
              "      <td>52.5</td>\n",
              "      <td>6.4</td>\n",
              "      <td>105.0</td>\n",
              "      <td>14.5480</td>\n",
              "      <td>138.6105</td>\n",
              "      <td>13.5080</td>\n",
              "      <td>196.6545</td>\n",
              "      <td>10.6304</td>\n",
              "      <td>213.4650</td>\n",
              "      <td>...</td>\n",
              "      <td>180.2745</td>\n",
              "      <td>0</td>\n",
              "      <td>0</td>\n",
              "      <td>0</td>\n",
              "      <td>1</td>\n",
              "      <td>0</td>\n",
              "      <td>0</td>\n",
              "      <td>0</td>\n",
              "      <td>0</td>\n",
              "      <td>1</td>\n",
              "    </tr>\n",
              "    <tr>\n",
              "      <th>4</th>\n",
              "      <td>173.14</td>\n",
              "      <td>42.0</td>\n",
              "      <td>8.0</td>\n",
              "      <td>136.5</td>\n",
              "      <td>14.9496</td>\n",
              "      <td>103.8765</td>\n",
              "      <td>13.8936</td>\n",
              "      <td>168.3570</td>\n",
              "      <td>9.6184</td>\n",
              "      <td>191.2050</td>\n",
              "      <td>...</td>\n",
              "      <td>157.6470</td>\n",
              "      <td>0</td>\n",
              "      <td>0</td>\n",
              "      <td>1</td>\n",
              "      <td>0</td>\n",
              "      <td>0</td>\n",
              "      <td>0</td>\n",
              "      <td>0</td>\n",
              "      <td>1</td>\n",
              "      <td>0</td>\n",
              "    </tr>\n",
              "  </tbody>\n",
              "</table>\n",
              "<p>5 rows × 25 columns</p>\n",
              "</div>\n",
              "      <button class=\"colab-df-convert\" onclick=\"convertToInteractive('df-b489456f-46c9-46fb-a511-33ed4d3b48f4')\"\n",
              "              title=\"Convert this dataframe to an interactive table.\"\n",
              "              style=\"display:none;\">\n",
              "        \n",
              "  <svg xmlns=\"http://www.w3.org/2000/svg\" height=\"24px\"viewBox=\"0 0 24 24\"\n",
              "       width=\"24px\">\n",
              "    <path d=\"M0 0h24v24H0V0z\" fill=\"none\"/>\n",
              "    <path d=\"M18.56 5.44l.94 2.06.94-2.06 2.06-.94-2.06-.94-.94-2.06-.94 2.06-2.06.94zm-11 1L8.5 8.5l.94-2.06 2.06-.94-2.06-.94L8.5 2.5l-.94 2.06-2.06.94zm10 10l.94 2.06.94-2.06 2.06-.94-2.06-.94-.94-2.06-.94 2.06-2.06.94z\"/><path d=\"M17.41 7.96l-1.37-1.37c-.4-.4-.92-.59-1.43-.59-.52 0-1.04.2-1.43.59L10.3 9.45l-7.72 7.72c-.78.78-.78 2.05 0 2.83L4 21.41c.39.39.9.59 1.41.59.51 0 1.02-.2 1.41-.59l7.78-7.78 2.81-2.81c.8-.78.8-2.07 0-2.86zM5.41 20L4 18.59l7.72-7.72 1.47 1.35L5.41 20z\"/>\n",
              "  </svg>\n",
              "      </button>\n",
              "      \n",
              "  <style>\n",
              "    .colab-df-container {\n",
              "      display:flex;\n",
              "      flex-wrap:wrap;\n",
              "      gap: 12px;\n",
              "    }\n",
              "\n",
              "    .colab-df-convert {\n",
              "      background-color: #E8F0FE;\n",
              "      border: none;\n",
              "      border-radius: 50%;\n",
              "      cursor: pointer;\n",
              "      display: none;\n",
              "      fill: #1967D2;\n",
              "      height: 32px;\n",
              "      padding: 0 0 0 0;\n",
              "      width: 32px;\n",
              "    }\n",
              "\n",
              "    .colab-df-convert:hover {\n",
              "      background-color: #E2EBFA;\n",
              "      box-shadow: 0px 1px 2px rgba(60, 64, 67, 0.3), 0px 1px 3px 1px rgba(60, 64, 67, 0.15);\n",
              "      fill: #174EA6;\n",
              "    }\n",
              "\n",
              "    [theme=dark] .colab-df-convert {\n",
              "      background-color: #3B4455;\n",
              "      fill: #D2E3FC;\n",
              "    }\n",
              "\n",
              "    [theme=dark] .colab-df-convert:hover {\n",
              "      background-color: #434B5C;\n",
              "      box-shadow: 0px 1px 3px 1px rgba(0, 0, 0, 0.15);\n",
              "      filter: drop-shadow(0px 1px 2px rgba(0, 0, 0, 0.3));\n",
              "      fill: #FFFFFF;\n",
              "    }\n",
              "  </style>\n",
              "\n",
              "      <script>\n",
              "        const buttonEl =\n",
              "          document.querySelector('#df-b489456f-46c9-46fb-a511-33ed4d3b48f4 button.colab-df-convert');\n",
              "        buttonEl.style.display =\n",
              "          google.colab.kernel.accessAllowed ? 'block' : 'none';\n",
              "\n",
              "        async function convertToInteractive(key) {\n",
              "          const element = document.querySelector('#df-b489456f-46c9-46fb-a511-33ed4d3b48f4');\n",
              "          const dataTable =\n",
              "            await google.colab.kernel.invokeFunction('convertToInteractive',\n",
              "                                                     [key], {});\n",
              "          if (!dataTable) return;\n",
              "\n",
              "          const docLinkHtml = 'Like what you see? Visit the ' +\n",
              "            '<a target=\"_blank\" href=https://colab.research.google.com/notebooks/data_table.ipynb>data table notebook</a>'\n",
              "            + ' to learn more about interactive tables.';\n",
              "          element.innerHTML = '';\n",
              "          dataTable['output_type'] = 'display_data';\n",
              "          await google.colab.output.renderOutput(dataTable, element);\n",
              "          const docLink = document.createElement('div');\n",
              "          docLink.innerHTML = docLinkHtml;\n",
              "          element.appendChild(docLink);\n",
              "        }\n",
              "      </script>\n",
              "    </div>\n",
              "  </div>\n",
              "  "
            ]
          },
          "metadata": {},
          "execution_count": 223
        }
      ]
    },
    {
      "cell_type": "code",
      "source": [
        "# from sklearn.feature_selection import SelectKBest\n",
        "# from sklearn.feature_selection import chi2\n",
        "# best_f = SelectKBest(score_func=chi2, k=10)\n",
        "# fit = best_f.fit(X,y)\n",
        "# dfscores=pd.DataFrame(fit.scores_)\n",
        "# dfcols= pd.DataFrame(X.columns)\n",
        "# featureScores = pd.concat([dfcols, dfscores], axis=1)\n",
        "# featureScores.columns= ['Specs', 'Score']\n",
        "# featuresScores"
      ],
      "metadata": {
        "id": "kZdJHmQfrHcl"
      },
      "execution_count": 310,
      "outputs": []
    },
    {
      "cell_type": "code",
      "source": [
        "# X= X.drop([\"m3\", \"m5\", \"m7\", \"m9\", \"m10\", \"m11\", \"m13\"], axis=1)\n",
        "# Xt= Xt.drop([\"m3\", \"m5\", \"m7\", \"m9\", \"m10\", \"m11\", \"m13\"], axis=1)\n",
        "# # y =df2.pred"
      ],
      "metadata": {
        "id": "tAN07g8wssHT"
      },
      "execution_count": 238,
      "outputs": []
    },
    {
      "cell_type": "code",
      "source": [
        "# X = X[['ld', 'm0', 'm2']].copy()\n",
        "# Xt = Xt[['ld', 'm0', 'm2']].copy()"
      ],
      "metadata": {
        "id": "yNYXy9Oytlsk"
      },
      "execution_count": 192,
      "outputs": []
    },
    {
      "cell_type": "code",
      "source": [
        "X.head()"
      ],
      "metadata": {
        "colab": {
          "base_uri": "https://localhost:8080/",
          "height": 270
        },
        "id": "IlL44ZvxtCDR",
        "outputId": "17012b1d-7686-4634-8a7d-682364869e47"
      },
      "execution_count": 280,
      "outputs": [
        {
          "output_type": "execute_result",
          "data": {
            "text/plain": [
              "       ld    m0    m1    m2       m3        m4       m5        m6       m7  \\\n",
              "0   83.71  63.0   7.2  52.5  14.0232  130.8300  12.4280  188.8425   8.9520   \n",
              "1  108.94  31.5  12.8  84.0  13.2840  128.8350  13.5256  183.0990   8.8520   \n",
              "2  169.65   0.0   5.6  73.5  14.5472  128.9295  13.6424  174.4680   8.9800   \n",
              "3  122.42  31.5   7.2  63.0  15.0152  119.8575  12.3344  186.8580  10.7208   \n",
              "4  125.43  94.5   7.2  42.0  14.4176  135.4290  14.5824  187.8135   9.3088   \n",
              "\n",
              "         m8       m9       m10      m11       m12      m13       m14  \n",
              "0  201.1905   9.2896  141.9075  16.0968  150.3390  12.4880  173.1240  \n",
              "1  207.2385   8.4704  154.7805  13.3304  101.0205  12.5096  131.4075  \n",
              "2  190.3125  11.3056  156.7650  15.3640  122.5350  11.7136  176.8200  \n",
              "3  193.8195  10.6096  175.7490  15.3640  124.8030  13.8424  168.2625  \n",
              "4  203.1540   9.8280  172.7040  14.4720  120.2145  12.5040  150.1185  "
            ],
            "text/html": [
              "\n",
              "  <div id=\"df-8c4a4e7f-8027-41f3-98ce-152efd1229f9\">\n",
              "    <div class=\"colab-df-container\">\n",
              "      <div>\n",
              "<style scoped>\n",
              "    .dataframe tbody tr th:only-of-type {\n",
              "        vertical-align: middle;\n",
              "    }\n",
              "\n",
              "    .dataframe tbody tr th {\n",
              "        vertical-align: top;\n",
              "    }\n",
              "\n",
              "    .dataframe thead th {\n",
              "        text-align: right;\n",
              "    }\n",
              "</style>\n",
              "<table border=\"1\" class=\"dataframe\">\n",
              "  <thead>\n",
              "    <tr style=\"text-align: right;\">\n",
              "      <th></th>\n",
              "      <th>ld</th>\n",
              "      <th>m0</th>\n",
              "      <th>m1</th>\n",
              "      <th>m2</th>\n",
              "      <th>m3</th>\n",
              "      <th>m4</th>\n",
              "      <th>m5</th>\n",
              "      <th>m6</th>\n",
              "      <th>m7</th>\n",
              "      <th>m8</th>\n",
              "      <th>m9</th>\n",
              "      <th>m10</th>\n",
              "      <th>m11</th>\n",
              "      <th>m12</th>\n",
              "      <th>m13</th>\n",
              "      <th>m14</th>\n",
              "    </tr>\n",
              "  </thead>\n",
              "  <tbody>\n",
              "    <tr>\n",
              "      <th>0</th>\n",
              "      <td>83.71</td>\n",
              "      <td>63.0</td>\n",
              "      <td>7.2</td>\n",
              "      <td>52.5</td>\n",
              "      <td>14.0232</td>\n",
              "      <td>130.8300</td>\n",
              "      <td>12.4280</td>\n",
              "      <td>188.8425</td>\n",
              "      <td>8.9520</td>\n",
              "      <td>201.1905</td>\n",
              "      <td>9.2896</td>\n",
              "      <td>141.9075</td>\n",
              "      <td>16.0968</td>\n",
              "      <td>150.3390</td>\n",
              "      <td>12.4880</td>\n",
              "      <td>173.1240</td>\n",
              "    </tr>\n",
              "    <tr>\n",
              "      <th>1</th>\n",
              "      <td>108.94</td>\n",
              "      <td>31.5</td>\n",
              "      <td>12.8</td>\n",
              "      <td>84.0</td>\n",
              "      <td>13.2840</td>\n",
              "      <td>128.8350</td>\n",
              "      <td>13.5256</td>\n",
              "      <td>183.0990</td>\n",
              "      <td>8.8520</td>\n",
              "      <td>207.2385</td>\n",
              "      <td>8.4704</td>\n",
              "      <td>154.7805</td>\n",
              "      <td>13.3304</td>\n",
              "      <td>101.0205</td>\n",
              "      <td>12.5096</td>\n",
              "      <td>131.4075</td>\n",
              "    </tr>\n",
              "    <tr>\n",
              "      <th>2</th>\n",
              "      <td>169.65</td>\n",
              "      <td>0.0</td>\n",
              "      <td>5.6</td>\n",
              "      <td>73.5</td>\n",
              "      <td>14.5472</td>\n",
              "      <td>128.9295</td>\n",
              "      <td>13.6424</td>\n",
              "      <td>174.4680</td>\n",
              "      <td>8.9800</td>\n",
              "      <td>190.3125</td>\n",
              "      <td>11.3056</td>\n",
              "      <td>156.7650</td>\n",
              "      <td>15.3640</td>\n",
              "      <td>122.5350</td>\n",
              "      <td>11.7136</td>\n",
              "      <td>176.8200</td>\n",
              "    </tr>\n",
              "    <tr>\n",
              "      <th>3</th>\n",
              "      <td>122.42</td>\n",
              "      <td>31.5</td>\n",
              "      <td>7.2</td>\n",
              "      <td>63.0</td>\n",
              "      <td>15.0152</td>\n",
              "      <td>119.8575</td>\n",
              "      <td>12.3344</td>\n",
              "      <td>186.8580</td>\n",
              "      <td>10.7208</td>\n",
              "      <td>193.8195</td>\n",
              "      <td>10.6096</td>\n",
              "      <td>175.7490</td>\n",
              "      <td>15.3640</td>\n",
              "      <td>124.8030</td>\n",
              "      <td>13.8424</td>\n",
              "      <td>168.2625</td>\n",
              "    </tr>\n",
              "    <tr>\n",
              "      <th>4</th>\n",
              "      <td>125.43</td>\n",
              "      <td>94.5</td>\n",
              "      <td>7.2</td>\n",
              "      <td>42.0</td>\n",
              "      <td>14.4176</td>\n",
              "      <td>135.4290</td>\n",
              "      <td>14.5824</td>\n",
              "      <td>187.8135</td>\n",
              "      <td>9.3088</td>\n",
              "      <td>203.1540</td>\n",
              "      <td>9.8280</td>\n",
              "      <td>172.7040</td>\n",
              "      <td>14.4720</td>\n",
              "      <td>120.2145</td>\n",
              "      <td>12.5040</td>\n",
              "      <td>150.1185</td>\n",
              "    </tr>\n",
              "  </tbody>\n",
              "</table>\n",
              "</div>\n",
              "      <button class=\"colab-df-convert\" onclick=\"convertToInteractive('df-8c4a4e7f-8027-41f3-98ce-152efd1229f9')\"\n",
              "              title=\"Convert this dataframe to an interactive table.\"\n",
              "              style=\"display:none;\">\n",
              "        \n",
              "  <svg xmlns=\"http://www.w3.org/2000/svg\" height=\"24px\"viewBox=\"0 0 24 24\"\n",
              "       width=\"24px\">\n",
              "    <path d=\"M0 0h24v24H0V0z\" fill=\"none\"/>\n",
              "    <path d=\"M18.56 5.44l.94 2.06.94-2.06 2.06-.94-2.06-.94-.94-2.06-.94 2.06-2.06.94zm-11 1L8.5 8.5l.94-2.06 2.06-.94-2.06-.94L8.5 2.5l-.94 2.06-2.06.94zm10 10l.94 2.06.94-2.06 2.06-.94-2.06-.94-.94-2.06-.94 2.06-2.06.94z\"/><path d=\"M17.41 7.96l-1.37-1.37c-.4-.4-.92-.59-1.43-.59-.52 0-1.04.2-1.43.59L10.3 9.45l-7.72 7.72c-.78.78-.78 2.05 0 2.83L4 21.41c.39.39.9.59 1.41.59.51 0 1.02-.2 1.41-.59l7.78-7.78 2.81-2.81c.8-.78.8-2.07 0-2.86zM5.41 20L4 18.59l7.72-7.72 1.47 1.35L5.41 20z\"/>\n",
              "  </svg>\n",
              "      </button>\n",
              "      \n",
              "  <style>\n",
              "    .colab-df-container {\n",
              "      display:flex;\n",
              "      flex-wrap:wrap;\n",
              "      gap: 12px;\n",
              "    }\n",
              "\n",
              "    .colab-df-convert {\n",
              "      background-color: #E8F0FE;\n",
              "      border: none;\n",
              "      border-radius: 50%;\n",
              "      cursor: pointer;\n",
              "      display: none;\n",
              "      fill: #1967D2;\n",
              "      height: 32px;\n",
              "      padding: 0 0 0 0;\n",
              "      width: 32px;\n",
              "    }\n",
              "\n",
              "    .colab-df-convert:hover {\n",
              "      background-color: #E2EBFA;\n",
              "      box-shadow: 0px 1px 2px rgba(60, 64, 67, 0.3), 0px 1px 3px 1px rgba(60, 64, 67, 0.15);\n",
              "      fill: #174EA6;\n",
              "    }\n",
              "\n",
              "    [theme=dark] .colab-df-convert {\n",
              "      background-color: #3B4455;\n",
              "      fill: #D2E3FC;\n",
              "    }\n",
              "\n",
              "    [theme=dark] .colab-df-convert:hover {\n",
              "      background-color: #434B5C;\n",
              "      box-shadow: 0px 1px 3px 1px rgba(0, 0, 0, 0.15);\n",
              "      filter: drop-shadow(0px 1px 2px rgba(0, 0, 0, 0.3));\n",
              "      fill: #FFFFFF;\n",
              "    }\n",
              "  </style>\n",
              "\n",
              "      <script>\n",
              "        const buttonEl =\n",
              "          document.querySelector('#df-8c4a4e7f-8027-41f3-98ce-152efd1229f9 button.colab-df-convert');\n",
              "        buttonEl.style.display =\n",
              "          google.colab.kernel.accessAllowed ? 'block' : 'none';\n",
              "\n",
              "        async function convertToInteractive(key) {\n",
              "          const element = document.querySelector('#df-8c4a4e7f-8027-41f3-98ce-152efd1229f9');\n",
              "          const dataTable =\n",
              "            await google.colab.kernel.invokeFunction('convertToInteractive',\n",
              "                                                     [key], {});\n",
              "          if (!dataTable) return;\n",
              "\n",
              "          const docLinkHtml = 'Like what you see? Visit the ' +\n",
              "            '<a target=\"_blank\" href=https://colab.research.google.com/notebooks/data_table.ipynb>data table notebook</a>'\n",
              "            + ' to learn more about interactive tables.';\n",
              "          element.innerHTML = '';\n",
              "          dataTable['output_type'] = 'display_data';\n",
              "          await google.colab.output.renderOutput(dataTable, element);\n",
              "          const docLink = document.createElement('div');\n",
              "          docLink.innerHTML = docLinkHtml;\n",
              "          element.appendChild(docLink);\n",
              "        }\n",
              "      </script>\n",
              "    </div>\n",
              "  </div>\n",
              "  "
            ]
          },
          "metadata": {},
          "execution_count": 280
        }
      ]
    },
    {
      "cell_type": "code",
      "source": [
        "from imblearn.over_sampling import SMOTE\n",
        "\n",
        "# Assuming you have your features (X) and target variable (y)\n",
        "\n",
        "# Instantiate the SMOTE oversampling technique\n",
        "smote = SMOTE()\n",
        "\n",
        "# Apply SMOTE to the dataset\n",
        "X, y = smote.fit_resample(X, y)\n",
        "X.head()"
      ],
      "metadata": {
        "colab": {
          "base_uri": "https://localhost:8080/",
          "height": 299
        },
        "id": "IGy-Bms330WD",
        "outputId": "948371b2-1990-4ef7-e528-3ab15169f0cf"
      },
      "execution_count": 513,
      "outputs": [
        {
          "output_type": "execute_result",
          "data": {
            "text/plain": [
              "       ld    m0    m1    m2       m3        m4       m5        m6       m7  \\\n",
              "0   83.71  63.0   7.2  52.5  14.0232  130.8300  12.4280  188.8425   8.9520   \n",
              "1  108.94  31.5  12.8  84.0  13.2840  128.8350  13.5256  183.0990   8.8520   \n",
              "2  169.65   0.0   5.6  73.5  14.5472  128.9295  13.6424  174.4680   8.9800   \n",
              "3  122.42  31.5   7.2  63.0  15.0152  119.8575  12.3344  186.8580  10.7208   \n",
              "4  125.43  94.5   7.2  42.0  14.4176  135.4290  14.5824  187.8135   9.3088   \n",
              "\n",
              "         m8  ...       m14  y  E  x  z  w  m78  m76  m55  m75  \n",
              "0  201.1905  ...  173.1240  1  0  0  0  0    1    0    0    0  \n",
              "1  207.2385  ...  131.4075  1  0  0  0  0    1    0    0    0  \n",
              "2  190.3125  ...  176.8200  0  1  0  0  0    0    1    0    0  \n",
              "3  193.8195  ...  168.2625  0  0  1  0  0    0    0    1    0  \n",
              "4  203.1540  ...  150.1185  0  1  0  0  0    0    1    0    0  \n",
              "\n",
              "[5 rows x 25 columns]"
            ],
            "text/html": [
              "\n",
              "  <div id=\"df-bb915195-2fa2-406b-a18e-83ea28db5ea7\">\n",
              "    <div class=\"colab-df-container\">\n",
              "      <div>\n",
              "<style scoped>\n",
              "    .dataframe tbody tr th:only-of-type {\n",
              "        vertical-align: middle;\n",
              "    }\n",
              "\n",
              "    .dataframe tbody tr th {\n",
              "        vertical-align: top;\n",
              "    }\n",
              "\n",
              "    .dataframe thead th {\n",
              "        text-align: right;\n",
              "    }\n",
              "</style>\n",
              "<table border=\"1\" class=\"dataframe\">\n",
              "  <thead>\n",
              "    <tr style=\"text-align: right;\">\n",
              "      <th></th>\n",
              "      <th>ld</th>\n",
              "      <th>m0</th>\n",
              "      <th>m1</th>\n",
              "      <th>m2</th>\n",
              "      <th>m3</th>\n",
              "      <th>m4</th>\n",
              "      <th>m5</th>\n",
              "      <th>m6</th>\n",
              "      <th>m7</th>\n",
              "      <th>m8</th>\n",
              "      <th>...</th>\n",
              "      <th>m14</th>\n",
              "      <th>y</th>\n",
              "      <th>E</th>\n",
              "      <th>x</th>\n",
              "      <th>z</th>\n",
              "      <th>w</th>\n",
              "      <th>m78</th>\n",
              "      <th>m76</th>\n",
              "      <th>m55</th>\n",
              "      <th>m75</th>\n",
              "    </tr>\n",
              "  </thead>\n",
              "  <tbody>\n",
              "    <tr>\n",
              "      <th>0</th>\n",
              "      <td>83.71</td>\n",
              "      <td>63.0</td>\n",
              "      <td>7.2</td>\n",
              "      <td>52.5</td>\n",
              "      <td>14.0232</td>\n",
              "      <td>130.8300</td>\n",
              "      <td>12.4280</td>\n",
              "      <td>188.8425</td>\n",
              "      <td>8.9520</td>\n",
              "      <td>201.1905</td>\n",
              "      <td>...</td>\n",
              "      <td>173.1240</td>\n",
              "      <td>1</td>\n",
              "      <td>0</td>\n",
              "      <td>0</td>\n",
              "      <td>0</td>\n",
              "      <td>0</td>\n",
              "      <td>1</td>\n",
              "      <td>0</td>\n",
              "      <td>0</td>\n",
              "      <td>0</td>\n",
              "    </tr>\n",
              "    <tr>\n",
              "      <th>1</th>\n",
              "      <td>108.94</td>\n",
              "      <td>31.5</td>\n",
              "      <td>12.8</td>\n",
              "      <td>84.0</td>\n",
              "      <td>13.2840</td>\n",
              "      <td>128.8350</td>\n",
              "      <td>13.5256</td>\n",
              "      <td>183.0990</td>\n",
              "      <td>8.8520</td>\n",
              "      <td>207.2385</td>\n",
              "      <td>...</td>\n",
              "      <td>131.4075</td>\n",
              "      <td>1</td>\n",
              "      <td>0</td>\n",
              "      <td>0</td>\n",
              "      <td>0</td>\n",
              "      <td>0</td>\n",
              "      <td>1</td>\n",
              "      <td>0</td>\n",
              "      <td>0</td>\n",
              "      <td>0</td>\n",
              "    </tr>\n",
              "    <tr>\n",
              "      <th>2</th>\n",
              "      <td>169.65</td>\n",
              "      <td>0.0</td>\n",
              "      <td>5.6</td>\n",
              "      <td>73.5</td>\n",
              "      <td>14.5472</td>\n",
              "      <td>128.9295</td>\n",
              "      <td>13.6424</td>\n",
              "      <td>174.4680</td>\n",
              "      <td>8.9800</td>\n",
              "      <td>190.3125</td>\n",
              "      <td>...</td>\n",
              "      <td>176.8200</td>\n",
              "      <td>0</td>\n",
              "      <td>1</td>\n",
              "      <td>0</td>\n",
              "      <td>0</td>\n",
              "      <td>0</td>\n",
              "      <td>0</td>\n",
              "      <td>1</td>\n",
              "      <td>0</td>\n",
              "      <td>0</td>\n",
              "    </tr>\n",
              "    <tr>\n",
              "      <th>3</th>\n",
              "      <td>122.42</td>\n",
              "      <td>31.5</td>\n",
              "      <td>7.2</td>\n",
              "      <td>63.0</td>\n",
              "      <td>15.0152</td>\n",
              "      <td>119.8575</td>\n",
              "      <td>12.3344</td>\n",
              "      <td>186.8580</td>\n",
              "      <td>10.7208</td>\n",
              "      <td>193.8195</td>\n",
              "      <td>...</td>\n",
              "      <td>168.2625</td>\n",
              "      <td>0</td>\n",
              "      <td>0</td>\n",
              "      <td>1</td>\n",
              "      <td>0</td>\n",
              "      <td>0</td>\n",
              "      <td>0</td>\n",
              "      <td>0</td>\n",
              "      <td>1</td>\n",
              "      <td>0</td>\n",
              "    </tr>\n",
              "    <tr>\n",
              "      <th>4</th>\n",
              "      <td>125.43</td>\n",
              "      <td>94.5</td>\n",
              "      <td>7.2</td>\n",
              "      <td>42.0</td>\n",
              "      <td>14.4176</td>\n",
              "      <td>135.4290</td>\n",
              "      <td>14.5824</td>\n",
              "      <td>187.8135</td>\n",
              "      <td>9.3088</td>\n",
              "      <td>203.1540</td>\n",
              "      <td>...</td>\n",
              "      <td>150.1185</td>\n",
              "      <td>0</td>\n",
              "      <td>1</td>\n",
              "      <td>0</td>\n",
              "      <td>0</td>\n",
              "      <td>0</td>\n",
              "      <td>0</td>\n",
              "      <td>1</td>\n",
              "      <td>0</td>\n",
              "      <td>0</td>\n",
              "    </tr>\n",
              "  </tbody>\n",
              "</table>\n",
              "<p>5 rows × 25 columns</p>\n",
              "</div>\n",
              "      <button class=\"colab-df-convert\" onclick=\"convertToInteractive('df-bb915195-2fa2-406b-a18e-83ea28db5ea7')\"\n",
              "              title=\"Convert this dataframe to an interactive table.\"\n",
              "              style=\"display:none;\">\n",
              "        \n",
              "  <svg xmlns=\"http://www.w3.org/2000/svg\" height=\"24px\"viewBox=\"0 0 24 24\"\n",
              "       width=\"24px\">\n",
              "    <path d=\"M0 0h24v24H0V0z\" fill=\"none\"/>\n",
              "    <path d=\"M18.56 5.44l.94 2.06.94-2.06 2.06-.94-2.06-.94-.94-2.06-.94 2.06-2.06.94zm-11 1L8.5 8.5l.94-2.06 2.06-.94-2.06-.94L8.5 2.5l-.94 2.06-2.06.94zm10 10l.94 2.06.94-2.06 2.06-.94-2.06-.94-.94-2.06-.94 2.06-2.06.94z\"/><path d=\"M17.41 7.96l-1.37-1.37c-.4-.4-.92-.59-1.43-.59-.52 0-1.04.2-1.43.59L10.3 9.45l-7.72 7.72c-.78.78-.78 2.05 0 2.83L4 21.41c.39.39.9.59 1.41.59.51 0 1.02-.2 1.41-.59l7.78-7.78 2.81-2.81c.8-.78.8-2.07 0-2.86zM5.41 20L4 18.59l7.72-7.72 1.47 1.35L5.41 20z\"/>\n",
              "  </svg>\n",
              "      </button>\n",
              "      \n",
              "  <style>\n",
              "    .colab-df-container {\n",
              "      display:flex;\n",
              "      flex-wrap:wrap;\n",
              "      gap: 12px;\n",
              "    }\n",
              "\n",
              "    .colab-df-convert {\n",
              "      background-color: #E8F0FE;\n",
              "      border: none;\n",
              "      border-radius: 50%;\n",
              "      cursor: pointer;\n",
              "      display: none;\n",
              "      fill: #1967D2;\n",
              "      height: 32px;\n",
              "      padding: 0 0 0 0;\n",
              "      width: 32px;\n",
              "    }\n",
              "\n",
              "    .colab-df-convert:hover {\n",
              "      background-color: #E2EBFA;\n",
              "      box-shadow: 0px 1px 2px rgba(60, 64, 67, 0.3), 0px 1px 3px 1px rgba(60, 64, 67, 0.15);\n",
              "      fill: #174EA6;\n",
              "    }\n",
              "\n",
              "    [theme=dark] .colab-df-convert {\n",
              "      background-color: #3B4455;\n",
              "      fill: #D2E3FC;\n",
              "    }\n",
              "\n",
              "    [theme=dark] .colab-df-convert:hover {\n",
              "      background-color: #434B5C;\n",
              "      box-shadow: 0px 1px 3px 1px rgba(0, 0, 0, 0.15);\n",
              "      filter: drop-shadow(0px 1px 2px rgba(0, 0, 0, 0.3));\n",
              "      fill: #FFFFFF;\n",
              "    }\n",
              "  </style>\n",
              "\n",
              "      <script>\n",
              "        const buttonEl =\n",
              "          document.querySelector('#df-bb915195-2fa2-406b-a18e-83ea28db5ea7 button.colab-df-convert');\n",
              "        buttonEl.style.display =\n",
              "          google.colab.kernel.accessAllowed ? 'block' : 'none';\n",
              "\n",
              "        async function convertToInteractive(key) {\n",
              "          const element = document.querySelector('#df-bb915195-2fa2-406b-a18e-83ea28db5ea7');\n",
              "          const dataTable =\n",
              "            await google.colab.kernel.invokeFunction('convertToInteractive',\n",
              "                                                     [key], {});\n",
              "          if (!dataTable) return;\n",
              "\n",
              "          const docLinkHtml = 'Like what you see? Visit the ' +\n",
              "            '<a target=\"_blank\" href=https://colab.research.google.com/notebooks/data_table.ipynb>data table notebook</a>'\n",
              "            + ' to learn more about interactive tables.';\n",
              "          element.innerHTML = '';\n",
              "          dataTable['output_type'] = 'display_data';\n",
              "          await google.colab.output.renderOutput(dataTable, element);\n",
              "          const docLink = document.createElement('div');\n",
              "          docLink.innerHTML = docLinkHtml;\n",
              "          element.appendChild(docLink);\n",
              "        }\n",
              "      </script>\n",
              "    </div>\n",
              "  </div>\n",
              "  "
            ]
          },
          "metadata": {},
          "execution_count": 513
        }
      ]
    },
    {
      "cell_type": "code",
      "source": [
        "# # Undersampler\n",
        "# from imblearn.under_sampling import RandomUnderSampler\n",
        "# undersampler = RandomUnderSampler()\n",
        "\n",
        "# # Perform undersampling\n",
        "# X,y = undersampler.fit_resample(X, y)\n",
        "\n",
        "# # Create a new balanced dataframe\n",
        "# # balanced_df = pd.DataFrame(X, columns=['feature1', 'feature2'])\n",
        "# # balanced_df['target'] = y_resampled\n",
        "# X.head()"
      ],
      "metadata": {
        "id": "1wfA0Aho1eVh"
      },
      "execution_count": 311,
      "outputs": []
    },
    {
      "cell_type": "code",
      "source": [
        "X.shape"
      ],
      "metadata": {
        "colab": {
          "base_uri": "https://localhost:8080/"
        },
        "id": "bBir_xjj39Cm",
        "outputId": "409842b6-6f42-451d-95a3-3f7b2eb127cb"
      },
      "execution_count": 290,
      "outputs": [
        {
          "output_type": "execute_result",
          "data": {
            "text/plain": [
              "(9746, 16)"
            ]
          },
          "metadata": {},
          "execution_count": 290
        }
      ]
    },
    {
      "cell_type": "code",
      "execution_count": 514,
      "metadata": {
        "id": "PIh4mN0qVYXr"
      },
      "outputs": [],
      "source": [
        "#  split X and y into training and testing sets\n",
        "\n",
        "from sklearn.model_selection import train_test_split\n",
        "\n",
        "X_train, X_test, y_train, y_test = train_test_split(X, y, test_size = 0.33, random_state = 40)"
      ]
    },
    {
      "cell_type": "code",
      "execution_count": 515,
      "metadata": {
        "colab": {
          "base_uri": "https://localhost:8080/"
        },
        "id": "zgVwzExIVdMr",
        "outputId": "ba754942-4809-4903-c740-2c47b1dc2ec9"
      },
      "outputs": [
        {
          "output_type": "stream",
          "name": "stdout",
          "text": [
            "X_train: (23732, 25)\n",
            "X_test: (11690, 25)\n"
          ]
        }
      ],
      "source": [
        "# check the shape of X_train and X_test\n",
        "print(f\"X_train: {X_train.shape}\")\n",
        "print(f\"X_test: {X_test.shape}\")"
      ]
    },
    {
      "cell_type": "markdown",
      "metadata": {
        "id": "AknjxL5Z6UVX"
      },
      "source": [
        "Feature Engineering"
      ]
    },
    {
      "cell_type": "markdown",
      "metadata": {
        "id": "Nb7ENGw66Y32"
      },
      "source": [
        "Feature Engineering is the process of transforming raw data into useful features that help us to understand our model better and increase its predictive power. I will carry out feature engineering on different types of variables."
      ]
    },
    {
      "cell_type": "code",
      "execution_count": 477,
      "metadata": {
        "colab": {
          "base_uri": "https://localhost:8080/"
        },
        "id": "-6XRHPIvVomY",
        "outputId": "7509b031-8372-4671-c8ed-1ba4fc0d4bb4"
      },
      "outputs": [
        {
          "output_type": "execute_result",
          "data": {
            "text/plain": [
              "ld     float64\n",
              "m0     float64\n",
              "m1     float64\n",
              "m2     float64\n",
              "m3     float64\n",
              "m4     float64\n",
              "m5     float64\n",
              "m6     float64\n",
              "m7     float64\n",
              "m8     float64\n",
              "m9     float64\n",
              "m10    float64\n",
              "m11    float64\n",
              "m12    float64\n",
              "m13    float64\n",
              "m14    float64\n",
              "y      float64\n",
              "E      float64\n",
              "x      float64\n",
              "z      float64\n",
              "w      float64\n",
              "m78    float64\n",
              "m76    float64\n",
              "m55    float64\n",
              "m75    float64\n",
              "dtype: object"
            ]
          },
          "metadata": {},
          "execution_count": 477
        }
      ],
      "source": [
        "# check data types in X_train\n",
        "X_train.dtypes\n"
      ]
    },
    {
      "cell_type": "markdown",
      "metadata": {
        "id": "rrmnX8Re6cdb"
      },
      "source": [
        "Encode categorical variables\n",
        "Now, I will encode the categorical variables."
      ]
    },
    {
      "cell_type": "code",
      "execution_count": null,
      "metadata": {
        "colab": {
          "base_uri": "https://localhost:8080/"
        },
        "id": "pzq5NJGKVyWf",
        "outputId": "c782ee96-db31-4958-fc58-7f99987a4a7f"
      },
      "outputs": [
        {
          "output_type": "execute_result",
          "data": {
            "text/plain": [
              "1.0    11890\n",
              "0.0    11842\n",
              "Name: pred, dtype: int64"
            ]
          },
          "metadata": {},
          "execution_count": 485
        }
      ],
      "source": [
        "y_train.value_counts()"
      ]
    },
    {
      "cell_type": "markdown",
      "metadata": {
        "id": "aFiLBe146hwL"
      },
      "source": [
        "We can see that all the variables are ordinal categorical data type.\n",
        "\n"
      ]
    },
    {
      "cell_type": "markdown",
      "metadata": {
        "id": "qNB7jyd_Emd7"
      },
      "source": [
        "Now let's perform Machine Learning Classification. We'll be predicting the genre based on the given features."
      ]
    },
    {
      "cell_type": "code",
      "execution_count": 478,
      "metadata": {
        "id": "aHSwTu9fWDmi"
      },
      "outputs": [],
      "source": [
        "from sklearn.naive_bayes import GaussianNB\n",
        "from sklearn.linear_model import LogisticRegression\n",
        "from sklearn.neighbors import KNeighborsClassifier\n",
        "from sklearn.tree import DecisionTreeClassifier\n",
        "from sklearn.ensemble import RandomForestClassifier\n",
        "from xgboost import XGBClassifier, XGBRFClassifier\n",
        "from xgboost import plot_tree, plot_importance\n",
        "from sklearn.ensemble import AdaBoostClassifier\n",
        "\n",
        "from sklearn.metrics import confusion_matrix, accuracy_score, roc_auc_score, roc_curve\n",
        "from sklearn import preprocessing\n",
        "from sklearn.feature_selection import RFE\n",
        "from sklearn.metrics import f1_score"
      ]
    },
    {
      "cell_type": "markdown",
      "metadata": {
        "id": "CPgdqiQgE9Je"
      },
      "source": [
        "Creating a Predefined function to assess the accuracy of a model. This will be the scoring function"
      ]
    },
    {
      "cell_type": "code",
      "execution_count": 479,
      "metadata": {
        "id": "4aqlvpu3WPeR"
      },
      "outputs": [],
      "source": [
        "def score(model, title = \"Default\"):\n",
        "    model.fit(X_train, y_train)\n",
        "    preds = model.predict(X_test)\n",
        "    prediction = pd.DataFrame(preds)\n",
        "    print(confusion_matrix(y_test, preds))\n",
        "    accuracy = round(accuracy_score(y_test, preds), 5)\n",
        "    f1score = f1_score(y_test, preds)\n",
        "    print('Accuracy for', title, ':', accuracy, '\\n', 'f1 score: ', f1score, '\\n', prediction.value_counts(), '\\n')"
      ]
    },
    {
      "cell_type": "markdown",
      "metadata": {
        "id": "jP-kKojZFDJM"
      },
      "source": [
        " Let's see how a basic Logistic Regressor works on this!"
      ]
    },
    {
      "cell_type": "code",
      "execution_count": 516,
      "metadata": {
        "colab": {
          "base_uri": "https://localhost:8080/"
        },
        "id": "TJibjWO1WT9x",
        "outputId": "8dd0c1c2-8b81-4424-f837-be216524360d"
      },
      "outputs": [
        {
          "output_type": "stream",
          "name": "stdout",
          "text": [
            "[[4337 1425]\n",
            " [2199 3729]]\n",
            "Accuracy for Logistic Regression : 0.68999 \n",
            " f1 score:  0.6729832160259881 \n",
            " 0    6536\n",
            "1    5154\n",
            "dtype: int64 \n",
            "\n"
          ]
        }
      ],
      "source": [
        "lg = LogisticRegression(random_state=0, solver='lbfgs', multi_class='multinomial')\n",
        "score(lg, \"Logistic Regression\")\n"
      ]
    },
    {
      "cell_type": "markdown",
      "metadata": {
        "id": "18wwH-F0FT3w"
      },
      "source": [
        "Training the Models\n"
      ]
    },
    {
      "cell_type": "code",
      "execution_count": 517,
      "metadata": {
        "colab": {
          "base_uri": "https://localhost:8080/"
        },
        "id": "ZPurc-gqWhb0",
        "outputId": "49e86432-a5bf-42eb-daba-0748baac20dc"
      },
      "outputs": [
        {
          "output_type": "stream",
          "name": "stdout",
          "text": [
            "[[5331  431]\n",
            " [2340 3588]]\n",
            "Accuracy for AdaBoost Classifier : 0.76296 \n",
            " f1 score:  0.721423544787373 \n",
            " 0    7671\n",
            "1    4019\n",
            "dtype: int64 \n",
            "\n"
          ]
        }
      ],
      "source": [
        "# AdaBoostClassifier\n",
        "#YOUR CODE HERE\n",
        "abc = AdaBoostClassifier(n_estimators = 100, random_state=0)\n",
        "score(abc, title = \"AdaBoost Classifier\")"
      ]
    },
    {
      "cell_type": "code",
      "execution_count": 459,
      "metadata": {
        "id": "uSYvfL6tWhz1"
      },
      "outputs": [],
      "source": [
        "# # Random Forest\n",
        "# #YOUR CODE HERE\n",
        "# rfst = RandomForestClassifier(n_estimators = 1000, max_depth=10, random_state=0)\n",
        "# score(rfst, title = \"Random Forest Classifier\")"
      ]
    },
    {
      "cell_type": "code",
      "execution_count": 518,
      "metadata": {
        "colab": {
          "base_uri": "https://localhost:8080/"
        },
        "id": "q86kHRSCWquQ",
        "outputId": "6bb70929-6519-44cd-d034-dbda7f1132ac"
      },
      "outputs": [
        {
          "output_type": "stream",
          "name": "stdout",
          "text": [
            "[[4530 1232]\n",
            " [2065 3863]]\n",
            "Accuracy for Naive Bayes : 0.71796 \n",
            " f1 score:  0.700898122108319 \n",
            " 0    6595\n",
            "1    5095\n",
            "dtype: int64 \n",
            "\n",
            "[[3303 2459]\n",
            " [1124 4804]]\n",
            "Accuracy for K Neighbors : 0.6935 \n",
            " f1 score:  0.7283754074747935 \n",
            " 1    7263\n",
            "0    4427\n",
            "dtype: int64 \n",
            "\n",
            "[[4632 1130]\n",
            " [1815 4113]]\n",
            "Accuracy for Decision trees : 0.74808 \n",
            " f1 score:  0.7363709605227822 \n",
            " 0    6447\n",
            "1    5243\n",
            "dtype: int64 \n",
            "\n"
          ]
        }
      ],
      "source": [
        "# Naive Bayes: GaussianNB\n",
        "#YOUR CODE HERE\n",
        "nbc = GaussianNB()\n",
        "score(nbc, \"Naive Bayes\")\n",
        "\n",
        "# KNN: KNeighborsClassifier\n",
        "#YOUR CODE HERE\n",
        "knb = KNeighborsClassifier(n_neighbors=10)\n",
        "score(knb, \"K Neighbors\")\n",
        "\n",
        "# Decission trees: DecisionTreeClassifier\n",
        "#YOUR CODE HERE\n",
        "dst = DecisionTreeClassifier(max_depth=15 ,random_state=0)\n",
        "score(dst, \"Decision trees\")"
      ]
    },
    {
      "cell_type": "code",
      "source": [
        "dst = DecisionTreeClassifier(max_depth=15 ,random_state=0)\n",
        "score(dst, \"Decision trees\")\n",
        "\n"
      ],
      "metadata": {
        "colab": {
          "base_uri": "https://localhost:8080/"
        },
        "id": "rn7Ni4NSyJec",
        "outputId": "521ac7e6-2ad0-4448-edd1-04017177235c"
      },
      "execution_count": 519,
      "outputs": [
        {
          "output_type": "stream",
          "name": "stdout",
          "text": [
            "[[4632 1130]\n",
            " [1815 4113]]\n",
            "Accuracy for Decision trees : 0.74808 \n",
            " f1 score:  0.7363709605227822 \n",
            " 0    6447\n",
            "1    5243\n",
            "dtype: int64 \n",
            "\n"
          ]
        }
      ]
    },
    {
      "cell_type": "code",
      "source": [
        "# build the lightgbm model\n",
        "import lightgbm as lgb\n",
        "# ltgm = lgb.LGBMClassifier(n_estimators= 100, learning_rate=0.1)\n",
        "lgb.LGBMClassifier(n_estimators= 300, learning_rate=0.9, random_state = 20, reg_alpha=0.01, reg_lambda = 0.5)\n",
        "score(ltgm, \"Light GBM\")\n"
      ],
      "metadata": {
        "colab": {
          "base_uri": "https://localhost:8080/"
        },
        "id": "DWU3NNVmR4jV",
        "outputId": "d8cf22a7-16d7-4366-fbfa-ddadfe550e7d"
      },
      "execution_count": 520,
      "outputs": [
        {
          "output_type": "stream",
          "name": "stdout",
          "text": [
            "[[5354  408]\n",
            " [1453 4475]]\n",
            "Accuracy for Light GBM : 0.8408 \n",
            " f1 score:  0.8278605124410323 \n",
            " 0    6807\n",
            "1    4883\n",
            "dtype: int64 \n",
            "\n"
          ]
        }
      ]
    },
    {
      "cell_type": "markdown",
      "metadata": {
        "id": "TI58ewjYeaDv"
      },
      "source": [
        "Visualize decision-trees"
      ]
    },
    {
      "cell_type": "code",
      "execution_count": null,
      "metadata": {
        "id": "QtcwZ4RFefQQ"
      },
      "outputs": [],
      "source": [
        "\n",
        "# from sklearn import tree\n",
        "# plt.figure(figsize=(200,30))\n",
        "\n",
        "# #change the model name\n",
        "# tree.plot_tree(dst)\n",
        "# plt.show()"
      ]
    },
    {
      "cell_type": "markdown",
      "metadata": {
        "id": "av19xchZk5dH"
      },
      "source": [
        "Decision Tree Classifier with criterion gini index,max_depth=10, random_state=0"
      ]
    },
    {
      "cell_type": "code",
      "execution_count": 521,
      "metadata": {
        "colab": {
          "base_uri": "https://localhost:8080/"
        },
        "id": "wBsOf-krl07B",
        "outputId": "076e31c5-d971-486c-9412-8992803aea14"
      },
      "outputs": [
        {
          "output_type": "stream",
          "name": "stdout",
          "text": [
            "[[4632 1130]\n",
            " [1815 4113]]\n",
            "Accuracy for Decision trees : 0.74808 \n",
            " f1 score:  0.7363709605227822 \n",
            " 0    6447\n",
            "1    5243\n",
            "dtype: int64 \n",
            "\n"
          ]
        }
      ],
      "source": [
        "#YOUR CODE HERE\n",
        "dst2 = DecisionTreeClassifier(criterion=\"gini\", max_depth=15, random_state=0)\n",
        "score(dst2, \"Decision trees\")\n"
      ]
    },
    {
      "cell_type": "markdown",
      "metadata": {
        "id": "KDReCw1alZse"
      },
      "source": [
        "Decision Tree Classifier with criterion entripy index,max_depth=8, random_state=0"
      ]
    },
    {
      "cell_type": "code",
      "execution_count": 522,
      "metadata": {
        "colab": {
          "base_uri": "https://localhost:8080/"
        },
        "id": "Rx7dwV1Ql4ou",
        "outputId": "4c9028f6-f2f9-43f3-b04d-2646b3d916f0"
      },
      "outputs": [
        {
          "output_type": "stream",
          "name": "stdout",
          "text": [
            "[[4603 1159]\n",
            " [1823 4105]]\n",
            "Accuracy for Decision trees : 0.74491 \n",
            " f1 score:  0.7335596854896355 \n",
            " 0    6426\n",
            "1    5264\n",
            "dtype: int64 \n",
            "\n"
          ]
        }
      ],
      "source": [
        "#YOUR CODE HERE\n",
        "dst3 = DecisionTreeClassifier(criterion= \"log_loss\", max_depth=15, random_state=10,  min_samples_split = 10)\n",
        "score(dst3, \"Decision trees\")\n"
      ]
    },
    {
      "cell_type": "markdown",
      "metadata": {
        "id": "sM9dA_21F4qP"
      },
      "source": [
        "Use XGBClassifier with n_estimators=1000 and learning_rate=0.01"
      ]
    },
    {
      "cell_type": "code",
      "execution_count": 51,
      "metadata": {
        "colab": {
          "base_uri": "https://localhost:8080/"
        },
        "id": "VjIIyGzWYLg2",
        "outputId": "1125bb90-6640-4c88-91dd-732b3dea7d84"
      },
      "outputs": [
        {
          "output_type": "stream",
          "name": "stdout",
          "text": [
            "[[5689   73]\n",
            " [1718 4210]]\n",
            "Accuracy for XGBoost Classifier : 0.84679 \n",
            " f1 score:  0.8246009205758495 \n",
            " 0    7407\n",
            "1    4283\n",
            "dtype: int64 \n",
            "\n"
          ]
        }
      ],
      "source": [
        "# XGBClassifier\n",
        "#YOUR CODE HERE\n",
        "# y_train = y_train.apply(LabelEncoder().fit_transform)\n",
        "# y_train = LabelEncoder().fit_transform(y_train)\n",
        "# y_test = y_test.apply(LabelEncoder().fit_transform)\n",
        "# y_test = LabelEncoder().fit_transform(y_test)\n",
        "xgbst = XGBClassifier(n_estimators=100, learning_rate=0.1, reg_alpha=0.005)\n",
        "score(xgbst, \"XGBoost Classifier\")"
      ]
    },
    {
      "cell_type": "code",
      "source": [
        "# XGBClassifier\n",
        "#YOUR CODE HERE\n",
        "# y_train = y_train.apply(LabelEncoder().fit_transform)\n",
        "# y_train = LabelEncoder().fit_transform(y_train)\n",
        "# y_test = y_test.apply(LabelEncoder().fit_transform)\n",
        "# y_test = LabelEncoder().fit_transform(y_test)\n",
        "xgbst = XGBClassifier(n_estimators=100, learning_rate=0.1)\n",
        "score(xgbst, \"XGBoost Classifier\")"
      ],
      "metadata": {
        "colab": {
          "base_uri": "https://localhost:8080/"
        },
        "id": "rBvnOWGdfN2s",
        "outputId": "400addb5-783c-4eb1-95f0-dc4a8325264b"
      },
      "execution_count": 297,
      "outputs": [
        {
          "output_type": "stream",
          "name": "stdout",
          "text": [
            "[[893 668]\n",
            " [788 868]]\n",
            "Accuracy for XGBoost Classifier : 0.5474 \n",
            " f1 score:  0.5438596491228069 \n",
            " 0    1681\n",
            "1    1536\n",
            "dtype: int64 \n",
            "\n"
          ]
        }
      ]
    },
    {
      "cell_type": "markdown",
      "metadata": {
        "id": "Iis0T8gad4k9"
      },
      "source": [
        "Visualize XGBClassifier"
      ]
    },
    {
      "cell_type": "markdown",
      "metadata": {
        "id": "Hjuv0EU-GCAb"
      },
      "source": [
        "Now, heres a task for you. Try XGBRFClassifier on your own."
      ]
    },
    {
      "cell_type": "code",
      "execution_count": 321,
      "metadata": {
        "colab": {
          "base_uri": "https://localhost:8080/"
        },
        "id": "hyXIbHx4bTey",
        "outputId": "115e17ab-298c-418c-ecef-dfed1b16f58c"
      },
      "outputs": [
        {
          "output_type": "stream",
          "name": "stdout",
          "text": [
            "[[5571  191]\n",
            " [2400 3528]]\n",
            "Accuracy for XGBRF Classifier : 0.77836 \n",
            " f1 score:  0.731419094018866 \n",
            " 0    7971\n",
            "1    3719\n",
            "dtype: int64 \n",
            "\n"
          ]
        }
      ],
      "source": [
        "# XGBRFClassifier\n",
        "xgbrf = XGBRFClassifier(n_estimators=500, max_depth=10 )\n",
        "score(xgbrf, \"XGBRF Classifier\")"
      ]
    },
    {
      "cell_type": "code",
      "execution_count": null,
      "metadata": {
        "id": "2OCY65PHbp0L"
      },
      "outputs": [],
      "source": [
        "# # Cell to find Feature Importance\n",
        "# #YOUR CODE HERE\n",
        "# # print()\n",
        "# xgbst2.feature_importances_"
      ]
    },
    {
      "cell_type": "code",
      "execution_count": null,
      "metadata": {
        "id": "_I1lBQzYb888"
      },
      "outputs": [],
      "source": [
        "# #YOUR CODE HERE\n",
        "# from sklearn.metrics import classification_report\n",
        "# print(classification_report(y_test, y_pred))\n"
      ]
    },
    {
      "cell_type": "code",
      "source": [
        "# build the lightgbm model\n",
        "\n",
        "# score(ltgm, \"Light GBM\")\n",
        "\n"
      ],
      "metadata": {
        "id": "OJEPCds3KxVh"
      },
      "execution_count": null,
      "outputs": []
    },
    {
      "cell_type": "code",
      "source": [
        "model = DecisionTreeClassifier(max_depth=25 ,random_state=20)\n",
        "score(model, \"Decision trees\")"
      ],
      "metadata": {
        "colab": {
          "base_uri": "https://localhost:8080/"
        },
        "id": "HQGyfGcnNBxH",
        "outputId": "cf1eb3b1-9244-4280-bb9e-ab233d21102a"
      },
      "execution_count": 322,
      "outputs": [
        {
          "output_type": "stream",
          "name": "stdout",
          "text": [
            "[[4219 1543]\n",
            " [1401 4527]]\n",
            "Accuracy for Decision trees : 0.74816 \n",
            " f1 score:  0.754625770961827 \n",
            " 1    6070\n",
            "0    5620\n",
            "dtype: int64 \n",
            "\n"
          ]
        }
      ]
    },
    {
      "cell_type": "code",
      "source": [
        "model=ltgm\n",
        "model.fit(X_train, y_train)\n",
        "preds = model.predict(Xt)\n"
      ],
      "metadata": {
        "id": "RmSMTTcoK1Al"
      },
      "execution_count": null,
      "outputs": []
    },
    {
      "cell_type": "code",
      "source": [
        "prediction = pd.DataFrame(preds, columns=['pred'])"
      ],
      "metadata": {
        "id": "FKg9kqlDLPVd"
      },
      "execution_count": null,
      "outputs": []
    },
    {
      "cell_type": "code",
      "source": [
        "prediction.value_counts()\n",
        "# prediction\n"
      ],
      "metadata": {
        "id": "1FnHm2CE2Y3L",
        "colab": {
          "base_uri": "https://localhost:8080/"
        },
        "outputId": "e681a901-ed7b-4453-8612-b4247295d51c"
      },
      "execution_count": null,
      "outputs": [
        {
          "output_type": "execute_result",
          "data": {
            "text/plain": [
              "pred\n",
              "0.0     3986\n",
              "dtype: int64"
            ]
          },
          "metadata": {},
          "execution_count": 402
        }
      ]
    },
    {
      "cell_type": "code",
      "source": [
        "prediction"
      ],
      "metadata": {
        "colab": {
          "base_uri": "https://localhost:8080/",
          "height": 423
        },
        "id": "-99q1VAyPk1z",
        "outputId": "88d2b194-0c23-4409-aa4c-6a2df1e20c24"
      },
      "execution_count": null,
      "outputs": [
        {
          "output_type": "execute_result",
          "data": {
            "text/plain": [
              "      pred\n",
              "0      0.0\n",
              "1      1.0\n",
              "2      0.0\n",
              "3      0.0\n",
              "4      1.0\n",
              "...    ...\n",
              "3981   0.0\n",
              "3982   0.0\n",
              "3983   0.0\n",
              "3984   0.0\n",
              "3985   0.0\n",
              "\n",
              "[3986 rows x 1 columns]"
            ],
            "text/html": [
              "\n",
              "  <div id=\"df-d3be74b3-9d6f-40ed-af13-b785bf464ba4\">\n",
              "    <div class=\"colab-df-container\">\n",
              "      <div>\n",
              "<style scoped>\n",
              "    .dataframe tbody tr th:only-of-type {\n",
              "        vertical-align: middle;\n",
              "    }\n",
              "\n",
              "    .dataframe tbody tr th {\n",
              "        vertical-align: top;\n",
              "    }\n",
              "\n",
              "    .dataframe thead th {\n",
              "        text-align: right;\n",
              "    }\n",
              "</style>\n",
              "<table border=\"1\" class=\"dataframe\">\n",
              "  <thead>\n",
              "    <tr style=\"text-align: right;\">\n",
              "      <th></th>\n",
              "      <th>pred</th>\n",
              "    </tr>\n",
              "  </thead>\n",
              "  <tbody>\n",
              "    <tr>\n",
              "      <th>0</th>\n",
              "      <td>0.0</td>\n",
              "    </tr>\n",
              "    <tr>\n",
              "      <th>1</th>\n",
              "      <td>1.0</td>\n",
              "    </tr>\n",
              "    <tr>\n",
              "      <th>2</th>\n",
              "      <td>0.0</td>\n",
              "    </tr>\n",
              "    <tr>\n",
              "      <th>3</th>\n",
              "      <td>0.0</td>\n",
              "    </tr>\n",
              "    <tr>\n",
              "      <th>4</th>\n",
              "      <td>1.0</td>\n",
              "    </tr>\n",
              "    <tr>\n",
              "      <th>...</th>\n",
              "      <td>...</td>\n",
              "    </tr>\n",
              "    <tr>\n",
              "      <th>3981</th>\n",
              "      <td>0.0</td>\n",
              "    </tr>\n",
              "    <tr>\n",
              "      <th>3982</th>\n",
              "      <td>0.0</td>\n",
              "    </tr>\n",
              "    <tr>\n",
              "      <th>3983</th>\n",
              "      <td>0.0</td>\n",
              "    </tr>\n",
              "    <tr>\n",
              "      <th>3984</th>\n",
              "      <td>0.0</td>\n",
              "    </tr>\n",
              "    <tr>\n",
              "      <th>3985</th>\n",
              "      <td>0.0</td>\n",
              "    </tr>\n",
              "  </tbody>\n",
              "</table>\n",
              "<p>3986 rows × 1 columns</p>\n",
              "</div>\n",
              "      <button class=\"colab-df-convert\" onclick=\"convertToInteractive('df-d3be74b3-9d6f-40ed-af13-b785bf464ba4')\"\n",
              "              title=\"Convert this dataframe to an interactive table.\"\n",
              "              style=\"display:none;\">\n",
              "        \n",
              "  <svg xmlns=\"http://www.w3.org/2000/svg\" height=\"24px\"viewBox=\"0 0 24 24\"\n",
              "       width=\"24px\">\n",
              "    <path d=\"M0 0h24v24H0V0z\" fill=\"none\"/>\n",
              "    <path d=\"M18.56 5.44l.94 2.06.94-2.06 2.06-.94-2.06-.94-.94-2.06-.94 2.06-2.06.94zm-11 1L8.5 8.5l.94-2.06 2.06-.94-2.06-.94L8.5 2.5l-.94 2.06-2.06.94zm10 10l.94 2.06.94-2.06 2.06-.94-2.06-.94-.94-2.06-.94 2.06-2.06.94z\"/><path d=\"M17.41 7.96l-1.37-1.37c-.4-.4-.92-.59-1.43-.59-.52 0-1.04.2-1.43.59L10.3 9.45l-7.72 7.72c-.78.78-.78 2.05 0 2.83L4 21.41c.39.39.9.59 1.41.59.51 0 1.02-.2 1.41-.59l7.78-7.78 2.81-2.81c.8-.78.8-2.07 0-2.86zM5.41 20L4 18.59l7.72-7.72 1.47 1.35L5.41 20z\"/>\n",
              "  </svg>\n",
              "      </button>\n",
              "      \n",
              "  <style>\n",
              "    .colab-df-container {\n",
              "      display:flex;\n",
              "      flex-wrap:wrap;\n",
              "      gap: 12px;\n",
              "    }\n",
              "\n",
              "    .colab-df-convert {\n",
              "      background-color: #E8F0FE;\n",
              "      border: none;\n",
              "      border-radius: 50%;\n",
              "      cursor: pointer;\n",
              "      display: none;\n",
              "      fill: #1967D2;\n",
              "      height: 32px;\n",
              "      padding: 0 0 0 0;\n",
              "      width: 32px;\n",
              "    }\n",
              "\n",
              "    .colab-df-convert:hover {\n",
              "      background-color: #E2EBFA;\n",
              "      box-shadow: 0px 1px 2px rgba(60, 64, 67, 0.3), 0px 1px 3px 1px rgba(60, 64, 67, 0.15);\n",
              "      fill: #174EA6;\n",
              "    }\n",
              "\n",
              "    [theme=dark] .colab-df-convert {\n",
              "      background-color: #3B4455;\n",
              "      fill: #D2E3FC;\n",
              "    }\n",
              "\n",
              "    [theme=dark] .colab-df-convert:hover {\n",
              "      background-color: #434B5C;\n",
              "      box-shadow: 0px 1px 3px 1px rgba(0, 0, 0, 0.15);\n",
              "      filter: drop-shadow(0px 1px 2px rgba(0, 0, 0, 0.3));\n",
              "      fill: #FFFFFF;\n",
              "    }\n",
              "  </style>\n",
              "\n",
              "      <script>\n",
              "        const buttonEl =\n",
              "          document.querySelector('#df-d3be74b3-9d6f-40ed-af13-b785bf464ba4 button.colab-df-convert');\n",
              "        buttonEl.style.display =\n",
              "          google.colab.kernel.accessAllowed ? 'block' : 'none';\n",
              "\n",
              "        async function convertToInteractive(key) {\n",
              "          const element = document.querySelector('#df-d3be74b3-9d6f-40ed-af13-b785bf464ba4');\n",
              "          const dataTable =\n",
              "            await google.colab.kernel.invokeFunction('convertToInteractive',\n",
              "                                                     [key], {});\n",
              "          if (!dataTable) return;\n",
              "\n",
              "          const docLinkHtml = 'Like what you see? Visit the ' +\n",
              "            '<a target=\"_blank\" href=https://colab.research.google.com/notebooks/data_table.ipynb>data table notebook</a>'\n",
              "            + ' to learn more about interactive tables.';\n",
              "          element.innerHTML = '';\n",
              "          dataTable['output_type'] = 'display_data';\n",
              "          await google.colab.output.renderOutput(dataTable, element);\n",
              "          const docLink = document.createElement('div');\n",
              "          docLink.innerHTML = docLinkHtml;\n",
              "          element.appendChild(docLink);\n",
              "        }\n",
              "      </script>\n",
              "    </div>\n",
              "  </div>\n",
              "  "
            ]
          },
          "metadata": {},
          "execution_count": 193
        }
      ]
    },
    {
      "cell_type": "markdown",
      "source": [
        "model = DecisionTreeClassifier(max_depth=15 ,random_state=0)\n",
        "output for this"
      ],
      "metadata": {
        "id": "A4s1hX32SUFm"
      }
    },
    {
      "cell_type": "code",
      "source": [
        "# Specify the file path and name for the CSV file\n",
        "csv_file_path = \"output.csv\"\n",
        "\n",
        "# Export the DataFrame to a CSV file\n",
        "prediction.to_csv(csv_file_path, index=False)"
      ],
      "metadata": {
        "id": "larNvvDLLi_0"
      },
      "execution_count": null,
      "outputs": []
    },
    {
      "cell_type": "code",
      "source": [
        "model =  AdaBoostClassifier(n_estimators = 500, random_state=0)\n",
        "# score(model)\n",
        "# model=ltgm\n",
        "model.fit(X_train, y_train)\n",
        "preds = model.predict(Xt)\n",
        "\n",
        "prediction = pd.DataFrame(preds, columns=['pred'])\n",
        "prediction.value_counts()"
      ],
      "metadata": {
        "colab": {
          "base_uri": "https://localhost:8080/"
        },
        "id": "GZFZYWCwN9Pg",
        "outputId": "4d934376-4653-41d0-e5b1-40399769c0fe"
      },
      "execution_count": 523,
      "outputs": [
        {
          "output_type": "execute_result",
          "data": {
            "text/plain": [
              "pred\n",
              "0       3892\n",
              "1         94\n",
              "dtype: int64"
            ]
          },
          "metadata": {},
          "execution_count": 523
        }
      ]
    },
    {
      "cell_type": "code",
      "source": [],
      "metadata": {
        "id": "jdbmNI5-S4iJ"
      },
      "execution_count": null,
      "outputs": []
    },
    {
      "cell_type": "code",
      "source": [
        "# xgbst = XGBClassifier(n_estimators=100, learning_rate=0.1, reg_alpha=0.1, reg_lambda = 0.1)\n",
        "# xgbst = XGBClassifier(n_estimators=1000, learning_rate=0.1)\n",
        "\n",
        "ltgm = lgb.LGBMClassifier( n_estimators= 500, learning_rate=0.5, random_state = 20, reg_alpha=0.01, reg_lambda = 0.5)\n",
        "model= ltgm\n",
        "# model= xgbst\n",
        "model.fit(X, y)\n",
        "# model.fit(X, y)\n",
        "preds = model.predict(Xt)\n",
        "\n",
        "prediction = pd.DataFrame(preds, columns=['pred'])\n",
        "prediction.value_counts()"
      ],
      "metadata": {
        "colab": {
          "base_uri": "https://localhost:8080/"
        },
        "id": "TAwAIXxWWrQY",
        "outputId": "67041c5e-b392-4b96-c983-b78492df03f8"
      },
      "execution_count": 524,
      "outputs": [
        {
          "output_type": "execute_result",
          "data": {
            "text/plain": [
              "pred\n",
              "0       3675\n",
              "1        311\n",
              "dtype: int64"
            ]
          },
          "metadata": {},
          "execution_count": 524
        }
      ]
    },
    {
      "cell_type": "code",
      "source": [
        "# Specify the file path and name for the CSV file\n",
        "csv_file_path = \"output6.csv\"\n",
        "\n",
        "# Export the DataFrame to a CSV file\n",
        "prediction.to_csv(csv_file_path, index=False)"
      ],
      "metadata": {
        "id": "gao6444B_szA"
      },
      "execution_count": 390,
      "outputs": []
    },
    {
      "cell_type": "code",
      "source": [
        "#YOUR CODE HERE\n",
        "dst3 = DecisionTreeClassifier(criterion= \"gini\", max_depth=16, random_state=20, min_samples_split= 10)\n",
        "score(dst3, \"Decision trees\")\n"
      ],
      "metadata": {
        "colab": {
          "base_uri": "https://localhost:8080/"
        },
        "id": "UKLJb_i-31mD",
        "outputId": "6a443205-da91-47e9-a110-ac4e4caf01c0"
      },
      "execution_count": 535,
      "outputs": [
        {
          "output_type": "stream",
          "name": "stdout",
          "text": [
            "[[4539 1223]\n",
            " [1675 4253]]\n",
            "Accuracy for Decision trees : 0.7521 \n",
            " f1 score:  0.7458786390740091 \n",
            " 0    6214\n",
            "1    5476\n",
            "dtype: int64 \n",
            "\n"
          ]
        }
      ]
    },
    {
      "cell_type": "code",
      "source": [
        "# dst3 = DecisionTreeClassifier(criterion= \"gini\", max_depth=17, random_state=20, min_samples_split= 10)#new_best\n",
        "dst3 = DecisionTreeClassifier(criterion= \"gini\", max_depth=16, random_state=20, min_samples_split= 10)#new_best\n",
        "# dst3 = DecisionTreeClassifier(criterion= \"log_loss\", max_depth=17,random_state=10) #best till\n",
        "# dst3 = DecisionTreeClassifier(criterion= \"log_loss\", max_depth=15,random_state=10, min_samples_split = 10) #bad\n",
        "# dst3 = DecisionTreeClassifier(criterion= \"gini\", max_depth=17,random_state=10, min_samples_split = 10)\n",
        "# dst3 = DecisionTreeClassifier(criterion= \"log_loss\", max_depth=17,random_state=10, min_samples_split = 10) #bad\n",
        "model=dst3\n",
        "model.fit(X_train, y_train)\n",
        "preds = model.predict(Xt)\n",
        "\n",
        "prediction = pd.DataFrame(preds, columns=['pred'])\n",
        "prediction.value_counts()"
      ],
      "metadata": {
        "colab": {
          "base_uri": "https://localhost:8080/"
        },
        "id": "MdTfDgr3agJM",
        "outputId": "1309a1cf-5e2b-4fbc-e67b-d3ffaa9a8fb9"
      },
      "execution_count": 536,
      "outputs": [
        {
          "output_type": "execute_result",
          "data": {
            "text/plain": [
              "pred\n",
              "0       3086\n",
              "1        900\n",
              "dtype: int64"
            ]
          },
          "metadata": {},
          "execution_count": 536
        }
      ]
    },
    {
      "cell_type": "code",
      "source": [
        "# Specify the file path and name for the CSV file\n",
        "csv_file_path = \"output12.csv\"\n",
        "\n",
        "# Export the DataFrame to a CSV file\n",
        "prediction.to_csv(csv_file_path, index=False)"
      ],
      "metadata": {
        "id": "1ZQaOF3lWyAN"
      },
      "execution_count": 537,
      "outputs": []
    },
    {
      "cell_type": "code",
      "source": [
        "# from sklearn.feature_selection import SelectKBest, chi2\n",
        "# from sklearn.model_selection import GridSearchCV\n",
        "\n",
        "# selector = SelectKBest(chi2, k=10)  # Select top 10 features\n",
        "# X_train_selected = selector.fit_transform(X_train, y_train)\n",
        "\n",
        "# # Tune hyperparameters using grid search\n",
        "# param_grid = {'max_depth': [None, 5, 10, 20],\n",
        "#               'min_samples_split': [2, 5, 10],\n",
        "#               'min_samples_leaf': [1, 2, 4]}\n",
        "# grid_search = GridSearchCV(DecisionTreeClassifier(), param_grid, cv=5)\n",
        "# grid_search.fit(X_train_selected, y_train)\n",
        "# best_model = grid_search.best_estimator_\n",
        "\n",
        "# # Evaluate the model on the test set\n",
        "# X_test_selected = selector.transform(X_test)\n",
        "# y_pred = best_model.predict(X_test_selected)\n",
        "# accuracy = accuracy_score(y_test, y_pred)\n",
        "# print(\"Accuracy:\", accuracy)"
      ],
      "metadata": {
        "id": "5zqACtCLeF5f"
      },
      "execution_count": 538,
      "outputs": []
    },
    {
      "cell_type": "code",
      "source": [],
      "metadata": {
        "id": "m4QpbAOLPuPi"
      },
      "execution_count": null,
      "outputs": []
    }
  ],
  "metadata": {
    "colab": {
      "provenance": []
    },
    "kernelspec": {
      "display_name": "Python 3 (ipykernel)",
      "language": "python",
      "name": "python3"
    },
    "language_info": {
      "codemirror_mode": {
        "name": "ipython",
        "version": 3
      },
      "file_extension": ".py",
      "mimetype": "text/x-python",
      "name": "python",
      "nbconvert_exporter": "python",
      "pygments_lexer": "ipython3",
      "version": "3.9.12"
    }
  },
  "nbformat": 4,
  "nbformat_minor": 0
}